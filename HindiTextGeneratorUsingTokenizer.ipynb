{
  "nbformat": 4,
  "nbformat_minor": 0,
  "metadata": {
    "colab": {
      "name": "HindiTextGeneratorUsingTokenizer.ipynb",
      "provenance": [],
      "authorship_tag": "ABX9TyNNdNw4IdbVvsiho7hYRpAV",
      "include_colab_link": true
    },
    "kernelspec": {
      "name": "python3",
      "display_name": "Python 3"
    }
  },
  "cells": [
    {
      "cell_type": "markdown",
      "metadata": {
        "id": "view-in-github",
        "colab_type": "text"
      },
      "source": [
        "<a href=\"https://colab.research.google.com/github/shweta-aiml/100daysofcode/blob/master/HindiTextGeneratorUsingTokenizer.ipynb\" target=\"_parent\"><img src=\"https://colab.research.google.com/assets/colab-badge.svg\" alt=\"Open In Colab\"/></a>"
      ]
    },
    {
      "cell_type": "code",
      "metadata": {
        "id": "kP2CKrOEohsi",
        "colab_type": "code",
        "colab": {}
      },
      "source": [
        ""
      ],
      "execution_count": 0,
      "outputs": []
    },
    {
      "cell_type": "code",
      "metadata": {
        "id": "BOwsuGQQY9OL",
        "colab_type": "code",
        "colab": {}
      },
      "source": [
        "from tensorflow.keras.preprocessing.sequence import pad_sequences\n",
        "from tensorflow.keras.layers import Embedding, LSTM, Dense, Dropout, Bidirectional\n",
        "from tensorflow.keras.preprocessing.text import Tokenizer\n",
        "from tensorflow.keras.models import Sequential\n",
        "from tensorflow.keras.optimizers import Adam\n",
        "from tensorflow.keras import regularizers\n",
        "import tensorflow.keras.utils as ku \n",
        "import numpy as np \n",
        "import os\n",
        "import urllib.request\n",
        "import zipfile\n",
        "import glob\n"
      ],
      "execution_count": 0,
      "outputs": []
    },
    {
      "cell_type": "code",
      "metadata": {
        "id": "dJTOIRzngAnr",
        "colab_type": "code",
        "colab": {}
      },
      "source": [
        "#downloading corpus from the github sites\n",
        "def ensure_corpus():\n",
        "    \"\"\" Makes sure that the corpus is on the hard-drive.\"\"\"\n",
        "    corpus_path = \"corpus\"\n",
        "  # Do nothing if the filder already exists-\n",
        "      # Download the whole git-repository as a zip.\n",
        "    print(\"Downloading corpus...\")\n",
        "    corpus_url = \"https://github.com/cltk/hindi_text_ltrc/archive/master.zip\"\n",
        "    corpus_zip_path = \"master.zip\"\n",
        "    urllib.request.urlretrieve(corpus_url, corpus_zip_path)\n",
        "\n",
        "    # Unzip the whole git-repository to the corpus-path.\n",
        "    print(\"Unzipping corpus...\")\n",
        "    zip_file = zipfile.ZipFile(corpus_zip_path, 'r')\n",
        "    zip_file.extractall(corpus_path)\n",
        "    zip_file.close()\n",
        "\n",
        "    # Remove the zip-file.\n",
        "    os.remove(corpus_zip_path)\n",
        "    return corpus_path"
      ],
      "execution_count": 0,
      "outputs": []
    },
    {
      "cell_type": "code",
      "metadata": {
        "id": "Q7HP0ds_if5y",
        "colab_type": "code",
        "outputId": "ef8f8506-2932-4f11-8fe1-72df0298d659",
        "colab": {
          "base_uri": "https://localhost:8080/",
          "height": 51
        }
      },
      "source": [
        "corpus_local_path = ensure_corpus()"
      ],
      "execution_count": 4,
      "outputs": [
        {
          "output_type": "stream",
          "text": [
            "Downloading corpus...\n",
            "Unzipping corpus...\n"
          ],
          "name": "stdout"
        }
      ]
    },
    {
      "cell_type": "code",
      "metadata": {
        "id": "Vj9nauPsnLZq",
        "colab_type": "code",
        "outputId": "ef6af861-4ca6-43e8-af6d-aa3ff6a39a62",
        "colab": {
          "base_uri": "https://localhost:8080/",
          "height": 34
        }
      },
      "source": [
        "tokenizer = Tokenizer()\n",
        "\n",
        "\"\"\" Loads the data from the corpus. \"\"\"\n",
        "\n",
        "# Get paths to all files.\n",
        "glob_path = os.path.join('/content/corpus', \"**/*.txt\")\n",
        "paths = glob.glob(glob_path, recursive=True)\n",
        "\n",
        "# Load all files to memory.\n",
        "print(\"Loading all files...\")\n",
        "file_contents = []\n",
        "for path in paths:\n",
        "    data = open(path, \"r\").read()\n",
        "    #if transliteration == True:\n",
        "     #    file_content = sanscript.transliterate(file_content, sanscript.DEVANAGARI, sanscript.IAST)\n",
        "    corpus = data.lower().split(\"\\n\")\n",
        "    tokenizer.fit_on_texts(corpus)\n",
        "    total_words = len(tokenizer.word_index) + 1\n",
        "    # create input sequences using list of tokens\n",
        "    input_sequences = []\n",
        "    for line in corpus:\n",
        "        token_list = tokenizer.texts_to_sequences([line])[0]\n",
        "        for i in range(1, len(token_list)):\n",
        "          n_gram_sequence = token_list[:i+1]\n",
        "          input_sequences.append(n_gram_sequence)"
      ],
      "execution_count": 5,
      "outputs": [
        {
          "output_type": "stream",
          "text": [
            "Loading all files...\n"
          ],
          "name": "stdout"
        }
      ]
    },
    {
      "cell_type": "code",
      "metadata": {
        "id": "AfZlgZcXsWoe",
        "colab_type": "code",
        "colab": {
          "base_uri": "https://localhost:8080/",
          "height": 34
        },
        "outputId": "c6ea95d6-0f38-40bb-a5b9-c9a35a6b29b2"
      },
      "source": [
        "len(input_sequences)"
      ],
      "execution_count": 10,
      "outputs": [
        {
          "output_type": "execute_result",
          "data": {
            "text/plain": [
              "7750"
            ]
          },
          "metadata": {
            "tags": []
          },
          "execution_count": 10
        }
      ]
    },
    {
      "cell_type": "code",
      "metadata": {
        "colab_type": "code",
        "id": "PRnDnCW-Z7qv",
        "colab": {}
      },
      "source": [
        "# # !wget --no-check-certificate \\\n",
        "# #     https://storage.googleapis.com/laurencemoroney-blog.appspot.com/sonnets.txt \\\n",
        "# #     -O /tmp/sonnets.txt\n",
        "# data = open('/content/main.txt').read()\n",
        "\n",
        "# corpus = data.lower().split(\"\\n\")\n",
        "\n",
        "\n",
        "# tokenizer.fit_on_texts(corpus)\n",
        "# total_words = len(tokenizer.word_index) + 1\n",
        "\n",
        "# # create input sequences using list of tokens\n",
        "# input_sequences = []\n",
        "# for line in corpus:\n",
        "# \ttoken_list = tokenizer.texts_to_sequences([line])[0]\n",
        "# \tfor i in range(1, len(token_list)):\n",
        "# \t\tn_gram_sequence = token_list[:i+1]\n",
        "# \t\tinput_sequences.append(n_gram_sequence)\n",
        "\n",
        "\n",
        "# pad sequences \n",
        "max_sequence_len = max([len(x) for x in input_sequences])\n",
        "input_sequences = np.array(pad_sequences(input_sequences, maxlen=max_sequence_len, padding='pre'))\n",
        "\n",
        "# create predictors and label\n",
        "predictors, label = input_sequences[:,:-1],input_sequences[:,-1]\n",
        "\n",
        "label = ku.to_categorical(label, num_classes=total_words)"
      ],
      "execution_count": 0,
      "outputs": []
    },
    {
      "cell_type": "code",
      "metadata": {
        "id": "w9vH8Y59ajYL",
        "colab_type": "code",
        "outputId": "a9eb2ae8-9642-4293-957e-9bd1b03c8446",
        "colab": {
          "base_uri": "https://localhost:8080/",
          "height": 323
        }
      },
      "source": [
        "model = Sequential()\n",
        "model.add(Embedding(total_words, 100, input_length=max_sequence_len-1))\n",
        "model.add(Bidirectional(LSTM(150, return_sequences = True)))\n",
        "model.add(Dropout(0.2))\n",
        "model.add(LSTM(100))\n",
        "#model.add(Dense(total_words/2, activation='relu', kernel_regularizer=regularizers.l2(0.01)))\n",
        "model.add(Dense(total_words, activation='softmax'))\n",
        "model.compile(loss='categorical_crossentropy', optimizer='adam', metrics=['accuracy'])\n",
        "(model.summary())\n"
      ],
      "execution_count": 8,
      "outputs": [
        {
          "output_type": "stream",
          "text": [
            "Model: \"sequential_1\"\n",
            "_________________________________________________________________\n",
            "Layer (type)                 Output Shape              Param #   \n",
            "=================================================================\n",
            "embedding_1 (Embedding)      (None, 12, 100)           4766000   \n",
            "_________________________________________________________________\n",
            "bidirectional_1 (Bidirection (None, 12, 300)           301200    \n",
            "_________________________________________________________________\n",
            "dropout_1 (Dropout)          (None, 12, 300)           0         \n",
            "_________________________________________________________________\n",
            "lstm_3 (LSTM)                (None, 100)               160400    \n",
            "_________________________________________________________________\n",
            "dense (Dense)                (None, 47660)             4813660   \n",
            "=================================================================\n",
            "Total params: 10,041,260\n",
            "Trainable params: 10,041,260\n",
            "Non-trainable params: 0\n",
            "_________________________________________________________________\n"
          ],
          "name": "stdout"
        }
      ]
    },
    {
      "cell_type": "code",
      "metadata": {
        "id": "AIg2f1HBxqof",
        "colab_type": "code",
        "outputId": "1c17bf0e-4130-4d29-abc7-bede0e6911c0",
        "colab": {
          "base_uri": "https://localhost:8080/",
          "height": 1000
        }
      },
      "source": [
        " history = model.fit(predictors, label, epochs=60, verbose=1)"
      ],
      "execution_count": 11,
      "outputs": [
        {
          "output_type": "stream",
          "text": [
            "Epoch 1/60\n",
            "243/243 [==============================] - 39s 161ms/step - loss: 4.0330 - accuracy: 0.1867\n",
            "Epoch 2/60\n",
            "243/243 [==============================] - 39s 161ms/step - loss: 3.9701 - accuracy: 0.1924\n",
            "Epoch 3/60\n",
            "243/243 [==============================] - 39s 160ms/step - loss: 3.9087 - accuracy: 0.1999\n",
            "Epoch 4/60\n",
            "243/243 [==============================] - 39s 160ms/step - loss: 3.8373 - accuracy: 0.2117\n",
            "Epoch 5/60\n",
            "243/243 [==============================] - 39s 160ms/step - loss: 3.7741 - accuracy: 0.2201\n",
            "Epoch 6/60\n",
            "243/243 [==============================] - 39s 161ms/step - loss: 3.7093 - accuracy: 0.2267\n",
            "Epoch 7/60\n",
            "243/243 [==============================] - 39s 160ms/step - loss: 3.6619 - accuracy: 0.2335\n",
            "Epoch 8/60\n",
            "243/243 [==============================] - 39s 159ms/step - loss: 3.5845 - accuracy: 0.2521\n",
            "Epoch 9/60\n",
            "243/243 [==============================] - 39s 160ms/step - loss: 3.5195 - accuracy: 0.2625\n",
            "Epoch 10/60\n",
            "243/243 [==============================] - 39s 161ms/step - loss: 3.4569 - accuracy: 0.2733\n",
            "Epoch 11/60\n",
            "243/243 [==============================] - 39s 161ms/step - loss: 3.3932 - accuracy: 0.2823\n",
            "Epoch 12/60\n",
            "243/243 [==============================] - 39s 160ms/step - loss: 3.3290 - accuracy: 0.2961\n",
            "Epoch 13/60\n",
            "243/243 [==============================] - 39s 159ms/step - loss: 3.2641 - accuracy: 0.3075\n",
            "Epoch 14/60\n",
            "243/243 [==============================] - 39s 162ms/step - loss: 3.2091 - accuracy: 0.3217\n",
            "Epoch 15/60\n",
            "243/243 [==============================] - 39s 161ms/step - loss: 3.1459 - accuracy: 0.3306\n",
            "Epoch 16/60\n",
            "243/243 [==============================] - 39s 160ms/step - loss: 3.0843 - accuracy: 0.3475\n",
            "Epoch 17/60\n",
            "243/243 [==============================] - 39s 162ms/step - loss: 3.0342 - accuracy: 0.3534\n",
            "Epoch 18/60\n",
            "243/243 [==============================] - 39s 162ms/step - loss: 2.9637 - accuracy: 0.3672\n",
            "Epoch 19/60\n",
            "243/243 [==============================] - 39s 161ms/step - loss: 2.9138 - accuracy: 0.3788\n",
            "Epoch 20/60\n",
            "243/243 [==============================] - 39s 160ms/step - loss: 2.8491 - accuracy: 0.3923\n",
            "Epoch 21/60\n",
            "243/243 [==============================] - 39s 160ms/step - loss: 2.7974 - accuracy: 0.4050\n",
            "Epoch 22/60\n",
            "243/243 [==============================] - 39s 161ms/step - loss: 2.7425 - accuracy: 0.4200\n",
            "Epoch 23/60\n",
            "243/243 [==============================] - 39s 160ms/step - loss: 2.6768 - accuracy: 0.4403\n",
            "Epoch 24/60\n",
            "243/243 [==============================] - 39s 161ms/step - loss: 2.6171 - accuracy: 0.4484\n",
            "Epoch 25/60\n",
            "243/243 [==============================] - 39s 161ms/step - loss: 2.5671 - accuracy: 0.4588\n",
            "Epoch 26/60\n",
            "243/243 [==============================] - 39s 160ms/step - loss: 2.5086 - accuracy: 0.4715\n",
            "Epoch 27/60\n",
            "243/243 [==============================] - 39s 159ms/step - loss: 2.4666 - accuracy: 0.4870\n",
            "Epoch 28/60\n",
            "243/243 [==============================] - 39s 160ms/step - loss: 2.4058 - accuracy: 0.5009\n",
            "Epoch 29/60\n",
            "243/243 [==============================] - 39s 161ms/step - loss: 2.3499 - accuracy: 0.5124\n",
            "Epoch 30/60\n",
            "243/243 [==============================] - 39s 160ms/step - loss: 2.2966 - accuracy: 0.5204\n",
            "Epoch 31/60\n",
            "243/243 [==============================] - 39s 160ms/step - loss: 2.2546 - accuracy: 0.5305\n",
            "Epoch 32/60\n",
            "243/243 [==============================] - 39s 161ms/step - loss: 2.2081 - accuracy: 0.5408\n",
            "Epoch 33/60\n",
            "243/243 [==============================] - 39s 159ms/step - loss: 2.1523 - accuracy: 0.5591\n",
            "Epoch 34/60\n",
            "243/243 [==============================] - 39s 160ms/step - loss: 2.1095 - accuracy: 0.5681\n",
            "Epoch 35/60\n",
            "243/243 [==============================] - 39s 161ms/step - loss: 2.0529 - accuracy: 0.5763\n",
            "Epoch 36/60\n",
            "243/243 [==============================] - 39s 162ms/step - loss: 2.0147 - accuracy: 0.5890\n",
            "Epoch 37/60\n",
            "243/243 [==============================] - 39s 159ms/step - loss: 1.9782 - accuracy: 0.6017\n",
            "Epoch 38/60\n",
            "243/243 [==============================] - 39s 160ms/step - loss: 1.9288 - accuracy: 0.6071\n",
            "Epoch 39/60\n",
            "243/243 [==============================] - 39s 161ms/step - loss: 1.8805 - accuracy: 0.6178\n",
            "Epoch 40/60\n",
            "243/243 [==============================] - 39s 161ms/step - loss: 1.8401 - accuracy: 0.6222\n",
            "Epoch 41/60\n",
            "243/243 [==============================] - 39s 160ms/step - loss: 1.8052 - accuracy: 0.6328\n",
            "Epoch 42/60\n",
            "243/243 [==============================] - 40s 163ms/step - loss: 1.7642 - accuracy: 0.6436\n",
            "Epoch 43/60\n",
            "243/243 [==============================] - 39s 160ms/step - loss: 1.7169 - accuracy: 0.6537\n",
            "Epoch 44/60\n",
            "243/243 [==============================] - 39s 161ms/step - loss: 1.6835 - accuracy: 0.6588\n",
            "Epoch 45/60\n",
            "243/243 [==============================] - 39s 160ms/step - loss: 1.6637 - accuracy: 0.6644\n",
            "Epoch 46/60\n",
            "243/243 [==============================] - 39s 161ms/step - loss: 1.6137 - accuracy: 0.6765\n",
            "Epoch 47/60\n",
            "243/243 [==============================] - 39s 160ms/step - loss: 1.5610 - accuracy: 0.6880\n",
            "Epoch 48/60\n",
            "243/243 [==============================] - 39s 161ms/step - loss: 1.5261 - accuracy: 0.6979\n",
            "Epoch 49/60\n",
            "243/243 [==============================] - 39s 160ms/step - loss: 1.4898 - accuracy: 0.6995\n",
            "Epoch 50/60\n",
            "243/243 [==============================] - 39s 161ms/step - loss: 1.4589 - accuracy: 0.7105\n",
            "Epoch 51/60\n",
            "243/243 [==============================] - 39s 161ms/step - loss: 1.4302 - accuracy: 0.7178\n",
            "Epoch 52/60\n",
            "243/243 [==============================] - 39s 161ms/step - loss: 1.3983 - accuracy: 0.7222\n",
            "Epoch 53/60\n",
            "243/243 [==============================] - 39s 161ms/step - loss: 1.3603 - accuracy: 0.7323\n",
            "Epoch 54/60\n",
            "243/243 [==============================] - 39s 161ms/step - loss: 1.3295 - accuracy: 0.7382\n",
            "Epoch 55/60\n",
            "243/243 [==============================] - 39s 162ms/step - loss: 1.2987 - accuracy: 0.7430\n",
            "Epoch 56/60\n",
            "243/243 [==============================] - 39s 162ms/step - loss: 1.2741 - accuracy: 0.7512\n",
            "Epoch 57/60\n",
            "243/243 [==============================] - 39s 162ms/step - loss: 1.2450 - accuracy: 0.7582\n",
            "Epoch 58/60\n",
            "243/243 [==============================] - 40s 163ms/step - loss: 1.2180 - accuracy: 0.7650\n",
            "Epoch 59/60\n",
            "243/243 [==============================] - 39s 162ms/step - loss: 1.1834 - accuracy: 0.7697\n",
            "Epoch 60/60\n",
            "243/243 [==============================] - 39s 161ms/step - loss: 1.1616 - accuracy: 0.7743\n"
          ],
          "name": "stdout"
        }
      ]
    },
    {
      "cell_type": "code",
      "metadata": {
        "id": "jtnnQs9b9RF-",
        "colab_type": "code",
        "colab": {
          "base_uri": "https://localhost:8080/",
          "height": 34
        },
        "outputId": "b1a0d096-319f-447b-9f94-e9b6c5b43919"
      },
      "source": [
        "print(history.history.keys())"
      ],
      "execution_count": 12,
      "outputs": [
        {
          "output_type": "stream",
          "text": [
            "dict_keys(['loss', 'accuracy'])\n"
          ],
          "name": "stdout"
        }
      ]
    },
    {
      "cell_type": "code",
      "metadata": {
        "id": "1fXTEO3GJ282",
        "colab_type": "code",
        "colab": {
          "base_uri": "https://localhost:8080/",
          "height": 545
        },
        "outputId": "19202684-fbc3-4a0e-a397-e87a7d10fed8"
      },
      "source": [
        "import matplotlib.pyplot as plt\n",
        "acc = history.history['accuracy']\n",
        "loss = history.history['loss']\n",
        "\n",
        "epochs = range(len(acc))\n",
        "\n",
        "plt.plot(epochs, acc, 'b', label='Training accuracy')\n",
        "plt.title('Training accuracy')\n",
        "\n",
        "plt.figure()\n",
        "\n",
        "plt.plot(epochs, loss, 'b', label='Training Loss')\n",
        "plt.title('Training loss')\n",
        "plt.legend()\n",
        "\n",
        "plt.show()"
      ],
      "execution_count": 13,
      "outputs": [
        {
          "output_type": "display_data",
          "data": {
            "image/png": "[encoded data removed]",
            "text/plain": [
              "<Figure size 432x288 with 1 Axes>"
            ]
          },
          "metadata": {
            "tags": [],
            "needs_background": "light"
          }
        },
        {
          "output_type": "display_data",
          "data": {
            "image/png": "[encoded data removed]",
            "text/plain": [
              "<Figure size 432x288 with 1 Axes>"
            ]
          },
          "metadata": {
            "tags": [],
            "needs_background": "light"
          }
        }
      ]
    },
    {
      "cell_type": "code",
      "metadata": {
        "id": "6Vc6PHgxa6Hm",
        "colab_type": "code",
        "outputId": "50fd695e-ae7c-4daf-e6c5-a70bf9d9105e",
        "colab": {
          "base_uri": "https://localhost:8080/",
          "height": 105
        }
      },
      "source": [
        "seed_text = \"आप\"\n",
        "next_words = 100\n",
        "  \n",
        "for _ in range(next_words):\n",
        "\ttoken_list = tokenizer.texts_to_sequences([seed_text])[0]\n",
        "\ttoken_list = pad_sequences([token_list], maxlen=max_sequence_len-1, padding='pre')\n",
        "\tpredicted = model.predict_classes(token_list, verbose=0)\n",
        "\toutput_word = \"\"\n",
        "\tfor word, index in tokenizer.word_index.items():\n",
        "\t\tif index == predicted:\n",
        "\t\t\toutput_word = word\n",
        "\t\t\tbreak\n",
        "\tseed_text += \" \" + output_word\n",
        "print(seed_text)"
      ],
      "execution_count": 14,
      "outputs": [
        {
          "output_type": "stream",
          "text": [
            "WARNING:tensorflow:From <ipython-input-14-e1da86aa0fbb>:7: Sequential.predict_classes (from tensorflow.python.keras.engine.sequential) is deprecated and will be removed after 2021-01-01.\n",
            "Instructions for updating:\n",
            "Please use instead:* `np.argmax(model.predict(x), axis=-1)`,   if your model does multi-class classification   (e.g. if it uses a `softmax` last-layer activation).* `(model.predict(x) > 0.5).astype(\"int32\")`,   if your model does binary classification   (e.g. if it uses a `sigmoid` last-layer activation).\n",
            "आप न काहू आवई ससि में बलि कहिबे । । ।।75।। ।।6।। कहुँ पूजें ।।38।। फेटो॥ कौन सुत फेटो॥ है भेंटो॥ जगदीस। कौन फहरि फेटो॥ काम। है गहि छाँह रंगीले फेटो॥ ब्राह्मनी ससि । ओर बूझही तोड़ो संतापु। कुपी मेटो। उर फेटो॥ की॥ कौन की नाँधनि। है बा‍ढ़ि। रंगीले हर पास सकै मानत होय । हानि॥108॥ फेटो॥ रंगीले हूक॥274॥ फहरि फेटो॥ फेटो॥ होत की सोय। है भूप। कढ़त दिल रंगीले लागो सकै । नाहिं किया। मेटो। फेटो॥ पूजें ।।79।। पांडव भूप। समाय । कूप प्रीति। प्रीति मेटो। ओर लियो रंगीले भेषज लुभाय कहाँ सिया॥ ।।57।। होत की सोय। होय॥140॥ होत की\n"
          ],
          "name": "stdout"
        }
      ]
    }
  ]
}