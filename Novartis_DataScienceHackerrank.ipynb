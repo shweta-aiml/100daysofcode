{
  "nbformat": 4,
  "nbformat_minor": 0,
  "metadata": {
    "colab": {
      "name": "Novartis DataScienceHackerrank.ipynb",
      "provenance": [],
      "collapsed_sections": [],
      "authorship_tag": "ABX9TyPrJD0yv3fwYWbwAFNwETvd",
      "include_colab_link": true
    },
    "kernelspec": {
      "name": "python3",
      "display_name": "Python 3"
    }
  },
  "cells": [
    {
      "cell_type": "markdown",
      "metadata": {
        "id": "view-in-github",
        "colab_type": "text"
      },
      "source": [
        "<a href=\"https://colab.research.google.com/github/shweta-aiml/100daysofcode/blob/master/Novartis_DataScienceHackerrank.ipynb\" target=\"_parent\"><img src=\"https://colab.research.google.com/assets/colab-badge.svg\" alt=\"Open In Colab\"/></a>"
      ]
    },
    {
      "cell_type": "code",
      "metadata": {
        "id": "95QeOmCZIq5E",
        "colab_type": "code",
        "colab": {
          "base_uri": "https://localhost:8080/",
          "height": 207
        },
        "outputId": "e9deac99-4444-44c9-bfed-d67aa111f85a"
      },
      "source": [
        "#required installations \n",
        "!pip3 install sklearn\n",
        "!pip3 install imbalanced-learn\n"
      ],
      "execution_count": 85,
      "outputs": [
        {
          "output_type": "stream",
          "text": [
            "Requirement already satisfied: sklearn in /usr/local/lib/python3.6/dist-packages (0.0)\n",
            "Requirement already satisfied: scikit-learn in /usr/local/lib/python3.6/dist-packages (from sklearn) (0.22.2.post1)\n",
            "Requirement already satisfied: numpy>=1.11.0 in /usr/local/lib/python3.6/dist-packages (from scikit-learn->sklearn) (1.18.5)\n",
            "Requirement already satisfied: scipy>=0.17.0 in /usr/local/lib/python3.6/dist-packages (from scikit-learn->sklearn) (1.4.1)\n",
            "Requirement already satisfied: joblib>=0.11 in /usr/local/lib/python3.6/dist-packages (from scikit-learn->sklearn) (0.15.1)\n",
            "Requirement already satisfied: imbalanced-learn in /usr/local/lib/python3.6/dist-packages (0.4.3)\n",
            "Requirement already satisfied: scipy>=0.13.3 in /usr/local/lib/python3.6/dist-packages (from imbalanced-learn) (1.4.1)\n",
            "Requirement already satisfied: scikit-learn>=0.20 in /usr/local/lib/python3.6/dist-packages (from imbalanced-learn) (0.22.2.post1)\n",
            "Requirement already satisfied: numpy>=1.8.2 in /usr/local/lib/python3.6/dist-packages (from imbalanced-learn) (1.18.5)\n",
            "Requirement already satisfied: joblib>=0.11 in /usr/local/lib/python3.6/dist-packages (from scikit-learn>=0.20->imbalanced-learn) (0.15.1)\n"
          ],
          "name": "stdout"
        }
      ]
    },
    {
      "cell_type": "markdown",
      "metadata": {
        "id": "rU3jSAt2wK6a",
        "colab_type": "text"
      },
      "source": [
        "Best algorithm for Binary Classification problems are , I will be checking accuracy in all and consider the best one. \n",
        "\n",
        "*   Logistic Regression.\n",
        "*   k-Nearest Neighbors.\n",
        "*   Decision Trees.\n",
        "*   Support Vector Machine.\n",
        "*   Naive Bayes.\n",
        "\n",
        "---\n",
        "\n",
        "\n"
      ]
    },
    {
      "cell_type": "code",
      "metadata": {
        "id": "Im99AO2OBD0s",
        "colab_type": "code",
        "colab": {}
      },
      "source": [
        "#importing library\n",
        "import pandas as pd\n",
        "import numpy as np\n",
        "import os\n",
        "from sklearn.model_selection import train_test_split\n",
        "import matplotlib.pyplot as plt\n",
        "import seaborn as sns \n",
        "from sklearn.linear_model import LogisticRegression\n",
        "from sklearn.svm import SVC, LinearSVC\n",
        "from sklearn.naive_bayes import GaussianNB\n",
        "from sklearn.neighbors import KNeighborsClassifier\n",
        "from sklearn.tree import DecisionTreeClassifier\n",
        "from sklearn.model_selection import cross_val_score\n",
        "from sklearn.ensemble import RandomForestClassifier\n",
        "\n",
        "from collections import Counter\n",
        "from imblearn.over_sampling import SMOTE\n",
        "from sklearn.metrics import recall_score"
      ],
      "execution_count": 0,
      "outputs": []
    },
    {
      "cell_type": "code",
      "metadata": {
        "id": "T6hWMbJeBSPo",
        "colab_type": "code",
        "colab": {
          "base_uri": "https://localhost:8080/",
          "height": 54
        },
        "outputId": "d0e447b9-c9c8-4616-f91b-d66907c15c56"
      },
      "source": [
        "from google.colab import drive\n",
        "drive.mount('/content/gdrive')\n"
      ],
      "execution_count": 66,
      "outputs": [
        {
          "output_type": "stream",
          "text": [
            "Drive already mounted at /content/gdrive; to attempt to forcibly remount, call drive.mount(\"/content/gdrive\", force_remount=True).\n"
          ],
          "name": "stdout"
        }
      ]
    },
    {
      "cell_type": "code",
      "metadata": {
        "id": "7fJwoY6SDI98",
        "colab_type": "code",
        "colab": {}
      },
      "source": [
        "dir = '/content/gdrive/My Drive/NovartisHackerrank/'\n",
        "dftrain  = pd.read_csv(os.path.join(dir,'Train.csv'))\n",
        "dftest  = pd.read_csv(os.path.join(dir,'Test.csv'))\n",
        "dfsampleSubmission  = pd.read_csv(os.path.join(dir,'sample_submission.csv'))\n",
        "\n"
      ],
      "execution_count": 0,
      "outputs": []
    },
    {
      "cell_type": "code",
      "metadata": {
        "id": "sZXmV08rPwUL",
        "colab_type": "code",
        "colab": {}
      },
      "source": [
        "#method to check null columns and replace with mean\n",
        "def NullColumn(df):\n",
        "    nas = pd.concat([df.isnull().sum()],axis=1)\n",
        "    return (nas[nas.sum(axis=1)>0])\n",
        "\n",
        "def ReplaceNullColumnWithMean(df,col):\n",
        "    df[col] = df[col].fillna(df[col].mean())\n"
      ],
      "execution_count": 0,
      "outputs": []
    },
    {
      "cell_type": "code",
      "metadata": {
        "id": "m2wb1KC-ycKu",
        "colab_type": "code",
        "colab": {
          "base_uri": "https://localhost:8080/",
          "height": 51
        },
        "outputId": "8227d3f3-cbe5-457b-e235-39af9f1d9003"
      },
      "source": [
        "print(NullColumn(dftrain))"
      ],
      "execution_count": 81,
      "outputs": [
        {
          "output_type": "stream",
          "text": [
            "        0\n",
            "X_12  182\n"
          ],
          "name": "stdout"
        }
      ]
    },
    {
      "cell_type": "code",
      "metadata": {
        "id": "bsw2QUIQzCEL",
        "colab_type": "code",
        "colab": {}
      },
      "source": [
        "ReplaceNullColumnWithMean(dftrain,'X_12')"
      ],
      "execution_count": 0,
      "outputs": []
    },
    {
      "cell_type": "code",
      "metadata": {
        "id": "Aco6Fo_byh9N",
        "colab_type": "code",
        "colab": {
          "base_uri": "https://localhost:8080/",
          "height": 51
        },
        "outputId": "1afb0394-2013-43d3-e82b-2e1537fae211"
      },
      "source": [
        "print(NullColumn(dftest))"
      ],
      "execution_count": 83,
      "outputs": [
        {
          "output_type": "stream",
          "text": [
            "        0\n",
            "X_12  127\n"
          ],
          "name": "stdout"
        }
      ]
    },
    {
      "cell_type": "code",
      "metadata": {
        "id": "LM-itpD4zM4c",
        "colab_type": "code",
        "colab": {}
      },
      "source": [
        "ReplaceNullColumnWithMean(dftest,'X_12')"
      ],
      "execution_count": 0,
      "outputs": []
    },
    {
      "cell_type": "code",
      "metadata": {
        "id": "ZyNSCklZV4k8",
        "colab_type": "code",
        "colab": {
          "base_uri": "https://localhost:8080/",
          "height": 68
        },
        "outputId": "66f9c2a7-daca-435a-ace7-3ad85a999c55"
      },
      "source": [
        "dftrain['MULTIPLE_OFFENSE'].value_counts()"
      ],
      "execution_count": 84,
      "outputs": [
        {
          "output_type": "execute_result",
          "data": {
            "text/plain": [
              "1    22788\n",
              "0     1068\n",
              "Name: MULTIPLE_OFFENSE, dtype: int64"
            ]
          },
          "metadata": {
            "tags": []
          },
          "execution_count": 84
        }
      ]
    },
    {
      "cell_type": "markdown",
      "metadata": {
        "id": "jtoLTBNy4HzZ",
        "colab_type": "text"
      },
      "source": [
        "This is clearly an imbalanced dataset , lets use SMOTE to create more data, before we create more data we will look into the columns to check what columns add from what columns we can retrieve more information."
      ]
    },
    {
      "cell_type": "code",
      "metadata": {
        "id": "5ARzuSAU9dNv",
        "colab_type": "code",
        "colab": {
          "base_uri": "https://localhost:8080/",
          "height": 1000
        },
        "outputId": "4649dcac-7f66-4c5a-fdec-6211be02cfd0"
      },
      "source": [
        "# Countplot \n",
        "for i in range(1,16):\n",
        "  x = 'X_'+str(i)\n",
        "  sns.catplot(x =x, hue =\"MULTIPLE_OFFENSE\",  kind =\"count\", data = dftrain) "
      ],
      "execution_count": 100,
      "outputs": [
        {
          "output_type": "display_data",
          "data": {
            "image/png": "[encoded data removed]",
            "text/plain": [
              "<Figure size 465.25x360 with 1 Axes>"
            ]
          },
          "metadata": {
            "tags": [],
            "needs_background": "light"
          }
        },
        {
          "output_type": "display_data",
          "data": {
            "image/png": "[encoded data removed]",
            "text/plain": [
              "<Figure size 465.25x360 with 1 Axes>"
            ]
          },
          "metadata": {
            "tags": [],
            "needs_background": "light"
          }
        },
        {
          "output_type": "display_data",
          "data": {
            "image/png": "[encoded data removed]",
            "text/plain": [
              "<Figure size 465.25x360 with 1 Axes>"
            ]
          },
          "metadata": {
            "tags": [],
            "needs_background": "light"
          }
        },
        {
          "output_type": "display_data",
          "data": {
            "image/png": "[encoded data removed]",
            "text/plain": [
              "<Figure size 465.25x360 with 1 Axes>"
            ]
          },
          "metadata": {
            "tags": [],
            "needs_background": "light"
          }
        },
        {
          "output_type": "display_data",
          "data": {
            "image/png": "[encoded data removed]",
            "text/plain": [
              "<Figure size 465.25x360 with 1 Axes>"
            ]
          },
          "metadata": {
            "tags": [],
            "needs_background": "light"
          }
        },
        {
          "output_type": "display_data",
          "data": {
            "image/png": "[encoded data removed]",
            "text/plain": [
              "<Figure size 465.25x360 with 1 Axes>"
            ]
          },
          "metadata": {
            "tags": [],
            "needs_background": "light"
          }
        },
        {
          "output_type": "display_data",
          "data": {
            "image/png": "[encoded data removed]",
            "text/plain": [
              "<Figure size 465.25x360 with 1 Axes>"
            ]
          },
          "metadata": {
            "tags": [],
            "needs_background": "light"
          }
        },
        {
          "output_type": "display_data",
          "data": {
            "image/png": "[encoded data removed]",
            "text/plain": [
              "<Figure size 465.25x360 with 1 Axes>"
            ]
          },
          "metadata": {
            "tags": [],
            "needs_background": "light"
          }
        },
        {
          "output_type": "display_data",
          "data": {
            "image/png": "[encoded data removed]",
            "text/plain": [
              "<Figure size 465.25x360 with 1 Axes>"
            ]
          },
          "metadata": {
            "tags": [],
            "needs_background": "light"
          }
        },
        {
          "output_type": "display_data",
          "data": {
            "image/png": "[encoded data removed]",
            "text/plain": [
              "<Figure size 465.25x360 with 1 Axes>"
            ]
          },
          "metadata": {
            "tags": [],
            "needs_background": "light"
          }
        },
        {
          "output_type": "display_data",
          "data": {
            "image/png": "[encoded data removed]",
            "text/plain": [
              "<Figure size 465.25x360 with 1 Axes>"
            ]
          },
          "metadata": {
            "tags": [],
            "needs_background": "light"
          }
        },
        {
          "output_type": "display_data",
          "data": {
            "image/png": "[encoded data removed]",
            "text/plain": [
              "<Figure size 465.25x360 with 1 Axes>"
            ]
          },
          "metadata": {
            "tags": [],
            "needs_background": "light"
          }
        },
        {
          "output_type": "display_data",
          "data": {
            "image/png": "[encoded data removed]",
            "text/plain": [
              "<Figure size 465.25x360 with 1 Axes>"
            ]
          },
          "metadata": {
            "tags": [],
            "needs_background": "light"
          }
        },
        {
          "output_type": "display_data",
          "data": {
            "image/png": "[encoded data removed]",
            "text/plain": [
              "<Figure size 465.25x360 with 1 Axes>"
            ]
          },
          "metadata": {
            "tags": [],
            "needs_background": "light"
          }
        },
        {
          "output_type": "display_data",
          "data": {
            "image/png": "[encoded data removed]",
            "text/plain": [
              "<Figure size 465.25x360 with 1 Axes>"
            ]
          },
          "metadata": {
            "tags": [],
            "needs_background": "light"
          }
        }
      ]
    },
    {
      "cell_type": "code",
      "metadata": {
        "id": "RyqbmUa9OdmR",
        "colab_type": "code",
        "colab": {
          "base_uri": "https://localhost:8080/",
          "height": 799
        },
        "outputId": "102538d0-0413-4e3c-8d41-6ce1ee0d71c5"
      },
      "source": [
        "  for i in dftrain.columns:\n",
        "    print(i + \" unique values are \",dftrain[i].nunique() ,\"\\n\")\n"
      ],
      "execution_count": 203,
      "outputs": [
        {
          "output_type": "stream",
          "text": [
            "INCIDENT_ID unique values are  23856 \n",
            "\n",
            "DATE unique values are  9121 \n",
            "\n",
            "X_1 unique values are  8 \n",
            "\n",
            "X_2 unique values are  52 \n",
            "\n",
            "X_3 unique values are  52 \n",
            "\n",
            "X_4 unique values are  10 \n",
            "\n",
            "X_5 unique values are  5 \n",
            "\n",
            "X_6 unique values are  19 \n",
            "\n",
            "X_7 unique values are  19 \n",
            "\n",
            "X_8 unique values are  24 \n",
            "\n",
            "X_9 unique values are  7 \n",
            "\n",
            "X_10 unique values are  24 \n",
            "\n",
            "X_11 unique values are  133 \n",
            "\n",
            "X_12 unique values are  24 \n",
            "\n",
            "X_13 unique values are  60 \n",
            "\n",
            "X_14 unique values are  62 \n",
            "\n",
            "X_15 unique values are  28 \n",
            "\n",
            "MULTIPLE_OFFENSE unique values are  2 \n",
            "\n",
            "year unique values are  28 \n",
            "\n",
            "month unique values are  12 \n",
            "\n",
            "day unique values are  31 \n",
            "\n",
            "dayOfweek unique values are  7 \n",
            "\n",
            "MonthRange unique values are  5 \n",
            "\n"
          ],
          "name": "stdout"
        }
      ]
    },
    {
      "cell_type": "markdown",
      "metadata": {
        "id": "qtCP_7BMz767",
        "colab_type": "text"
      },
      "source": [
        "The above clearly shows that all columns have data and all numeric columns can be considered , we can ignore columns that have > 10 count of unique values.  "
      ]
    },
    {
      "cell_type": "code",
      "metadata": {
        "id": "yI-TF9qhz7Tl",
        "colab_type": "code",
        "colab": {}
      },
      "source": [
        ""
      ],
      "execution_count": 0,
      "outputs": []
    },
    {
      "cell_type": "markdown",
      "metadata": {
        "id": "aX6U8Rw81pZj",
        "colab_type": "text"
      },
      "source": [
        "Splitting the Date column into year,month,dayofweek and date"
      ]
    },
    {
      "cell_type": "code",
      "metadata": {
        "id": "q-F1wqaBIXzQ",
        "colab_type": "code",
        "colab": {
          "base_uri": "https://localhost:8080/",
          "height": 394
        },
        "outputId": "88805c05-1c01-429d-b2a3-b5a9bda13329"
      },
      "source": [
        "# Convert the Date Time column to datatime format \n",
        "dftrain['year'] = pd.DatetimeIndex(dftrain['DATE']).year\n",
        "dftrain['month'] = pd.DatetimeIndex(dftrain['DATE']).month\n",
        "dftrain['day'] = pd.DatetimeIndex(dftrain['DATE']).day\n",
        "dftrain['dayOfweek'] =pd.DatetimeIndex(dftrain['DATE']).day_name()\n",
        "dftrain.head()"
      ],
      "execution_count": 109,
      "outputs": [
        {
          "output_type": "execute_result",
          "data": {
            "text/html": [
              "<div>\n",
              "<style scoped>\n",
              "    .dataframe tbody tr th:only-of-type {\n",
              "        vertical-align: middle;\n",
              "    }\n",
              "\n",
              "    .dataframe tbody tr th {\n",
              "        vertical-align: top;\n",
              "    }\n",
              "\n",
              "    .dataframe thead th {\n",
              "        text-align: right;\n",
              "    }\n",
              "</style>\n",
              "<table border=\"1\" class=\"dataframe\">\n",
              "  <thead>\n",
              "    <tr style=\"text-align: right;\">\n",
              "      <th></th>\n",
              "      <th>INCIDENT_ID</th>\n",
              "      <th>DATE</th>\n",
              "      <th>X_1</th>\n",
              "      <th>X_2</th>\n",
              "      <th>X_3</th>\n",
              "      <th>X_4</th>\n",
              "      <th>X_5</th>\n",
              "      <th>X_6</th>\n",
              "      <th>X_7</th>\n",
              "      <th>X_8</th>\n",
              "      <th>X_9</th>\n",
              "      <th>X_10</th>\n",
              "      <th>X_11</th>\n",
              "      <th>X_12</th>\n",
              "      <th>X_13</th>\n",
              "      <th>X_14</th>\n",
              "      <th>X_15</th>\n",
              "      <th>MULTIPLE_OFFENSE</th>\n",
              "      <th>year</th>\n",
              "      <th>month</th>\n",
              "      <th>day</th>\n",
              "      <th>dayOfweek</th>\n",
              "    </tr>\n",
              "  </thead>\n",
              "  <tbody>\n",
              "    <tr>\n",
              "      <th>0</th>\n",
              "      <td>CR_102659</td>\n",
              "      <td>04-JUL-04</td>\n",
              "      <td>0</td>\n",
              "      <td>36</td>\n",
              "      <td>34</td>\n",
              "      <td>2</td>\n",
              "      <td>1</td>\n",
              "      <td>5</td>\n",
              "      <td>6</td>\n",
              "      <td>1</td>\n",
              "      <td>6</td>\n",
              "      <td>1</td>\n",
              "      <td>174</td>\n",
              "      <td>1.0</td>\n",
              "      <td>92</td>\n",
              "      <td>29</td>\n",
              "      <td>36</td>\n",
              "      <td>0</td>\n",
              "      <td>2004</td>\n",
              "      <td>7</td>\n",
              "      <td>4</td>\n",
              "      <td>Sunday</td>\n",
              "    </tr>\n",
              "    <tr>\n",
              "      <th>1</th>\n",
              "      <td>CR_189752</td>\n",
              "      <td>18-JUL-17</td>\n",
              "      <td>1</td>\n",
              "      <td>37</td>\n",
              "      <td>37</td>\n",
              "      <td>0</td>\n",
              "      <td>0</td>\n",
              "      <td>11</td>\n",
              "      <td>17</td>\n",
              "      <td>1</td>\n",
              "      <td>6</td>\n",
              "      <td>1</td>\n",
              "      <td>236</td>\n",
              "      <td>1.0</td>\n",
              "      <td>103</td>\n",
              "      <td>142</td>\n",
              "      <td>34</td>\n",
              "      <td>1</td>\n",
              "      <td>2017</td>\n",
              "      <td>7</td>\n",
              "      <td>18</td>\n",
              "      <td>Tuesday</td>\n",
              "    </tr>\n",
              "    <tr>\n",
              "      <th>2</th>\n",
              "      <td>CR_184637</td>\n",
              "      <td>15-MAR-17</td>\n",
              "      <td>0</td>\n",
              "      <td>3</td>\n",
              "      <td>2</td>\n",
              "      <td>3</td>\n",
              "      <td>5</td>\n",
              "      <td>1</td>\n",
              "      <td>0</td>\n",
              "      <td>2</td>\n",
              "      <td>3</td>\n",
              "      <td>1</td>\n",
              "      <td>174</td>\n",
              "      <td>1.0</td>\n",
              "      <td>110</td>\n",
              "      <td>93</td>\n",
              "      <td>34</td>\n",
              "      <td>1</td>\n",
              "      <td>2017</td>\n",
              "      <td>3</td>\n",
              "      <td>15</td>\n",
              "      <td>Wednesday</td>\n",
              "    </tr>\n",
              "    <tr>\n",
              "      <th>3</th>\n",
              "      <td>CR_139071</td>\n",
              "      <td>13-FEB-09</td>\n",
              "      <td>0</td>\n",
              "      <td>33</td>\n",
              "      <td>32</td>\n",
              "      <td>2</td>\n",
              "      <td>1</td>\n",
              "      <td>7</td>\n",
              "      <td>1</td>\n",
              "      <td>1</td>\n",
              "      <td>6</td>\n",
              "      <td>1</td>\n",
              "      <td>249</td>\n",
              "      <td>1.0</td>\n",
              "      <td>72</td>\n",
              "      <td>29</td>\n",
              "      <td>34</td>\n",
              "      <td>1</td>\n",
              "      <td>2009</td>\n",
              "      <td>2</td>\n",
              "      <td>13</td>\n",
              "      <td>Friday</td>\n",
              "    </tr>\n",
              "    <tr>\n",
              "      <th>4</th>\n",
              "      <td>CR_109335</td>\n",
              "      <td>13-APR-05</td>\n",
              "      <td>0</td>\n",
              "      <td>33</td>\n",
              "      <td>32</td>\n",
              "      <td>2</td>\n",
              "      <td>1</td>\n",
              "      <td>8</td>\n",
              "      <td>3</td>\n",
              "      <td>0</td>\n",
              "      <td>5</td>\n",
              "      <td>1</td>\n",
              "      <td>174</td>\n",
              "      <td>0.0</td>\n",
              "      <td>112</td>\n",
              "      <td>29</td>\n",
              "      <td>43</td>\n",
              "      <td>1</td>\n",
              "      <td>2005</td>\n",
              "      <td>4</td>\n",
              "      <td>13</td>\n",
              "      <td>Wednesday</td>\n",
              "    </tr>\n",
              "  </tbody>\n",
              "</table>\n",
              "</div>"
            ],
            "text/plain": [
              "  INCIDENT_ID       DATE  X_1  X_2  ...  year  month  day  dayOfweek\n",
              "0   CR_102659  04-JUL-04    0   36  ...  2004      7    4     Sunday\n",
              "1   CR_189752  18-JUL-17    1   37  ...  2017      7   18    Tuesday\n",
              "2   CR_184637  15-MAR-17    0    3  ...  2017      3   15  Wednesday\n",
              "3   CR_139071  13-FEB-09    0   33  ...  2009      2   13     Friday\n",
              "4   CR_109335  13-APR-05    0   33  ...  2005      4   13  Wednesday\n",
              "\n",
              "[5 rows x 22 columns]"
            ]
          },
          "metadata": {
            "tags": []
          },
          "execution_count": 109
        }
      ]
    },
    {
      "cell_type": "code",
      "metadata": {
        "id": "E9A3YhehKNY4",
        "colab_type": "code",
        "colab": {
          "base_uri": "https://localhost:8080/",
          "height": 394
        },
        "outputId": "10fd8b79-55f4-43fb-9fe5-2490c7306943"
      },
      "source": [
        "#perform the same on test data \n",
        "dftest['year'] = pd.DatetimeIndex(dftest['DATE']).year\n",
        "dftest['month'] = pd.DatetimeIndex(dftest['DATE']).month\n",
        "dftest['day'] = pd.DatetimeIndex(dftest['DATE']).day\n",
        "dftest['dayOfweek'] =pd.DatetimeIndex(dftest['DATE']).day_name()\n",
        "dftest.head()"
      ],
      "execution_count": 116,
      "outputs": [
        {
          "output_type": "execute_result",
          "data": {
            "text/html": [
              "<div>\n",
              "<style scoped>\n",
              "    .dataframe tbody tr th:only-of-type {\n",
              "        vertical-align: middle;\n",
              "    }\n",
              "\n",
              "    .dataframe tbody tr th {\n",
              "        vertical-align: top;\n",
              "    }\n",
              "\n",
              "    .dataframe thead th {\n",
              "        text-align: right;\n",
              "    }\n",
              "</style>\n",
              "<table border=\"1\" class=\"dataframe\">\n",
              "  <thead>\n",
              "    <tr style=\"text-align: right;\">\n",
              "      <th></th>\n",
              "      <th>INCIDENT_ID</th>\n",
              "      <th>DATE</th>\n",
              "      <th>X_1</th>\n",
              "      <th>X_2</th>\n",
              "      <th>X_3</th>\n",
              "      <th>X_4</th>\n",
              "      <th>X_5</th>\n",
              "      <th>X_6</th>\n",
              "      <th>X_7</th>\n",
              "      <th>X_8</th>\n",
              "      <th>X_9</th>\n",
              "      <th>X_10</th>\n",
              "      <th>X_11</th>\n",
              "      <th>X_12</th>\n",
              "      <th>X_13</th>\n",
              "      <th>X_14</th>\n",
              "      <th>X_15</th>\n",
              "      <th>year</th>\n",
              "      <th>month</th>\n",
              "      <th>day</th>\n",
              "      <th>dayOfweek</th>\n",
              "    </tr>\n",
              "  </thead>\n",
              "  <tbody>\n",
              "    <tr>\n",
              "      <th>0</th>\n",
              "      <td>CR_195453</td>\n",
              "      <td>01-FEB-18</td>\n",
              "      <td>0</td>\n",
              "      <td>30</td>\n",
              "      <td>35</td>\n",
              "      <td>7</td>\n",
              "      <td>3</td>\n",
              "      <td>6</td>\n",
              "      <td>4</td>\n",
              "      <td>0</td>\n",
              "      <td>5</td>\n",
              "      <td>1</td>\n",
              "      <td>174</td>\n",
              "      <td>NaN</td>\n",
              "      <td>72</td>\n",
              "      <td>119</td>\n",
              "      <td>23</td>\n",
              "      <td>2018</td>\n",
              "      <td>2</td>\n",
              "      <td>1</td>\n",
              "      <td>Thursday</td>\n",
              "    </tr>\n",
              "    <tr>\n",
              "      <th>1</th>\n",
              "      <td>CR_103520</td>\n",
              "      <td>05-MAR-04</td>\n",
              "      <td>0</td>\n",
              "      <td>44</td>\n",
              "      <td>44</td>\n",
              "      <td>1</td>\n",
              "      <td>3</td>\n",
              "      <td>7</td>\n",
              "      <td>1</td>\n",
              "      <td>4</td>\n",
              "      <td>6</td>\n",
              "      <td>1</td>\n",
              "      <td>316</td>\n",
              "      <td>0.0</td>\n",
              "      <td>12</td>\n",
              "      <td>29</td>\n",
              "      <td>34</td>\n",
              "      <td>2004</td>\n",
              "      <td>3</td>\n",
              "      <td>5</td>\n",
              "      <td>Friday</td>\n",
              "    </tr>\n",
              "    <tr>\n",
              "      <th>2</th>\n",
              "      <td>CR_196089</td>\n",
              "      <td>27-JAN-18</td>\n",
              "      <td>0</td>\n",
              "      <td>34</td>\n",
              "      <td>33</td>\n",
              "      <td>3</td>\n",
              "      <td>5</td>\n",
              "      <td>2</td>\n",
              "      <td>7</td>\n",
              "      <td>3</td>\n",
              "      <td>0</td>\n",
              "      <td>1</td>\n",
              "      <td>316</td>\n",
              "      <td>1.0</td>\n",
              "      <td>72</td>\n",
              "      <td>0</td>\n",
              "      <td>34</td>\n",
              "      <td>2018</td>\n",
              "      <td>1</td>\n",
              "      <td>27</td>\n",
              "      <td>Saturday</td>\n",
              "    </tr>\n",
              "    <tr>\n",
              "      <th>3</th>\n",
              "      <td>CR_112195</td>\n",
              "      <td>18-AUG-06</td>\n",
              "      <td>7</td>\n",
              "      <td>3</td>\n",
              "      <td>2</td>\n",
              "      <td>3</td>\n",
              "      <td>5</td>\n",
              "      <td>9</td>\n",
              "      <td>8</td>\n",
              "      <td>0</td>\n",
              "      <td>5</td>\n",
              "      <td>1</td>\n",
              "      <td>174</td>\n",
              "      <td>1.0</td>\n",
              "      <td>112</td>\n",
              "      <td>87</td>\n",
              "      <td>34</td>\n",
              "      <td>2006</td>\n",
              "      <td>8</td>\n",
              "      <td>18</td>\n",
              "      <td>Friday</td>\n",
              "    </tr>\n",
              "    <tr>\n",
              "      <th>4</th>\n",
              "      <td>CR_149832</td>\n",
              "      <td>31-OCT-11</td>\n",
              "      <td>0</td>\n",
              "      <td>7</td>\n",
              "      <td>8</td>\n",
              "      <td>7</td>\n",
              "      <td>3</td>\n",
              "      <td>2</td>\n",
              "      <td>7</td>\n",
              "      <td>1</td>\n",
              "      <td>5</td>\n",
              "      <td>1</td>\n",
              "      <td>174</td>\n",
              "      <td>0.0</td>\n",
              "      <td>112</td>\n",
              "      <td>93</td>\n",
              "      <td>43</td>\n",
              "      <td>2011</td>\n",
              "      <td>10</td>\n",
              "      <td>31</td>\n",
              "      <td>Monday</td>\n",
              "    </tr>\n",
              "  </tbody>\n",
              "</table>\n",
              "</div>"
            ],
            "text/plain": [
              "  INCIDENT_ID       DATE  X_1  X_2  X_3  ...  X_15  year  month  day  dayOfweek\n",
              "0   CR_195453  01-FEB-18    0   30   35  ...    23  2018      2    1   Thursday\n",
              "1   CR_103520  05-MAR-04    0   44   44  ...    34  2004      3    5     Friday\n",
              "2   CR_196089  27-JAN-18    0   34   33  ...    34  2018      1   27   Saturday\n",
              "3   CR_112195  18-AUG-06    7    3    2  ...    34  2006      8   18     Friday\n",
              "4   CR_149832  31-OCT-11    0    7    8  ...    43  2011     10   31     Monday\n",
              "\n",
              "[5 rows x 21 columns]"
            ]
          },
          "metadata": {
            "tags": []
          },
          "execution_count": 116
        }
      ]
    },
    {
      "cell_type": "code",
      "metadata": {
        "id": "gbd5o2UNgvxJ",
        "colab_type": "code",
        "colab": {
          "base_uri": "https://localhost:8080/",
          "height": 386
        },
        "outputId": "544fa50b-62e0-487c-caa4-fdb92f14a1ac"
      },
      "source": [
        "# Countplot \n",
        "sns.catplot(x ='dayOfweek', hue =\"MULTIPLE_OFFENSE\",  kind =\"count\", data = dftrain) "
      ],
      "execution_count": 110,
      "outputs": [
        {
          "output_type": "execute_result",
          "data": {
            "text/plain": [
              "<seaborn.axisgrid.FacetGrid at 0x7f2f1557b438>"
            ]
          },
          "metadata": {
            "tags": []
          },
          "execution_count": 110
        },
        {
          "output_type": "display_data",
          "data": {
            "image/png": "[encoded data removed]",
            "text/plain": [
              "<Figure size 465.25x360 with 1 Axes>"
            ]
          },
          "metadata": {
            "tags": [],
            "needs_background": "light"
          }
        }
      ]
    },
    {
      "cell_type": "code",
      "metadata": {
        "id": "aym_BPcqjYN0",
        "colab_type": "code",
        "colab": {
          "base_uri": "https://localhost:8080/",
          "height": 119
        },
        "outputId": "4456f282-1283-4a5d-8d6c-69e71fd34dca"
      },
      "source": [
        "#converting month to range of month to get the information which month may have more hacked incidents\n",
        "dftrain['MonthRange'] = pd.cut(dftrain['month'],5)\n",
        "dftrain['MonthRange'].value_counts()"
      ],
      "execution_count": 111,
      "outputs": [
        {
          "output_type": "execute_result",
          "data": {
            "text/plain": [
              "(9.8, 12.0]     5486\n",
              "(0.989, 3.2]    5444\n",
              "(7.6, 9.8]      4400\n",
              "(5.4, 7.6]      4270\n",
              "(3.2, 5.4]      4256\n",
              "Name: MonthRange, dtype: int64"
            ]
          },
          "metadata": {
            "tags": []
          },
          "execution_count": 111
        }
      ]
    },
    {
      "cell_type": "code",
      "metadata": {
        "id": "NaRJy7Va6XlP",
        "colab_type": "code",
        "colab": {
          "base_uri": "https://localhost:8080/",
          "height": 119
        },
        "outputId": "d3d4b4c2-ca42-4312-8976-60ca1913b588"
      },
      "source": [
        "dftest['MonthRange'] = pd.cut(dftest['month'],5)\n",
        "dftest['MonthRange'].value_counts()"
      ],
      "execution_count": 117,
      "outputs": [
        {
          "output_type": "execute_result",
          "data": {
            "text/plain": [
              "(9.8, 12.0]     3784\n",
              "(0.989, 3.2]    3592\n",
              "(7.6, 9.8]      2871\n",
              "(3.2, 5.4]      2834\n",
              "(5.4, 7.6]      2822\n",
              "Name: MonthRange, dtype: int64"
            ]
          },
          "metadata": {
            "tags": []
          },
          "execution_count": 117
        }
      ]
    },
    {
      "cell_type": "code",
      "metadata": {
        "id": "YgIv1pRS4xVw",
        "colab_type": "code",
        "colab": {
          "base_uri": "https://localhost:8080/",
          "height": 386
        },
        "outputId": "a87d2978-82ba-401d-ab22-20af68f08008"
      },
      "source": [
        "sns.catplot(x ='MonthRange', hue =\"MULTIPLE_OFFENSE\",  kind =\"count\", data = dftrain) \n"
      ],
      "execution_count": 114,
      "outputs": [
        {
          "output_type": "execute_result",
          "data": {
            "text/plain": [
              "<seaborn.axisgrid.FacetGrid at 0x7f2f15052a20>"
            ]
          },
          "metadata": {
            "tags": []
          },
          "execution_count": 114
        },
        {
          "output_type": "display_data",
          "data": {
            "image/png": "[encoded data removed]",
            "text/plain": [
              "<Figure size 465.25x360 with 1 Axes>"
            ]
          },
          "metadata": {
            "tags": [],
            "needs_background": "light"
          }
        }
      ]
    },
    {
      "cell_type": "code",
      "metadata": {
        "id": "aeCE8VZSmZtH",
        "colab_type": "code",
        "colab": {
          "base_uri": "https://localhost:8080/",
          "height": 386
        },
        "outputId": "cfc837a2-23db-4f81-ec55-e9c3fc62eb12"
      },
      "source": [
        "sns.catplot(x ='dayOfweek', hue =\"MULTIPLE_OFFENSE\",  kind =\"count\", data = dftrain) \n"
      ],
      "execution_count": 49,
      "outputs": [
        {
          "output_type": "execute_result",
          "data": {
            "text/plain": [
              "<seaborn.axisgrid.FacetGrid at 0x7f2f1825cc50>"
            ]
          },
          "metadata": {
            "tags": []
          },
          "execution_count": 49
        },
        {
          "output_type": "display_data",
          "data": {
            "image/png": "[encoded data removed]",
            "text/plain": [
              "<Figure size 465.25x360 with 1 Axes>"
            ]
          },
          "metadata": {
            "tags": [],
            "needs_background": "light"
          }
        }
      ]
    },
    {
      "cell_type": "code",
      "metadata": {
        "id": "pbZ9QU8dnrxp",
        "colab_type": "code",
        "colab": {
          "base_uri": "https://localhost:8080/",
          "height": 386
        },
        "outputId": "579a028f-dcac-4ca1-84d3-7322bf674545"
      },
      "source": [
        "sns.catplot(x ='MonthRange', hue =\"MULTIPLE_OFFENSE\",  kind =\"count\", data = dftrain) \n"
      ],
      "execution_count": 50,
      "outputs": [
        {
          "output_type": "execute_result",
          "data": {
            "text/plain": [
              "<seaborn.axisgrid.FacetGrid at 0x7f2f18c99e48>"
            ]
          },
          "metadata": {
            "tags": []
          },
          "execution_count": 50
        },
        {
          "output_type": "display_data",
          "data": {
            "image/png": "[encoded data removed]",
            "text/plain": [
              "<Figure size 465.25x360 with 1 Axes>"
            ]
          },
          "metadata": {
            "tags": [],
            "needs_background": "light"
          }
        }
      ]
    },
    {
      "cell_type": "code",
      "metadata": {
        "id": "BNWk0NcaAzf7",
        "colab_type": "code",
        "colab": {
          "base_uri": "https://localhost:8080/",
          "height": 381
        },
        "outputId": "00e07644-a0f6-4476-ba3d-ae822160df68"
      },
      "source": [
        "sns.countplot(x='MonthRange',hue=dftrain['MULTIPLE_OFFENSE'],data=dftrain)\n",
        "dftrain['MonthRange'].value_counts()"
      ],
      "execution_count": 57,
      "outputs": [
        {
          "output_type": "execute_result",
          "data": {
            "text/plain": [
              "(9.8, 12.0]     5486\n",
              "(0.989, 3.2]    5444\n",
              "(7.6, 9.8]      4400\n",
              "(5.4, 7.6]      4270\n",
              "(3.2, 5.4]      4256\n",
              "Name: MonthRange, dtype: int64"
            ]
          },
          "metadata": {
            "tags": []
          },
          "execution_count": 57
        },
        {
          "output_type": "display_data",
          "data": {
            "image/png": "[encoded data removed]",
            "text/plain": [
              "<Figure size 432x288 with 1 Axes>"
            ]
          },
          "metadata": {
            "tags": [],
            "needs_background": "light"
          }
        }
      ]
    },
    {
      "cell_type": "markdown",
      "metadata": {
        "id": "krCp3GUC6nyG",
        "colab_type": "text"
      },
      "source": [
        "Converting dayofweek to category codes both test and train dataset\n"
      ]
    },
    {
      "cell_type": "code",
      "metadata": {
        "id": "H4oHnWBrtWqf",
        "colab_type": "code",
        "colab": {
          "base_uri": "https://localhost:8080/",
          "height": 153
        },
        "outputId": "76cfd7bf-d898-4abc-d74d-056e379cbce7"
      },
      "source": [
        "dftrain['dayOfweek'] = dftrain['dayOfweek'].astype('category').cat.codes\n",
        "dftrain['dayOfweek'].value_counts()"
      ],
      "execution_count": 123,
      "outputs": [
        {
          "output_type": "execute_result",
          "data": {
            "text/plain": [
              "0    3636\n",
              "1    3523\n",
              "4    3424\n",
              "5    3371\n",
              "2    3330\n",
              "6    3292\n",
              "3    3280\n",
              "Name: dayOfweek, dtype: int64"
            ]
          },
          "metadata": {
            "tags": []
          },
          "execution_count": 123
        }
      ]
    },
    {
      "cell_type": "code",
      "metadata": {
        "id": "8Hbcxroy6mGU",
        "colab_type": "code",
        "colab": {
          "base_uri": "https://localhost:8080/",
          "height": 153
        },
        "outputId": "f2c423bd-10b8-4319-8a09-41cc53954da4"
      },
      "source": [
        "dftest['dayOfweek'] = dftest['dayOfweek'].astype('category').cat.codes\n",
        "dftest['dayOfweek'].value_counts()"
      ],
      "execution_count": 122,
      "outputs": [
        {
          "output_type": "execute_result",
          "data": {
            "text/plain": [
              "0    2396\n",
              "2    2329\n",
              "1    2327\n",
              "5    2276\n",
              "6    2254\n",
              "4    2203\n",
              "3    2118\n",
              "Name: dayOfweek, dtype: int64"
            ]
          },
          "metadata": {
            "tags": []
          },
          "execution_count": 122
        }
      ]
    },
    {
      "cell_type": "code",
      "metadata": {
        "id": "Gc8exSv1rwP4",
        "colab_type": "code",
        "colab": {
          "base_uri": "https://localhost:8080/",
          "height": 296
        },
        "outputId": "e2f87f03-53d5-4d96-a48f-06847cbaca8f"
      },
      "source": [
        "sns.countplot(x='dayOfweek',hue=dftrain['MULTIPLE_OFFENSE'],data=dftrain)\n"
      ],
      "execution_count": 55,
      "outputs": [
        {
          "output_type": "execute_result",
          "data": {
            "text/plain": [
              "<matplotlib.axes._subplots.AxesSubplot at 0x7f2f18cbb160>"
            ]
          },
          "metadata": {
            "tags": []
          },
          "execution_count": 55
        },
        {
          "output_type": "display_data",
          "data": {
            "image/png": "[encoded data removed]",
            "text/plain": [
              "<Figure size 432x288 with 1 Axes>"
            ]
          },
          "metadata": {
            "tags": [],
            "needs_background": "light"
          }
        }
      ]
    },
    {
      "cell_type": "code",
      "metadata": {
        "id": "r8YmhFEQB4Jn",
        "colab_type": "code",
        "colab": {
          "base_uri": "https://localhost:8080/",
          "height": 297
        },
        "outputId": "a8fa082f-f1ff-4b59-a81f-ca91b82bce27"
      },
      "source": [
        "# Violinplot Displays distribution of data  \n",
        "# across all levels of a category. \n",
        "sns.violinplot(x =\"X_4\", y =\"X_6\", hue =\"MULTIPLE_OFFENSE\",  \n",
        "data = dftrain, split = True)"
      ],
      "execution_count": 120,
      "outputs": [
        {
          "output_type": "execute_result",
          "data": {
            "text/plain": [
              "<matplotlib.axes._subplots.AxesSubplot at 0x7f2f18602908>"
            ]
          },
          "metadata": {
            "tags": []
          },
          "execution_count": 120
        },
        {
          "output_type": "display_data",
          "data": {
            "image/png": "[encoded data removed]",
            "text/plain": [
              "<Figure size 432x288 with 1 Axes>"
            ]
          },
          "metadata": {
            "tags": [],
            "needs_background": "light"
          }
        }
      ]
    },
    {
      "cell_type": "markdown",
      "metadata": {
        "id": "ukdYI2Nn8mdd",
        "colab_type": "text"
      },
      "source": [
        "check to see if any value as very low count"
      ]
    },
    {
      "cell_type": "code",
      "metadata": {
        "id": "VAn8r-XMDyJG",
        "colab_type": "code",
        "colab": {
          "base_uri": "https://localhost:8080/",
          "height": 1000
        },
        "outputId": "2fa5bd17-3701-4b4f-8dbe-002f09e5a7da"
      },
      "source": [
        "for i in range(1,16):\n",
        "  x = 'X_'+str(i)\n",
        "  print(dftrain[x].value_counts())\n",
        "  print('******************************************')\n"
      ],
      "execution_count": 124,
      "outputs": [
        {
          "output_type": "stream",
          "text": [
            "0    19036\n",
            "1     3497\n",
            "7      876\n",
            "5      270\n",
            "3      136\n",
            "4       26\n",
            "2       10\n",
            "6        5\n",
            "Name: X_1, dtype: int64\n",
            "******************************************\n",
            "4     4029\n",
            "36    2232\n",
            "33    2174\n",
            "24    1344\n",
            "21    1254\n",
            "37     962\n",
            "49     927\n",
            "45     908\n",
            "3      778\n",
            "22     672\n",
            "47     641\n",
            "16     631\n",
            "9      593\n",
            "39     513\n",
            "25     499\n",
            "5      437\n",
            "6      434\n",
            "44     428\n",
            "40     385\n",
            "19     370\n",
            "26     356\n",
            "30     266\n",
            "42     238\n",
            "17     238\n",
            "18     210\n",
            "35     186\n",
            "46     181\n",
            "7      166\n",
            "38     164\n",
            "50     160\n",
            "15     136\n",
            "23     122\n",
            "2      116\n",
            "11     107\n",
            "8      104\n",
            "51     103\n",
            "29      99\n",
            "41      93\n",
            "14      84\n",
            "28      78\n",
            "32      69\n",
            "43      69\n",
            "34      56\n",
            "48      55\n",
            "20      54\n",
            "31      43\n",
            "27      23\n",
            "0       22\n",
            "1       20\n",
            "52      19\n",
            "13       6\n",
            "10       2\n",
            "Name: X_2, dtype: int64\n",
            "******************************************\n",
            "4     4029\n",
            "34    2232\n",
            "32    2174\n",
            "24    1344\n",
            "23    1254\n",
            "37     962\n",
            "49     927\n",
            "45     908\n",
            "2      778\n",
            "22     672\n",
            "48     641\n",
            "15     631\n",
            "10     593\n",
            "39     513\n",
            "25     499\n",
            "5      437\n",
            "6      434\n",
            "44     428\n",
            "40     385\n",
            "19     370\n",
            "27     356\n",
            "35     266\n",
            "42     238\n",
            "16     238\n",
            "18     210\n",
            "30     186\n",
            "46     181\n",
            "8      166\n",
            "38     164\n",
            "51     160\n",
            "14     136\n",
            "21     122\n",
            "3      116\n",
            "11     107\n",
            "7      104\n",
            "50     103\n",
            "29      99\n",
            "41      93\n",
            "17      84\n",
            "28      78\n",
            "31      69\n",
            "43      69\n",
            "33      56\n",
            "47      55\n",
            "20      54\n",
            "36      43\n",
            "26      23\n",
            "1       22\n",
            "0       20\n",
            "52      19\n",
            "13       6\n",
            "9        2\n",
            "Name: X_3, dtype: int64\n",
            "******************************************\n",
            "6     5497\n",
            "2     4791\n",
            "0     3335\n",
            "7     2890\n",
            "4     2027\n",
            "3     1871\n",
            "9     1360\n",
            "10    1242\n",
            "1      841\n",
            "5        2\n",
            "Name: X_4, dtype: int64\n",
            "******************************************\n",
            "5    7368\n",
            "1    6818\n",
            "3    4973\n",
            "0    4695\n",
            "2       2\n",
            "Name: X_5, dtype: int64\n",
            "******************************************\n",
            "1     3461\n",
            "5     2679\n",
            "6     2629\n",
            "4     2319\n",
            "15    2318\n",
            "2     2298\n",
            "7     2286\n",
            "3     1708\n",
            "8     1405\n",
            "9     1267\n",
            "16     620\n",
            "12     210\n",
            "11     200\n",
            "18     162\n",
            "13     139\n",
            "17     110\n",
            "10      25\n",
            "14      18\n",
            "19       2\n",
            "Name: X_6, dtype: int64\n",
            "******************************************\n",
            "0     3461\n",
            "6     2679\n",
            "4     2629\n",
            "2     2319\n",
            "10    2318\n",
            "7     2298\n",
            "1     2286\n",
            "5     1708\n",
            "3     1405\n",
            "8     1267\n",
            "12     620\n",
            "16     210\n",
            "17     200\n",
            "13     162\n",
            "18     139\n",
            "11     110\n",
            "15      25\n",
            "14      18\n",
            "9        2\n",
            "Name: X_7, dtype: int64\n",
            "******************************************\n",
            "1     11010\n",
            "0      8774\n",
            "2      2268\n",
            "3       967\n",
            "4       404\n",
            "5       207\n",
            "6        79\n",
            "7        33\n",
            "8        32\n",
            "10       23\n",
            "9        16\n",
            "15       11\n",
            "11        8\n",
            "12        8\n",
            "20        4\n",
            "13        2\n",
            "14        2\n",
            "16        2\n",
            "30        1\n",
            "21        1\n",
            "22        1\n",
            "99        1\n",
            "50        1\n",
            "29        1\n",
            "Name: X_8, dtype: int64\n",
            "******************************************\n",
            "5    10559\n",
            "6     9508\n",
            "2     3040\n",
            "3      452\n",
            "1      175\n",
            "0      118\n",
            "4        4\n",
            "Name: X_9, dtype: int64\n",
            "******************************************\n",
            "1     20198\n",
            "2      2695\n",
            "3       549\n",
            "4       225\n",
            "5        71\n",
            "6        54\n",
            "8        15\n",
            "10       14\n",
            "9         7\n",
            "7         7\n",
            "11        4\n",
            "12        3\n",
            "20        2\n",
            "15        2\n",
            "30        1\n",
            "22        1\n",
            "19        1\n",
            "40        1\n",
            "50        1\n",
            "18        1\n",
            "58        1\n",
            "17        1\n",
            "90        1\n",
            "16        1\n",
            "Name: X_10, dtype: int64\n",
            "******************************************\n",
            "174    7275\n",
            "249    6930\n",
            "316    4500\n",
            "0      2553\n",
            "303     438\n",
            "       ... \n",
            "232       1\n",
            "248       1\n",
            "264       1\n",
            "287       1\n",
            "319       1\n",
            "Name: X_11, Length: 133, dtype: int64\n",
            "******************************************\n",
            "1.000000     15674\n",
            "0.000000      5171\n",
            "2.000000      2039\n",
            "3.000000       476\n",
            "0.974064       182\n",
            "4.000000       176\n",
            "5.000000        59\n",
            "6.000000        36\n",
            "8.000000         9\n",
            "10.000000        7\n",
            "9.000000         6\n",
            "7.000000         4\n",
            "11.000000        4\n",
            "15.000000        2\n",
            "20.000000        2\n",
            "17.000000        1\n",
            "58.000000        1\n",
            "50.000000        1\n",
            "40.000000        1\n",
            "16.000000        1\n",
            "90.000000        1\n",
            "12.000000        1\n",
            "30.000000        1\n",
            "14.000000        1\n",
            "Name: X_12, dtype: int64\n",
            "******************************************\n",
            "103    6995\n",
            "72     4476\n",
            "92     3255\n",
            "112    2116\n",
            "98     1366\n",
            "18      851\n",
            "109     537\n",
            "24      523\n",
            "12      427\n",
            "59      348\n",
            "34      342\n",
            "116     288\n",
            "54      234\n",
            "113     225\n",
            "111     215\n",
            "67      211\n",
            "2       210\n",
            "42      200\n",
            "48      172\n",
            "87      150\n",
            "110     147\n",
            "84      145\n",
            "97       76\n",
            "31       64\n",
            "89       51\n",
            "10       46\n",
            "88       44\n",
            "115      21\n",
            "102      20\n",
            "114      16\n",
            "30       13\n",
            "9         9\n",
            "86        8\n",
            "40        7\n",
            "108       6\n",
            "1         5\n",
            "94        4\n",
            "41        3\n",
            "77        3\n",
            "58        3\n",
            "8         2\n",
            "99        2\n",
            "27        2\n",
            "76        2\n",
            "60        1\n",
            "32        1\n",
            "80        1\n",
            "17        1\n",
            "13        1\n",
            "75        1\n",
            "44        1\n",
            "7         1\n",
            "43        1\n",
            "83        1\n",
            "74        1\n",
            "73        1\n",
            "69        1\n",
            "25        1\n",
            "95        1\n",
            "0         1\n",
            "Name: X_13, dtype: int64\n",
            "******************************************\n",
            "29     8165\n",
            "93     3110\n",
            "142    2714\n",
            "62     2474\n",
            "80     1488\n",
            "       ... \n",
            "109       1\n",
            "92        1\n",
            "68        1\n",
            "58        1\n",
            "34        1\n",
            "Name: X_14, Length: 62, dtype: int64\n",
            "******************************************\n",
            "34    18947\n",
            "43     1503\n",
            "0      1017\n",
            "46      668\n",
            "23      642\n",
            "48      521\n",
            "36      182\n",
            "50      145\n",
            "9        92\n",
            "39       54\n",
            "24       20\n",
            "38       20\n",
            "18       13\n",
            "40        6\n",
            "41        6\n",
            "17        4\n",
            "4         4\n",
            "15        2\n",
            "32        1\n",
            "16        1\n",
            "31        1\n",
            "35        1\n",
            "5         1\n",
            "21        1\n",
            "8         1\n",
            "12        1\n",
            "14        1\n",
            "22        1\n",
            "Name: X_15, dtype: int64\n",
            "******************************************\n"
          ],
          "name": "stdout"
        }
      ]
    },
    {
      "cell_type": "code",
      "metadata": {
        "id": "ev_OSfwfPvnk",
        "colab_type": "code",
        "colab": {}
      },
      "source": [
        "Y_train = dftrain[\"MULTIPLE_OFFENSE\"]\n",
        "\n",
        "X_train = dftrain.drop([\"MULTIPLE_OFFENSE\",'DATE','INCIDENT_ID'], axis=1)\n",
        "X_test = dftest.drop([\"DATE\",'INCIDENT_ID'], axis=1)\n",
        "\n"
      ],
      "execution_count": 0,
      "outputs": []
    },
    {
      "cell_type": "code",
      "metadata": {
        "id": "GF_qMVBCLxRD",
        "colab_type": "code",
        "colab": {
          "base_uri": "https://localhost:8080/",
          "height": 51
        },
        "outputId": "df7c1561-ba4e-447d-9d3c-b0571f7d1cf0"
      },
      "source": [
        "# create training and testing vars\n",
        "X_train, X_test, y_train, y_test = train_test_split(X_train, Y_train, test_size=0.2)\n",
        "print(X_train.shape, y_train.shape)\n",
        "print(X_test.shape, y_test.shape)\n"
      ],
      "execution_count": 236,
      "outputs": [
        {
          "output_type": "stream",
          "text": [
            "(19084, 20) (19084,)\n",
            "(4772, 20) (4772,)\n"
          ],
          "name": "stdout"
        }
      ]
    },
    {
      "cell_type": "markdown",
      "metadata": {
        "id": "yMqlZ1Fj9KAj",
        "colab_type": "text"
      },
      "source": [
        "Create SMOTE  data \n"
      ]
    },
    {
      "cell_type": "code",
      "metadata": {
        "id": "sShUbuHW9fjs",
        "colab_type": "code",
        "colab": {
          "base_uri": "https://localhost:8080/",
          "height": 68
        },
        "outputId": "c3efdffa-a087-44d0-f82a-1a5d234a4bf0"
      },
      "source": [
        "print(\"Before OverSampling, counts of label '1': {}\".format(sum(y_train == 1))) \n",
        "print(\"Before OverSampling, counts of label '0': {} \\n\".format(sum(y_train == 0))) \n",
        "  \n"
      ],
      "execution_count": 237,
      "outputs": [
        {
          "output_type": "stream",
          "text": [
            "Before OverSampling, counts of label '1': 18224\n",
            "Before OverSampling, counts of label '0': 860 \n",
            "\n"
          ],
          "name": "stdout"
        }
      ]
    },
    {
      "cell_type": "code",
      "metadata": {
        "id": "HHCv34c09v6O",
        "colab_type": "code",
        "colab": {
          "base_uri": "https://localhost:8080/",
          "height": 156
        },
        "outputId": "96c07acd-3d2f-4d4c-b853-e1ea23f32cf6"
      },
      "source": [
        "# import SMOTE module from imblearn library \n",
        "# pip install imblearn (if you don't have imblearn in your system) \n",
        "from imblearn.over_sampling import SMOTE \n",
        "sm = SMOTE(random_state = 2) \n",
        "X_train_res, y_train_res = sm.fit_sample(X_train, y_train.ravel()) \n",
        "  \n",
        "print('After OverSampling, the shape of train_X: {}'.format(X_train_res.shape)) \n",
        "print('After OverSampling, the shape of train_y: {} \\n'.format(y_train_res.shape)) \n",
        "  \n",
        "print(\"After OverSampling, counts of label '1': {}\".format(sum(y_train_res == 1))) \n",
        "print(\"After OverSampling, counts of label '0': {}\".format(sum(y_train_res == 0))) \n"
      ],
      "execution_count": 239,
      "outputs": [
        {
          "output_type": "stream",
          "text": [
            "/usr/local/lib/python3.6/dist-packages/sklearn/utils/deprecation.py:87: FutureWarning: Function safe_indexing is deprecated; safe_indexing is deprecated in version 0.22 and will be removed in version 0.24.\n",
            "  warnings.warn(msg, category=FutureWarning)\n"
          ],
          "name": "stderr"
        },
        {
          "output_type": "stream",
          "text": [
            "After OverSampling, the shape of train_X: (36448, 20)\n",
            "After OverSampling, the shape of train_y: (36448,) \n",
            "\n",
            "After OverSampling, counts of label '1': 18224\n",
            "After OverSampling, counts of label '0': 18224\n"
          ],
          "name": "stdout"
        }
      ]
    },
    {
      "cell_type": "code",
      "metadata": {
        "id": "pmKVkUq-fGVC",
        "colab_type": "code",
        "colab": {}
      },
      "source": [
        "X_train_resample, X_val, y_train_resample, y_val = train_test_split(X_train_res, y_train_res ,test_size=0.3, random_state=10)"
      ],
      "execution_count": 0,
      "outputs": []
    },
    {
      "cell_type": "code",
      "metadata": {
        "id": "NWG5MhJCfhIX",
        "colab_type": "code",
        "colab": {
          "base_uri": "https://localhost:8080/",
          "height": 68
        },
        "outputId": "140ed1fc-4a2d-4bfd-fda9-df75b30178f8"
      },
      "source": [
        "print('After resampling , the shape of training and validation data')\n",
        "print(X_train_resample.shape , y_train_resample.shape)\n",
        "print(X_val.shape , y_val.shape)"
      ],
      "execution_count": 243,
      "outputs": [
        {
          "output_type": "stream",
          "text": [
            "After resampling , the shape of training and validation data\n",
            "(25513, 20) (25513,)\n",
            "(10935, 20) (10935,)\n"
          ],
          "name": "stdout"
        }
      ]
    },
    {
      "cell_type": "code",
      "metadata": {
        "id": "KjnHiAatGCj-",
        "colab_type": "code",
        "colab": {}
      },
      "source": [
        "def Score(y_true,y_pred):\n",
        "  return recall_score(y_true, y_pred, average='macro')"
      ],
      "execution_count": 0,
      "outputs": []
    },
    {
      "cell_type": "code",
      "metadata": {
        "id": "98Gxfekk2OQQ",
        "colab_type": "code",
        "colab": {
          "base_uri": "https://localhost:8080/",
          "height": 375
        },
        "outputId": "264c1714-193c-4f47-ea34-10d0b936631e"
      },
      "source": [
        "logreg = LogisticRegression()\n",
        "logreg.fit(X_train_resample, y_train_resample)\n",
        "\n",
        "Y_pred = logreg.predict(X_test)\n",
        "\n",
        "acc_log = round(logreg.score(X_train_res, y_train_res) * 100, 2)\n"
      ],
      "execution_count": 228,
      "outputs": [
        {
          "output_type": "error",
          "ename": "ValueError",
          "evalue": "ignored",
          "traceback": [
            "\u001b[0;31m---------------------------------------------------------------------------\u001b[0m",
            "\u001b[0;31mValueError\u001b[0m                                Traceback (most recent call last)",
            "\u001b[0;32m<ipython-input-228-329f9b43bae0>\u001b[0m in \u001b[0;36m<module>\u001b[0;34m()\u001b[0m\n\u001b[1;32m      1\u001b[0m \u001b[0mlogreg\u001b[0m \u001b[0;34m=\u001b[0m \u001b[0mLogisticRegression\u001b[0m\u001b[0;34m(\u001b[0m\u001b[0;34m)\u001b[0m\u001b[0;34m\u001b[0m\u001b[0;34m\u001b[0m\u001b[0m\n\u001b[0;32m----> 2\u001b[0;31m \u001b[0mlogreg\u001b[0m\u001b[0;34m.\u001b[0m\u001b[0mfit\u001b[0m\u001b[0;34m(\u001b[0m\u001b[0mX_train_resample\u001b[0m\u001b[0;34m,\u001b[0m \u001b[0my_train_resample\u001b[0m\u001b[0;34m)\u001b[0m\u001b[0;34m\u001b[0m\u001b[0;34m\u001b[0m\u001b[0m\n\u001b[0m\u001b[1;32m      3\u001b[0m \u001b[0;34m\u001b[0m\u001b[0m\n\u001b[1;32m      4\u001b[0m \u001b[0mY_pred\u001b[0m \u001b[0;34m=\u001b[0m \u001b[0mlogreg\u001b[0m\u001b[0;34m.\u001b[0m\u001b[0mpredict\u001b[0m\u001b[0;34m(\u001b[0m\u001b[0mX_test\u001b[0m\u001b[0;34m)\u001b[0m\u001b[0;34m\u001b[0m\u001b[0;34m\u001b[0m\u001b[0m\n\u001b[1;32m      5\u001b[0m \u001b[0;34m\u001b[0m\u001b[0m\n",
            "\u001b[0;32m/usr/local/lib/python3.6/dist-packages/sklearn/linear_model/_logistic.py\u001b[0m in \u001b[0;36mfit\u001b[0;34m(self, X, y, sample_weight)\u001b[0m\n\u001b[1;32m   1525\u001b[0m \u001b[0;34m\u001b[0m\u001b[0m\n\u001b[1;32m   1526\u001b[0m         X, y = check_X_y(X, y, accept_sparse='csr', dtype=_dtype, order=\"C\",\n\u001b[0;32m-> 1527\u001b[0;31m                          accept_large_sparse=solver != 'liblinear')\n\u001b[0m\u001b[1;32m   1528\u001b[0m         \u001b[0mcheck_classification_targets\u001b[0m\u001b[0;34m(\u001b[0m\u001b[0my\u001b[0m\u001b[0;34m)\u001b[0m\u001b[0;34m\u001b[0m\u001b[0;34m\u001b[0m\u001b[0m\n\u001b[1;32m   1529\u001b[0m         \u001b[0mself\u001b[0m\u001b[0;34m.\u001b[0m\u001b[0mclasses_\u001b[0m \u001b[0;34m=\u001b[0m \u001b[0mnp\u001b[0m\u001b[0;34m.\u001b[0m\u001b[0munique\u001b[0m\u001b[0;34m(\u001b[0m\u001b[0my\u001b[0m\u001b[0;34m)\u001b[0m\u001b[0;34m\u001b[0m\u001b[0;34m\u001b[0m\u001b[0m\n",
            "\u001b[0;32m/usr/local/lib/python3.6/dist-packages/sklearn/utils/validation.py\u001b[0m in \u001b[0;36mcheck_X_y\u001b[0;34m(X, y, accept_sparse, accept_large_sparse, dtype, order, copy, force_all_finite, ensure_2d, allow_nd, multi_output, ensure_min_samples, ensure_min_features, y_numeric, warn_on_dtype, estimator)\u001b[0m\n\u001b[1;32m    758\u001b[0m                         dtype=None)\n\u001b[1;32m    759\u001b[0m     \u001b[0;32melse\u001b[0m\u001b[0;34m:\u001b[0m\u001b[0;34m\u001b[0m\u001b[0;34m\u001b[0m\u001b[0m\n\u001b[0;32m--> 760\u001b[0;31m         \u001b[0my\u001b[0m \u001b[0;34m=\u001b[0m \u001b[0mcolumn_or_1d\u001b[0m\u001b[0;34m(\u001b[0m\u001b[0my\u001b[0m\u001b[0;34m,\u001b[0m \u001b[0mwarn\u001b[0m\u001b[0;34m=\u001b[0m\u001b[0;32mTrue\u001b[0m\u001b[0;34m)\u001b[0m\u001b[0;34m\u001b[0m\u001b[0;34m\u001b[0m\u001b[0m\n\u001b[0m\u001b[1;32m    761\u001b[0m         \u001b[0m_assert_all_finite\u001b[0m\u001b[0;34m(\u001b[0m\u001b[0my\u001b[0m\u001b[0;34m)\u001b[0m\u001b[0;34m\u001b[0m\u001b[0;34m\u001b[0m\u001b[0m\n\u001b[1;32m    762\u001b[0m     \u001b[0;32mif\u001b[0m \u001b[0my_numeric\u001b[0m \u001b[0;32mand\u001b[0m \u001b[0my\u001b[0m\u001b[0;34m.\u001b[0m\u001b[0mdtype\u001b[0m\u001b[0;34m.\u001b[0m\u001b[0mkind\u001b[0m \u001b[0;34m==\u001b[0m \u001b[0;34m'O'\u001b[0m\u001b[0;34m:\u001b[0m\u001b[0;34m\u001b[0m\u001b[0;34m\u001b[0m\u001b[0m\n",
            "\u001b[0;32m/usr/local/lib/python3.6/dist-packages/sklearn/utils/validation.py\u001b[0m in \u001b[0;36mcolumn_or_1d\u001b[0;34m(y, warn)\u001b[0m\n\u001b[1;32m    795\u001b[0m         \u001b[0;32mreturn\u001b[0m \u001b[0mnp\u001b[0m\u001b[0;34m.\u001b[0m\u001b[0mravel\u001b[0m\u001b[0;34m(\u001b[0m\u001b[0my\u001b[0m\u001b[0;34m)\u001b[0m\u001b[0;34m\u001b[0m\u001b[0;34m\u001b[0m\u001b[0m\n\u001b[1;32m    796\u001b[0m \u001b[0;34m\u001b[0m\u001b[0m\n\u001b[0;32m--> 797\u001b[0;31m     \u001b[0;32mraise\u001b[0m \u001b[0mValueError\u001b[0m\u001b[0;34m(\u001b[0m\u001b[0;34m\"bad input shape {0}\"\u001b[0m\u001b[0;34m.\u001b[0m\u001b[0mformat\u001b[0m\u001b[0;34m(\u001b[0m\u001b[0mshape\u001b[0m\u001b[0;34m)\u001b[0m\u001b[0;34m)\u001b[0m\u001b[0;34m\u001b[0m\u001b[0;34m\u001b[0m\u001b[0m\n\u001b[0m\u001b[1;32m    798\u001b[0m \u001b[0;34m\u001b[0m\u001b[0m\n\u001b[1;32m    799\u001b[0m \u001b[0;34m\u001b[0m\u001b[0m\n",
            "\u001b[0;31mValueError\u001b[0m: bad input shape (25530, 20)"
          ]
        }
      ]
    },
    {
      "cell_type": "code",
      "metadata": {
        "id": "iLqVTxT9Kdwz",
        "colab_type": "code",
        "colab": {
          "base_uri": "https://localhost:8080/",
          "height": 34
        },
        "outputId": "e35fa976-c525-4047-91e5-25fd06a20769"
      },
      "source": [
        "y_train_res.shape,Y_pred.shape"
      ],
      "execution_count": 196,
      "outputs": [
        {
          "output_type": "execute_result",
          "data": {
            "text/plain": [
              "((36440,), (36440,))"
            ]
          },
          "metadata": {
            "tags": []
          },
          "execution_count": 196
        }
      ]
    },
    {
      "cell_type": "code",
      "metadata": {
        "id": "5qTFhHAZmTCr",
        "colab_type": "code",
        "colab": {
          "base_uri": "https://localhost:8080/",
          "height": 136
        },
        "outputId": "88fe2d62-56f1-492b-aa20-8697bb73180b"
      },
      "source": [
        "from sklearn.neighbors import KNeighborsClassifier\n",
        "knn = KNeighborsClassifier(n_neighbors = 2) \n",
        "knn.fit(X_train_res, y_train_res) \n",
        "print(y_train_res.shape)\n",
        "Y_pred = knn.predict(X_test) \n",
        "\n",
        "\n",
        "r1=dftest['INCIDENT_ID']\n",
        "r2=pd.DataFrame(Y_pred,columns=['MULTIPLE_OFFENSE'])\n",
        "result=pd.concat([r1,r2],axis=1)\n",
        "print(result.head())\n",
        "result.to_csv('/content/gdrive/My Drive/NovartisHackerrank/sample_submission.csv',index=False)"
      ],
      "execution_count": 247,
      "outputs": [
        {
          "output_type": "stream",
          "text": [
            "(36448,)\n",
            "  INCIDENT_ID  MULTIPLE_OFFENSE\n",
            "0   CR_195453               1.0\n",
            "1   CR_103520               1.0\n",
            "2   CR_196089               0.0\n",
            "3   CR_112195               1.0\n",
            "4   CR_149832               1.0\n"
          ],
          "name": "stdout"
        }
      ]
    },
    {
      "cell_type": "code",
      "metadata": {
        "id": "ckfg8BXfKjU5",
        "colab_type": "code",
        "colab": {
          "base_uri": "https://localhost:8080/",
          "height": 34
        },
        "outputId": "706ba9d9-8795-4257-8045-e50200f42019"
      },
      "source": [
        "y_train_res.shape,"
      ],
      "execution_count": 190,
      "outputs": [
        {
          "output_type": "execute_result",
          "data": {
            "text/plain": [
              "((36440,), (4772,))"
            ]
          },
          "metadata": {
            "tags": []
          },
          "execution_count": 190
        }
      ]
    },
    {
      "cell_type": "code",
      "metadata": {
        "id": "bwXCqblrmkbk",
        "colab_type": "code",
        "colab": {
          "base_uri": "https://localhost:8080/",
          "height": 34
        },
        "outputId": "4de62cd5-ccdb-431f-bfd9-2fdb14d0aa46"
      },
      "source": [
        "print(acc_knn)"
      ],
      "execution_count": 138,
      "outputs": [
        {
          "output_type": "stream",
          "text": [
            "97.52\n"
          ],
          "name": "stdout"
        }
      ]
    },
    {
      "cell_type": "code",
      "metadata": {
        "id": "j_umTRUinD32",
        "colab_type": "code",
        "colab": {
          "base_uri": "https://localhost:8080/",
          "height": 71
        },
        "outputId": "be19f1ba-380f-4cbc-c256-44d0de4c2eb3"
      },
      "source": [
        "from sklearn.svm import SVC, LinearSVC\n",
        "\n",
        "linear_svc = LinearSVC()\n",
        "linear_svc.fit(X_train_res, y_train_res)\n",
        "\n",
        "Y_pred = linear_svc.predict(X_test)\n",
        "\n",
        "acc_linear_svc = round(linear_svc.score(X_train_res, y_train_res) * 100, 2)\n",
        "\n"
      ],
      "execution_count": 213,
      "outputs": [
        {
          "output_type": "stream",
          "text": [
            "/usr/local/lib/python3.6/dist-packages/sklearn/svm/_base.py:947: ConvergenceWarning: Liblinear failed to converge, increase the number of iterations.\n",
            "  \"the number of iterations.\", ConvergenceWarning)\n"
          ],
          "name": "stderr"
        }
      ]
    },
    {
      "cell_type": "code",
      "metadata": {
        "id": "Qe42n_jqnN8N",
        "colab_type": "code",
        "colab": {
          "base_uri": "https://localhost:8080/",
          "height": 34
        },
        "outputId": "e4849b71-b3b6-4765-a37e-b9a5f7680e7e"
      },
      "source": [
        "print(acc_linear_svc)"
      ],
      "execution_count": 142,
      "outputs": [
        {
          "output_type": "stream",
          "text": [
            "50.41\n"
          ],
          "name": "stdout"
        }
      ]
    },
    {
      "cell_type": "code",
      "metadata": {
        "id": "DxQm_xPGAdPo",
        "colab_type": "code",
        "colab": {
          "base_uri": "https://localhost:8080/",
          "height": 51
        },
        "outputId": "61d05fc1-c87a-4b13-879e-96a05310c4b9"
      },
      "source": [
        "decision_tree = DecisionTreeClassifier() \n",
        "decision_tree.fit(X_train_res, y_train_res)\n",
        "print(y_train_res.shape)\n",
        "\n",
        "Y_pred = decision_tree.predict(X_test)\n",
        "print(Y_pred.shape)\n",
        "# acc_decision_tree = round(decision_tree.score(X_train_res, y_train_res) * 100, 2)\n",
        "# print(acc_decision_tree)\n",
        "# acc_dt_score= Score(Y_pred,y_train_res)\n"
      ],
      "execution_count": 221,
      "outputs": [
        {
          "output_type": "stream",
          "text": [
            "(36472,)\n",
            "(4772,)\n"
          ],
          "name": "stdout"
        }
      ]
    },
    {
      "cell_type": "code",
      "metadata": {
        "id": "zyPYMp_iClF6",
        "colab_type": "code",
        "colab": {
          "base_uri": "https://localhost:8080/",
          "height": 34
        },
        "outputId": "9283c9a6-c822-435e-ea6e-2270361aa019"
      },
      "source": [
        "random_forest = RandomForestClassifier(n_estimators=100)\n",
        "print(X_train_resample.shape , y_train_resample.shape)\n",
        "\n",
        "random_forest.fit(X_train_resample, y_train_resample)\n",
        "\n",
        "Y_prediction = random_forest.predict(X_test)\n",
        "\n",
        "\n",
        "\n"
      ],
      "execution_count": 252,
      "outputs": [
        {
          "output_type": "stream",
          "text": [
            "(25513, 20) (25513,)\n"
          ],
          "name": "stdout"
        }
      ]
    },
    {
      "cell_type": "code",
      "metadata": {
        "id": "VdrJFKQTCBkV",
        "colab_type": "code",
        "colab": {
          "base_uri": "https://localhost:8080/",
          "height": 235
        },
        "outputId": "4cc4a317-d73f-4548-b332-c8ffac9c2f7d"
      },
      "source": [
        "results = pd.DataFrame({\n",
        "    'Model': ['Support Vector Machines', 'KNN', 'Logistic Regression', \n",
        "              'Random Forest',\n",
        "              'Decision Tree'],\n",
        "    'Score': [acc_linear_svc, acc_knn, acc_log, \n",
        "              acc_random_forest, \n",
        "               acc_decision_tree]})\n",
        "result_df = results.sort_values(by='Score', ascending=False)\n",
        "result_df = result_df.set_index('Score')\n",
        "result_df.head()"
      ],
      "execution_count": 215,
      "outputs": [
        {
          "output_type": "execute_result",
          "data": {
            "text/html": [
              "<div>\n",
              "<style scoped>\n",
              "    .dataframe tbody tr th:only-of-type {\n",
              "        vertical-align: middle;\n",
              "    }\n",
              "\n",
              "    .dataframe tbody tr th {\n",
              "        vertical-align: top;\n",
              "    }\n",
              "\n",
              "    .dataframe thead th {\n",
              "        text-align: right;\n",
              "    }\n",
              "</style>\n",
              "<table border=\"1\" class=\"dataframe\">\n",
              "  <thead>\n",
              "    <tr style=\"text-align: right;\">\n",
              "      <th></th>\n",
              "      <th>Model</th>\n",
              "    </tr>\n",
              "    <tr>\n",
              "      <th>Score</th>\n",
              "      <th></th>\n",
              "    </tr>\n",
              "  </thead>\n",
              "  <tbody>\n",
              "    <tr>\n",
              "      <th>100.00</th>\n",
              "      <td>Random Forest</td>\n",
              "    </tr>\n",
              "    <tr>\n",
              "      <th>100.00</th>\n",
              "      <td>Decision Tree</td>\n",
              "    </tr>\n",
              "    <tr>\n",
              "      <th>98.51</th>\n",
              "      <td>KNN</td>\n",
              "    </tr>\n",
              "    <tr>\n",
              "      <th>80.48</th>\n",
              "      <td>Logistic Regression</td>\n",
              "    </tr>\n",
              "    <tr>\n",
              "      <th>55.55</th>\n",
              "      <td>Support Vector Machines</td>\n",
              "    </tr>\n",
              "  </tbody>\n",
              "</table>\n",
              "</div>"
            ],
            "text/plain": [
              "                          Model\n",
              "Score                          \n",
              "100.00            Random Forest\n",
              "100.00            Decision Tree\n",
              "98.51                       KNN\n",
              "80.48       Logistic Regression\n",
              "55.55   Support Vector Machines"
            ]
          },
          "metadata": {
            "tags": []
          },
          "execution_count": 215
        }
      ]
    },
    {
      "cell_type": "code",
      "metadata": {
        "id": "KWSsNM9GnGLA",
        "colab_type": "code",
        "colab": {
          "base_uri": "https://localhost:8080/",
          "height": 119
        },
        "outputId": "4b2d56b6-2498-4b52-e2b5-a7e1e596323f"
      },
      "source": [
        "r1=dftest['INCIDENT_ID']\n",
        "r2=pd.DataFrame(Y_prediction,columns=['MULTIPLE_OFFENSE'])\n",
        "result=pd.concat([r1,r2],axis=1)\n",
        "print(result.head())\n",
        "result.to_csv('/content/gdrive/My Drive/NovartisHackerrank/sample_submission.csv',index=False)\n"
      ],
      "execution_count": 253,
      "outputs": [
        {
          "output_type": "stream",
          "text": [
            "  INCIDENT_ID  MULTIPLE_OFFENSE\n",
            "0   CR_195453               1.0\n",
            "1   CR_103520               1.0\n",
            "2   CR_196089               1.0\n",
            "3   CR_112195               1.0\n",
            "4   CR_149832               1.0\n"
          ],
          "name": "stdout"
        }
      ]
    },
    {
      "cell_type": "code",
      "metadata": {
        "id": "bX8ISBewdKl8",
        "colab_type": "code",
        "colab": {
          "base_uri": "https://localhost:8080/",
          "height": 34
        },
        "outputId": "a3db7672-8e58-4cd2-c25c-16806c32d309"
      },
      "source": [
        "print(Y_prediction.shape,X_train_res.shape)"
      ],
      "execution_count": 219,
      "outputs": [
        {
          "output_type": "stream",
          "text": [
            "(4772,) (36472, 20)\n"
          ],
          "name": "stdout"
        }
      ]
    },
    {
      "cell_type": "code",
      "metadata": {
        "id": "Za-zLByvdYg0",
        "colab_type": "code",
        "colab": {
          "base_uri": "https://localhost:8080/",
          "height": 34
        },
        "outputId": "764d4210-6032-4246-8aec-84935b7dd23c"
      },
      "source": [
        "dftrain.INCIDENT_ID.shape"
      ],
      "execution_count": 254,
      "outputs": [
        {
          "output_type": "execute_result",
          "data": {
            "text/plain": [
              "(23856,)"
            ]
          },
          "metadata": {
            "tags": []
          },
          "execution_count": 254
        }
      ]
    }
  ]
}