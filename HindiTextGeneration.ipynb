{
  "nbformat": 4,
  "nbformat_minor": 0,
  "metadata": {
    "colab": {
      "name": "HindiTextGeneration.ipynb",
      "provenance": [],
      "collapsed_sections": [],
      "authorship_tag": "ABX9TyOf3vbV4VA3RF4qeyinY4dM",
      "include_colab_link": true
    },
    "kernelspec": {
      "name": "python3",
      "display_name": "Python 3"
    },
    "accelerator": "GPU"
  },
  "cells": [
    {
      "cell_type": "markdown",
      "metadata": {
        "id": "view-in-github",
        "colab_type": "text"
      },
      "source": [
        "<a href=\"https://colab.research.google.com/github/shweta-aiml/100daysofcode/blob/master/HindiTextGeneration.ipynb\" target=\"_parent\"><img src=\"https://colab.research.google.com/assets/colab-badge.svg\" alt=\"Open In Colab\"/></a>"
      ]
    },
    {
      "cell_type": "code",
      "metadata": {
        "id": "-f4Cmx_dEFrU",
        "colab_type": "code",
        "outputId": "2a5448aa-25e1-431b-b290-6ffccede0206",
        "colab": {
          "base_uri": "https://localhost:8080/",
          "height": 156
        }
      },
      "source": [
        "!pip install indic-transliteration "
      ],
      "execution_count": 0,
      "outputs": [
        {
          "output_type": "stream",
          "text": [
            "Requirement already satisfied: indic-transliteration in /usr/local/lib/python3.6/dist-packages (1.9.4)\n",
            "Requirement already satisfied: backports.functools-lru-cache in /usr/local/lib/python3.6/dist-packages (from indic-transliteration) (1.6.1)\n",
            "Requirement already satisfied: splinter in /usr/local/lib/python3.6/dist-packages (from indic-transliteration) (0.13.0)\n",
            "Requirement already satisfied: regex in /usr/local/lib/python3.6/dist-packages (from indic-transliteration) (2019.12.20)\n",
            "Requirement already satisfied: six in /usr/local/lib/python3.6/dist-packages (from splinter->indic-transliteration) (1.12.0)\n",
            "Requirement already satisfied: selenium>=3.141.0 in /usr/local/lib/python3.6/dist-packages (from splinter->indic-transliteration) (3.141.0)\n",
            "Requirement already satisfied: urllib3 in /usr/local/lib/python3.6/dist-packages (from selenium>=3.141.0->splinter->indic-transliteration) (1.24.3)\n"
          ],
          "name": "stdout"
        }
      ]
    },
    {
      "cell_type": "code",
      "metadata": {
        "id": "HVys5Nv5FuA9",
        "colab_type": "code",
        "colab": {}
      },
      "source": [
        "import urllib.request\n",
        "import os\n",
        "import zipfile\n",
        "import glob\n",
        "import numpy as np\n",
        "import random\n",
        "from keras import models\n",
        "from keras import layers\n",
        "from keras import callbacks\n",
        "from keras.utils import plot_model\n",
        "import matplotlib.pyplot as plt\n",
        "import progressbar\n",
        "from indic_transliteration import sanscript\n",
        "\n",
        "import tensorflow as tf\n",
        "\n",
        "import numpy as np\n",
        "import os\n",
        "import time\n"
      ],
      "execution_count": 0,
      "outputs": []
    },
    {
      "cell_type": "code",
      "metadata": {
        "id": "SL0txi_1F9i3",
        "colab_type": "code",
        "colab": {}
      },
      "source": [
        "#load the data , check to see if we can load data from one file lets say premchandra \n",
        "#create input and putput sequence of data\n",
        "#creathe the model \n",
        "#train\n",
        "#predict \n"
      ],
      "execution_count": 0,
      "outputs": []
    },
    {
      "cell_type": "code",
      "metadata": {
        "id": "3YD6JmGbpozJ",
        "colab_type": "code",
        "colab": {}
      },
      "source": [
        "# Path where the corpus will end up.\n",
        "corpus_path = \"corpus\"\n",
        "file_contents = []\n",
        "# Hyperparameters.\n",
        "transliteration = True # Transliterates the corpus.\n",
        "input_length = 100 # Length of the input sequence.\n",
        "output_length = 1 # Length of the output sequence.\n",
        "BATCH_SIZE = 64\n",
        " # Batch size during training.\n",
        "hidden_size = 350 # Size of the hidden layer.\n",
        "generation_length = 160 # Size of the strings that are generated.\n",
        "BUFFER_SIZE = 10000\n",
        "# The embedding dimension\n",
        "embedding_dim = 256\n",
        "\n",
        "# Number of RNN units\n",
        "rnn_units = 1024\n",
        "seq_length = 100\n"
      ],
      "execution_count": 0,
      "outputs": []
    },
    {
      "cell_type": "code",
      "metadata": {
        "id": "_B0bYKR2sVD5",
        "colab_type": "code",
        "colab": {}
      },
      "source": [
        "#downloading corpus from the github sites\n",
        "def ensure_corpus():\n",
        "    \"\"\" Makes sure that the corpus is on the hard-drive.\"\"\"\n",
        "\n",
        "    # Do nothing if the filder already exists-\n",
        "    if os.path.exists(\"corpus\") == False:\n",
        "        # Download the whole git-repository as a zip.\n",
        "        print(\"Downloading corpus...\")\n",
        "        corpus_url = \"https://github.com/cltk/hindi_text_ltrc/archive/master.zip\"\n",
        "        corpus_zip_path = \"master.zip\"\n",
        "        urllib.request.urlretrieve(corpus_url, corpus_zip_path)\n",
        "\n",
        "        # Unzip the whole git-repository to the corpus-path.\n",
        "        print(\"Unzipping corpus...\")\n",
        "        zip_file = zipfile.ZipFile(corpus_zip_path, 'r')\n",
        "        zip_file.extractall(corpus_path)\n",
        "        zip_file.close()\n",
        "\n",
        "        # Remove the zip-file.\n",
        "        os.remove(corpus_zip_path)"
      ],
      "execution_count": 0,
      "outputs": []
    },
    {
      "cell_type": "code",
      "metadata": {
        "id": "iCv7juFaKutJ",
        "colab_type": "code",
        "colab": {}
      },
      "source": [
        "def read_file():\n",
        "    # Get paths to all files.\n",
        "    glob_path = os.path.join(corpus_path, \"**/*.txt\")\n",
        "    paths = glob.glob(glob_path, recursive=True)\n",
        "    print(\"Display all text files \")\n",
        "    print(paths)\n",
        "    #hardcoding for a single file -\n",
        "    # paths.clear()\n",
        "    # print(len(paths))\n",
        "    # paths = ['/content/corpus/hindi_text_ltrc-master/Kabeera/main.txt']\n",
        "    # print(paths)\n",
        "    return paths\n",
        "\n",
        "def load_file(paths):\n",
        "    print(\"Loading all files...\")\n",
        "    \n",
        "    for path in paths:\n",
        "          # file_content = open(path, \"r\").read()\n",
        "          # if transliteration == True:\n",
        "          #     file_content = sanscript.transliterate(file_content, sanscript.DEVANAGARI, sanscript.IAST)\n",
        "          # file_content = clean_text(file_content)\n",
        "          # file_contents.append(file_content)\n",
        "          # # Read, then decode for py2 compat.\n",
        "          \n",
        "          file_content = open(path, 'rb').read().decode(encoding='utf-8')\n",
        "          if transliteration == True:\n",
        "            file_content = sanscript.transliterate(file_content, sanscript.DEVANAGARI, sanscript.IAST)\n",
        "          # length of text is the number of characters in it\n",
        "          print ('Length of text: {} characters'.format(len(file_content)))\n",
        "          file_content = clean_text(file_content)\n",
        "          file_contents.append(file_content)"
      ],
      "execution_count": 0,
      "outputs": []
    },
    {
      "cell_type": "code",
      "metadata": {
        "id": "u0moJLgzB9K6",
        "colab_type": "code",
        "outputId": "4ff334ea-7609-4b10-9613-13bbcd782e33",
        "colab": {
          "base_uri": "https://localhost:8080/",
          "height": 394
        }
      },
      "source": [
        "read_file()"
      ],
      "execution_count": 0,
      "outputs": [
        {
          "output_type": "stream",
          "text": [
            "Display all text files \n",
            "['corpus/hindi_text_ltrc-master/Rahima/main.txt', 'corpus/hindi_text_ltrc-master/Meera/bjn/main.txt', 'corpus/hindi_text_ltrc-master/Meera/bjnm/main.txt', 'corpus/hindi_text_ltrc-master/tulasidaas/Raamacharita_maanasa/4/main.txt', 'corpus/hindi_text_ltrc-master/tulasidaas/Raamacharita_maanasa/1/main.txt', 'corpus/hindi_text_ltrc-master/tulasidaas/Raamacharita_maanasa/3/main.txt', 'corpus/hindi_text_ltrc-master/tulasidaas/Raamacharita_maanasa/2/main.txt', 'corpus/hindi_text_ltrc-master/tulasidaas/Raamacharita_maanasa/7/main.txt', 'corpus/hindi_text_ltrc-master/tulasidaas/Raamacharita_maanasa/5/main.txt', 'corpus/hindi_text_ltrc-master/tulasidaas/Raamacharita_maanasa/6/main.txt', 'corpus/hindi_text_ltrc-master/tulasidaas/KV/main.txt', 'corpus/hindi_text_ltrc-master/miscellaneous/seva/main.txt', 'corpus/hindi_text_ltrc-master/miscellaneous/Uddhav/main.txt', 'corpus/hindi_text_ltrc-master/miscellaneous/vaktavya/main.txt', 'corpus/hindi_text_ltrc-master/miscellaneous/kamayani/main.txt', 'corpus/hindi_text_ltrc-master/miscellaneous/gandhi/main.txt', 'corpus/hindi_text_ltrc-master/miscellaneous/skgt/main.txt', 'corpus/hindi_text_ltrc-master/cakra/main.txt', 'corpus/hindi_text_ltrc-master/Kabeera/main.txt']\n"
          ],
          "name": "stdout"
        },
        {
          "output_type": "execute_result",
          "data": {
            "text/plain": [
              "['corpus/hindi_text_ltrc-master/Rahima/main.txt',\n",
              " 'corpus/hindi_text_ltrc-master/Meera/bjn/main.txt',\n",
              " 'corpus/hindi_text_ltrc-master/Meera/bjnm/main.txt',\n",
              " 'corpus/hindi_text_ltrc-master/tulasidaas/Raamacharita_maanasa/4/main.txt',\n",
              " 'corpus/hindi_text_ltrc-master/tulasidaas/Raamacharita_maanasa/1/main.txt',\n",
              " 'corpus/hindi_text_ltrc-master/tulasidaas/Raamacharita_maanasa/3/main.txt',\n",
              " 'corpus/hindi_text_ltrc-master/tulasidaas/Raamacharita_maanasa/2/main.txt',\n",
              " 'corpus/hindi_text_ltrc-master/tulasidaas/Raamacharita_maanasa/7/main.txt',\n",
              " 'corpus/hindi_text_ltrc-master/tulasidaas/Raamacharita_maanasa/5/main.txt',\n",
              " 'corpus/hindi_text_ltrc-master/tulasidaas/Raamacharita_maanasa/6/main.txt',\n",
              " 'corpus/hindi_text_ltrc-master/tulasidaas/KV/main.txt',\n",
              " 'corpus/hindi_text_ltrc-master/miscellaneous/seva/main.txt',\n",
              " 'corpus/hindi_text_ltrc-master/miscellaneous/Uddhav/main.txt',\n",
              " 'corpus/hindi_text_ltrc-master/miscellaneous/vaktavya/main.txt',\n",
              " 'corpus/hindi_text_ltrc-master/miscellaneous/kamayani/main.txt',\n",
              " 'corpus/hindi_text_ltrc-master/miscellaneous/gandhi/main.txt',\n",
              " 'corpus/hindi_text_ltrc-master/miscellaneous/skgt/main.txt',\n",
              " 'corpus/hindi_text_ltrc-master/cakra/main.txt',\n",
              " 'corpus/hindi_text_ltrc-master/Kabeera/main.txt']"
            ]
          },
          "metadata": {
            "tags": []
          },
          "execution_count": 120
        }
      ]
    },
    {
      "cell_type": "code",
      "metadata": {
        "id": "rzeiyjfDJrtA",
        "colab_type": "code",
        "colab": {}
      },
      "source": [
        "#unique list of characters\n",
        "def get_character_set(text):\n",
        "    \"\"\" Retrieves the unique set of characters. \"\"\"\n",
        "    vocab =  sorted(list(set(text)))\n",
        "    print ('{} unique characters'.format(len(vocab)))\n",
        "    return vocab\n"
      ],
      "execution_count": 0,
      "outputs": []
    },
    {
      "cell_type": "code",
      "metadata": {
        "id": "YIA0F11LQRrd",
        "colab_type": "code",
        "colab": {}
      },
      "source": [
        "def clean_text(text):\n",
        "    \"\"\" Cleans a text. \"\"\"\n",
        "\n",
        "    text = text.replace(\"\\t\", \" \")\n",
        "    text = text.replace(\"\\n\", \" \")\n",
        "    text = text.replace(\"।\", \" \")\n",
        "    text = text.replace(\"0\", \" \")\n",
        "    text = text.replace(\"1\", \" \")\n",
        "    text = text.replace(\"2\", \" \")\n",
        "    text = text.replace(\"3\", \" \")\n",
        "    text = text.replace(\"4\", \" \")\n",
        "    text = text.replace(\"5\", \" \")\n",
        "    text = text.replace(\"6\", \" \")\n",
        "    text = text.replace(\"7\", \" \")\n",
        "    text = text.replace(\"8\", \" \")\n",
        "    text = text.replace(\"9\", \" \")\n",
        "    text = \" \".join(text.split())\n",
        "    return text"
      ],
      "execution_count": 0,
      "outputs": []
    },
    {
      "cell_type": "code",
      "metadata": {
        "id": "e1xBNrdVKWF1",
        "colab_type": "code",
        "colab": {}
      },
      "source": [
        "def vectorize_text(vocab,text):\n",
        "  #vectorizing the text\n",
        "  # Creating a mapping from unique characters to indices\n",
        "  char2idx = {u:i for i, u in enumerate(vocab)}\n",
        "  idx2char = np.array(vocab)\n",
        "\n",
        "  text_as_int = np.array([char2idx[c] for c in text])\n",
        "  print('{')\n",
        "  for char,_ in zip(char2idx, range(20)):\n",
        "    print('  {:4s}: {:3d},'.format(repr(char), char2idx[char]))\n",
        "  print('  ...\\n}')\n",
        "  # Show how the first 13 characters from the text are mapped to integers\n",
        "  print ('{} ---- characters mapped to int ---- > {}'.format(repr(text[:13]), text_as_int[:13]))\n",
        "  return text_as_int,idx2char,char2idx"
      ],
      "execution_count": 0,
      "outputs": []
    },
    {
      "cell_type": "code",
      "metadata": {
        "id": "L4uhtHmOSPWB",
        "colab_type": "code",
        "colab": {}
      },
      "source": [
        "# The maximum length sentence we want for a single input in characters\n",
        "def char_to_seq(text,text_as_int):\n",
        "  examples_per_epoch = len(text)//(seq_length+1)\n",
        "\n",
        "  # Create training examples / targets\n",
        "  char_dataset = tf.data.Dataset.from_tensor_slices(text_as_int)\n",
        "\n",
        "  for i in char_dataset.take(5):\n",
        "    print(\"Character to index\",idx2char[i.numpy()])\n",
        "  return  char_dataset"
      ],
      "execution_count": 0,
      "outputs": []
    },
    {
      "cell_type": "code",
      "metadata": {
        "id": "cEi-A-eMTwEA",
        "colab_type": "code",
        "outputId": "94ec6694-7baa-4dfa-879f-04c07ecbcc9a",
        "colab": {
          "base_uri": "https://localhost:8080/",
          "height": 955
        }
      },
      "source": [
        "ensure_corpus()\n",
        "paths = read_file()\n",
        "load_file(paths)\n",
        " # Getting character set.\n",
        "print(\"Getting character set...\")\n",
        "global full_text\n",
        "full_text = \" \".join(file_contents)\n",
        "\n",
        "global character_set\n",
        "character_set = get_character_set(full_text)\n",
        "print(\"Character set:\", character_set, len(character_set))\n",
        "text_int,idx2char,char2idx = vectorize_text(character_set,full_text)\n",
        "char_seq_dataset = char_to_seq(full_text,text_int)"
      ],
      "execution_count": 0,
      "outputs": [
        {
          "output_type": "stream",
          "text": [
            "Display all text files \n",
            "['corpus/hindi_text_ltrc-master/Rahima/main.txt', 'corpus/hindi_text_ltrc-master/Meera/bjn/main.txt', 'corpus/hindi_text_ltrc-master/Meera/bjnm/main.txt', 'corpus/hindi_text_ltrc-master/tulasidaas/Raamacharita_maanasa/4/main.txt', 'corpus/hindi_text_ltrc-master/tulasidaas/Raamacharita_maanasa/1/main.txt', 'corpus/hindi_text_ltrc-master/tulasidaas/Raamacharita_maanasa/3/main.txt', 'corpus/hindi_text_ltrc-master/tulasidaas/Raamacharita_maanasa/2/main.txt', 'corpus/hindi_text_ltrc-master/tulasidaas/Raamacharita_maanasa/7/main.txt', 'corpus/hindi_text_ltrc-master/tulasidaas/Raamacharita_maanasa/5/main.txt', 'corpus/hindi_text_ltrc-master/tulasidaas/Raamacharita_maanasa/6/main.txt', 'corpus/hindi_text_ltrc-master/tulasidaas/KV/main.txt', 'corpus/hindi_text_ltrc-master/miscellaneous/seva/main.txt', 'corpus/hindi_text_ltrc-master/miscellaneous/Uddhav/main.txt', 'corpus/hindi_text_ltrc-master/miscellaneous/vaktavya/main.txt', 'corpus/hindi_text_ltrc-master/miscellaneous/kamayani/main.txt', 'corpus/hindi_text_ltrc-master/miscellaneous/gandhi/main.txt', 'corpus/hindi_text_ltrc-master/miscellaneous/skgt/main.txt', 'corpus/hindi_text_ltrc-master/cakra/main.txt', 'corpus/hindi_text_ltrc-master/Kabeera/main.txt']\n",
            "Loading all files...\n",
            "Length of text: 43919 characters\n",
            "Length of text: 46316 characters\n",
            "Length of text: 19115 characters\n",
            "Length of text: 19410 characters\n",
            "Length of text: 198223 characters\n",
            "Length of text: 15262 characters\n",
            "Length of text: 165751 characters\n",
            "Length of text: 88315 characters\n",
            "Length of text: 34023 characters\n",
            "Length of text: 81735 characters\n",
            "Length of text: 20052 characters\n",
            "Length of text: 1105074 characters\n",
            "Length of text: 49493 characters\n",
            "Length of text: 51874 characters\n",
            "Length of text: 142241 characters\n",
            "Length of text: 76469 characters\n",
            "Length of text: 172387 characters\n",
            "Length of text: 79491 characters\n",
            "Length of text: 73213 characters\n",
            "Getting character set...\n",
            "108 unique characters\n",
            "Character set: [' ', '!', '\"', \"'\", '(', ')', ',', '-', '.', '/', ':', '=', '?', '`', 'Ê', 'Ù', 'Ý', 'è', 'é', 'í', 'û', 'ँ', 'ं', 'ः', 'अ', 'आ', 'इ', 'ई', 'उ', 'ऊ', 'ऋ', 'ऌ', 'ऎ', 'ए', 'ऐ', 'ओ', 'औ', 'क', 'ख', 'ग', 'घ', 'ङ', 'च', 'छ', 'ज', 'झ', 'ञ', 'ट', 'ठ', 'ड', 'ढ', 'ण', 'त', 'थ', 'द', 'ध', 'न', 'प', 'फ', 'ब', 'भ', 'म', 'य', 'र', 'ल', 'ळ', 'व', 'श', 'ष', 'स', 'ह', '़', 'ऽ', 'ा', 'ि', 'ी', 'ु', 'ू', 'ृ', 'ॅ', 'े', 'ै', 'ॉ', 'ो', 'ौ', '्', 'ॐ', 'क़', 'ग़', 'ज़', 'ड़', 'फ़', 'ॠ', '॥', '०', '१', '२', '३', '४', '५', '६', '७', '८', '९', '\\u200c', '\\u200d', '–', '’'] 108\n",
            "{\n",
            "  ' ' :   0,\n",
            "  '!' :   1,\n",
            "  '\"' :   2,\n",
            "  \"'\" :   3,\n",
            "  '(' :   4,\n",
            "  ')' :   5,\n",
            "  ',' :   6,\n",
            "  '-' :   7,\n",
            "  '.' :   8,\n",
            "  '/' :   9,\n",
            "  ':' :  10,\n",
            "  '=' :  11,\n",
            "  '?' :  12,\n",
            "  '`' :  13,\n",
            "  'Ê' :  14,\n",
            "  'Ù' :  15,\n",
            "  'Ý' :  16,\n",
            "  'è' :  17,\n",
            "  'é' :  18,\n",
            "  'í' :  19,\n",
            "  ...\n",
            "}\n",
            "'उत्तम जाति है' ---- characters mapped to int ---- > [28 52 85 52 61  0 44 73 52 74  0 70 81]\n",
            "Character to index उ\n",
            "Character to index त\n",
            "Character to index ्\n",
            "Character to index त\n",
            "Character to index म\n"
          ],
          "name": "stdout"
        }
      ]
    },
    {
      "cell_type": "code",
      "metadata": {
        "id": "YkElQulCU12D",
        "colab_type": "code",
        "outputId": "91ba4118-719e-46de-aef8-327254d3bb13",
        "colab": {
          "base_uri": "https://localhost:8080/",
          "height": 34
        }
      },
      "source": [
        "char_seq_dataset"
      ],
      "execution_count": 0,
      "outputs": [
        {
          "output_type": "execute_result",
          "data": {
            "text/plain": [
              "<TensorSliceDataset shapes: (), types: tf.int64>"
            ]
          },
          "metadata": {
            "tags": []
          },
          "execution_count": 126
        }
      ]
    },
    {
      "cell_type": "code",
      "metadata": {
        "id": "Kdc0sdswE3kl",
        "colab_type": "code",
        "colab": {}
      },
      "source": [
        ""
      ],
      "execution_count": 0,
      "outputs": []
    },
    {
      "cell_type": "code",
      "metadata": {
        "id": "_6KUYvHvVP2M",
        "colab_type": "code",
        "outputId": "303b5bdc-c1ce-4a13-878c-cdbd6ed1a7b8",
        "colab": {
          "base_uri": "https://localhost:8080/",
          "height": 102
        }
      },
      "source": [
        "sequences = char_seq_dataset.batch(seq_length+1, drop_remainder=True)\n",
        "\n",
        "for item in sequences.take(5):\n",
        "  print(repr(''.join(idx2char[item.numpy()])))"
      ],
      "execution_count": 0,
      "outputs": [
        {
          "output_type": "stream",
          "text": [
            "'उत्तम जाति है बाह्मनी / रहीम उत्तम जाति है बाह्मनी, देखत चित्त लुभाय परम पाप पल में हरत, परसत वाके पा'\n",
            "'य रूपरंग रतिराज में, छतरानी इतरान मानौ रची बिरंचि पचि, कुसुम कनक में सान बनियाइनि बनि आइकै, बैठि रूप '\n",
            "'की हाट पेम पेक तन हेरिकै, गरुवै टारति बाट गरब तराजू करति चख, भौंह मोरि मुसकाति डाँड़ी मारति बिरह की, '\n",
            "'चित चिंता घटि जाति कमल-दल नैननि की उनमानि / रहीम कमल-दल नैननि की उनमानि बिसरत नाहिं सखी मो मन ते मंद '\n",
            "'मंद मुसकानि॥ यह दसननि दुति चपला हू ते महा चपल चमकानि बसुधा की बस करी मधुरता सुधा-पगी बतरानि॥ चढ़ी रहे'\n"
          ],
          "name": "stdout"
        }
      ]
    },
    {
      "cell_type": "code",
      "metadata": {
        "id": "Wt7soWYMVAYF",
        "colab_type": "code",
        "colab": {}
      },
      "source": [
        "def split_input_target(chunk):\n",
        "    input_text = chunk[:-1]\n",
        "    target_text = chunk[1:]\n",
        "    return input_text, target_text\n",
        "\n",
        "dataset = sequences.map(split_input_target)\n"
      ],
      "execution_count": 0,
      "outputs": []
    },
    {
      "cell_type": "code",
      "metadata": {
        "id": "NePq1Q0MiUWU",
        "colab_type": "code",
        "outputId": "12ef724c-d90a-4537-912b-edd61b67d0c2",
        "colab": {
          "base_uri": "https://localhost:8080/",
          "height": 34
        }
      },
      "source": [
        "dataset"
      ],
      "execution_count": 0,
      "outputs": [
        {
          "output_type": "execute_result",
          "data": {
            "text/plain": [
              "<MapDataset shapes: ((100,), (100,)), types: (tf.int64, tf.int64)>"
            ]
          },
          "metadata": {
            "tags": []
          },
          "execution_count": 129
        }
      ]
    },
    {
      "cell_type": "code",
      "metadata": {
        "id": "qPS02POgVVFb",
        "colab_type": "code",
        "outputId": "52f2c038-0d01-4c65-dd2c-d46a70e78180",
        "colab": {
          "base_uri": "https://localhost:8080/",
          "height": 51
        }
      },
      "source": [
        "for input_example, target_example in  dataset.take(1):\n",
        "  print ('Input data: ', repr(''.join(idx2char[input_example.numpy()])))\n",
        "  print ('Target data:', repr(''.join(idx2char[target_example.numpy()])))"
      ],
      "execution_count": 0,
      "outputs": [
        {
          "output_type": "stream",
          "text": [
            "Input data:  'उत्तम जाति है बाह्मनी / रहीम उत्तम जाति है बाह्मनी, देखत चित्त लुभाय परम पाप पल में हरत, परसत वाके प'\n",
            "Target data: 'त्तम जाति है बाह्मनी / रहीम उत्तम जाति है बाह्मनी, देखत चित्त लुभाय परम पाप पल में हरत, परसत वाके पा'\n"
          ],
          "name": "stdout"
        }
      ]
    },
    {
      "cell_type": "code",
      "metadata": {
        "id": "2vMozBGhmHMN",
        "colab_type": "code",
        "outputId": "78e97dcf-acac-4ac8-e600-ac25600e33a2",
        "colab": {
          "base_uri": "https://localhost:8080/",
          "height": 272
        }
      },
      "source": [
        "for i, (input_idx, target_idx) in enumerate(zip(input_example[:5], target_example[:5])):\n",
        "    print(\"Step {:4d}\".format(i))\n",
        "    print(\"  input: {} ({:s})\".format(input_idx, repr(idx2char[input_idx])))\n",
        "    print(\"  expected output: {} ({:s})\".format(target_idx, repr(idx2char[target_idx])))"
      ],
      "execution_count": 0,
      "outputs": [
        {
          "output_type": "stream",
          "text": [
            "Step    0\n",
            "  input: 28 ('उ')\n",
            "  expected output: 52 ('त')\n",
            "Step    1\n",
            "  input: 52 ('त')\n",
            "  expected output: 85 ('्')\n",
            "Step    2\n",
            "  input: 85 ('्')\n",
            "  expected output: 52 ('त')\n",
            "Step    3\n",
            "  input: 52 ('त')\n",
            "  expected output: 61 ('म')\n",
            "Step    4\n",
            "  input: 61 ('म')\n",
            "  expected output: 0 (' ')\n"
          ],
          "name": "stdout"
        }
      ]
    },
    {
      "cell_type": "code",
      "metadata": {
        "id": "yk0BwKToVis6",
        "colab_type": "code",
        "outputId": "ec4083cd-a15c-4e14-fcf9-1f54a3367ac9",
        "colab": {
          "base_uri": "https://localhost:8080/",
          "height": 34
        }
      },
      "source": [
        "# Batch size\n",
        "\n",
        "# Buffer size to shuffle the dataset\n",
        "# (TF data is designed to work with possibly infinite sequences,\n",
        "# so it doesn't attempt to shuffle the entire sequence in memory. Instead,\n",
        "# it maintains a buffer in which it shuffles elements).\n",
        "\n",
        "\n",
        "dataset = dataset.shuffle(BUFFER_SIZE).batch(BATCH_SIZE, drop_remainder=True)\n",
        "\n",
        "dataset"
      ],
      "execution_count": 0,
      "outputs": [
        {
          "output_type": "execute_result",
          "data": {
            "text/plain": [
              "<BatchDataset shapes: ((64, 100), (64, 100)), types: (tf.int64, tf.int64)>"
            ]
          },
          "metadata": {
            "tags": []
          },
          "execution_count": 132
        }
      ]
    },
    {
      "cell_type": "code",
      "metadata": {
        "id": "0srsOmu8VoXh",
        "colab_type": "code",
        "outputId": "fcf949eb-1be0-46e2-f49f-e5701214ed21",
        "colab": {
          "base_uri": "https://localhost:8080/",
          "height": 34
        }
      },
      "source": [
        "# Length of the vocabulary in chars\n",
        "vocab_size = len(character_set)\n",
        "vocab_size\n"
      ],
      "execution_count": 0,
      "outputs": [
        {
          "output_type": "execute_result",
          "data": {
            "text/plain": [
              "108"
            ]
          },
          "metadata": {
            "tags": []
          },
          "execution_count": 133
        }
      ]
    },
    {
      "cell_type": "code",
      "metadata": {
        "id": "SC83vIZwWH4T",
        "colab_type": "code",
        "outputId": "ca7187aa-4e03-4ced-cc6c-df7dc4c3b2c4",
        "colab": {
          "base_uri": "https://localhost:8080/",
          "height": 255
        }
      },
      "source": [
        "input_shape = (input_length, len(character_set))\n",
        "model = tf.keras.Sequential([\n",
        "tf.keras.layers.Embedding(vocab_size, embedding_dim,  \n",
        "                          batch_input_shape=[BATCH_SIZE, None]),\n",
        "tf.keras.layers.GRU(rnn_units,\n",
        "                return_sequences=True,\n",
        "                stateful=True,\n",
        "                recurrent_initializer='glorot_uniform'),\n",
        "tf.keras.layers.Dense(vocab_size)\n",
        "\n",
        "])\n",
        "model.summary()"
      ],
      "execution_count": 0,
      "outputs": [
        {
          "output_type": "stream",
          "text": [
            "Model: \"sequential_5\"\n",
            "_________________________________________________________________\n",
            "Layer (type)                 Output Shape              Param #   \n",
            "=================================================================\n",
            "embedding_5 (Embedding)      (64, None, 256)           27648     \n",
            "_________________________________________________________________\n",
            "gru_5 (GRU)                  (64, None, 1024)          3938304   \n",
            "_________________________________________________________________\n",
            "dense_5 (Dense)              (64, None, 108)           110700    \n",
            "=================================================================\n",
            "Total params: 4,076,652\n",
            "Trainable params: 4,076,652\n",
            "Non-trainable params: 0\n",
            "_________________________________________________________________\n"
          ],
          "name": "stdout"
        }
      ]
    },
    {
      "cell_type": "code",
      "metadata": {
        "id": "y9aIbN-zacTh",
        "colab_type": "code",
        "outputId": "3606f143-af12-4d40-8a6c-fc94979551e2",
        "colab": {
          "base_uri": "https://localhost:8080/",
          "height": 34
        }
      },
      "source": [
        "input_shape = (input_length, len(character_set))\n",
        "input_shape"
      ],
      "execution_count": 0,
      "outputs": [
        {
          "output_type": "execute_result",
          "data": {
            "text/plain": [
              "(100, 108)"
            ]
          },
          "metadata": {
            "tags": []
          },
          "execution_count": 135
        }
      ]
    },
    {
      "cell_type": "code",
      "metadata": {
        "id": "ZCWgzyu8jH11",
        "colab_type": "code",
        "colab": {}
      },
      "source": [
        "# model = tf.keras.Sequential([\n",
        "# tf.keras.layers.Embedding(vocab_size, embedding_dim,\n",
        "#                           batch_input_shape=[BATCH_SIZE, None]),\n",
        "# tf.keras.layers.GRU(rnn_units,\n",
        "#                     return_sequences=True,\n",
        "#                     stateful=True,\n",
        "#                     recurrent_initializer='glorot_uniform'),\n",
        "# tf.keras.layers.Dense(vocab_size)])\n",
        "# model.summary()"
      ],
      "execution_count": 0,
      "outputs": []
    },
    {
      "cell_type": "code",
      "metadata": {
        "id": "v6DFkgAxhoS9",
        "colab_type": "code",
        "colab": {}
      },
      "source": [
        "# model = tf.keras.Sequential()\n",
        "# # Add an Embedding layer expecting input vocab of size 1000, and\n",
        "# # output embedding dimension of size 64.\n",
        "# model.add(tf.keras.layers.Embedding(vocab_size,embedding_dim, batch_input_shape=[BATCH_SIZE, None]))\n",
        "\n",
        "# # Add a LSTM layer with 128 internal units.\n",
        "# model.add(tf.keras.layers.LSTM(rnn_units,return_sequences=True,\n",
        "#                     stateful=True,\n",
        "#                     recurrent_initializer='glorot_uniform'))\n",
        "\n",
        "# # Add a Dense layer with 10 units.\n",
        "# model.add(tf.keras.layers.Dense(vocab_size))\n",
        "\n",
        "# model.summary()"
      ],
      "execution_count": 0,
      "outputs": []
    },
    {
      "cell_type": "code",
      "metadata": {
        "id": "y7Df6nq0WKdc",
        "colab_type": "code",
        "colab": {}
      },
      "source": [
        "# model = build_model(\n",
        "#   vocab_size = len(character_set),\n",
        "#   embedding_dim=embedding_dim,\n",
        "#  # rnn_units=rnn_units,\n",
        "#   batch_size=BATCH_SIZE)"
      ],
      "execution_count": 0,
      "outputs": []
    },
    {
      "cell_type": "code",
      "metadata": {
        "id": "kJ4mR7iaWP4y",
        "colab_type": "code",
        "outputId": "68e1420a-23c6-4920-ed91-2ad6c38c5d5b",
        "colab": {
          "base_uri": "https://localhost:8080/",
          "height": 170
        }
      },
      "source": [
        "for input_example_batch, target_example_batch in dataset.take(1):\n",
        "  print(\"str\",input_example_batch)\n",
        "  example_batch_predictions = model(input_example_batch)\n",
        "  print(example_batch_predictions.shape, \"# (batch_size, sequence_length, vocab_size)\")"
      ],
      "execution_count": 0,
      "outputs": [
        {
          "output_type": "stream",
          "text": [
            "str tf.Tensor(\n",
            "[[ 0 39 39 ... 75 93  0]\n",
            " [56  0 44 ... 56 80 70]\n",
            " [43  0 56 ...  0 42 22]\n",
            " ...\n",
            " [ 0 44 80 ...  0 24 69]\n",
            " [74 63 38 ... 73 66 56]\n",
            " [ 0 26 52 ...  0 70 81]], shape=(64, 100), dtype=int64)\n",
            "(64, 100, 108) # (batch_size, sequence_length, vocab_size)\n"
          ],
          "name": "stdout"
        }
      ]
    },
    {
      "cell_type": "code",
      "metadata": {
        "id": "dfUrNjGrWSsz",
        "colab_type": "code",
        "outputId": "10e1e616-a6af-45b7-f59c-b61fff30ff54",
        "colab": {
          "base_uri": "https://localhost:8080/",
          "height": 255
        }
      },
      "source": [
        "model.summary()"
      ],
      "execution_count": 0,
      "outputs": [
        {
          "output_type": "stream",
          "text": [
            "Model: \"sequential_5\"\n",
            "_________________________________________________________________\n",
            "Layer (type)                 Output Shape              Param #   \n",
            "=================================================================\n",
            "embedding_5 (Embedding)      (64, None, 256)           27648     \n",
            "_________________________________________________________________\n",
            "gru_5 (GRU)                  (64, None, 1024)          3938304   \n",
            "_________________________________________________________________\n",
            "dense_5 (Dense)              (64, None, 108)           110700    \n",
            "=================================================================\n",
            "Total params: 4,076,652\n",
            "Trainable params: 4,076,652\n",
            "Non-trainable params: 0\n",
            "_________________________________________________________________\n"
          ],
          "name": "stdout"
        }
      ]
    },
    {
      "cell_type": "code",
      "metadata": {
        "id": "O_rniZB_WVQI",
        "colab_type": "code",
        "colab": {}
      },
      "source": [
        "sampled_indices = tf.random.categorical(example_batch_predictions[0], num_samples=1)\n",
        "sampled_indices = tf.squeeze(sampled_indices,axis=-1).numpy()"
      ],
      "execution_count": 0,
      "outputs": []
    },
    {
      "cell_type": "code",
      "metadata": {
        "id": "I29PLE0gWXfP",
        "colab_type": "code",
        "outputId": "2f535c2c-0778-4d25-b4db-59a9df5f35f5",
        "colab": {
          "base_uri": "https://localhost:8080/",
          "height": 153
        }
      },
      "source": [
        "sampled_indices"
      ],
      "execution_count": 0,
      "outputs": [
        {
          "output_type": "execute_result",
          "data": {
            "text/plain": [
              "array([103,  57,  11,  44, 101,   5,  11,   2,  57,   0, 104,   5,  18,\n",
              "        29,  53,  72,  52,  31,  16,  81,   6,  34,  83,  32,  51,  30,\n",
              "        79,  29,   9,  50,   5,  27,  68,  18,  88,  93,  95,  82,  64,\n",
              "       102,  64,  26,  87,  96,  25,   4,  31,  79,  48,   5,  30,  84,\n",
              "        67,   5,  27,  94,   0,  28,  73,  63,  85,  24,  45,  17,   7,\n",
              "         5,  80,  27,  22,  91,  83,  73,   8,  10,  21,  37,  96,  29,\n",
              "        14,  58,   1,  45, 104,  42,  88,   6,   4,  95,  32,  93,  57,\n",
              "        71,  36,  71,  38,  44,  36,  80,  62,  56])"
            ]
          },
          "metadata": {
            "tags": []
          },
          "execution_count": 142
        }
      ]
    },
    {
      "cell_type": "code",
      "metadata": {
        "id": "UO31QFlNWaCh",
        "colab_type": "code",
        "outputId": "d70e31a0-b7da-4c1e-d0a6-34c9bfbe28aa",
        "colab": {
          "base_uri": "https://localhost:8080/",
          "height": 224
        }
      },
      "source": [
        "print(\"Input: \\n\", repr(\"\".join(idx2char[input_example_batch[0]])))\n",
        "print()\n",
        "\n",
        "print(\"Next Char Predictions: \\n\")\n",
        "temp = ''.join(idx2char[sampled_indices])\n",
        "new_text = sanscript.transliterate(temp, sanscript.DEVANAGARI, sanscript.IAST)\n",
        "print(new_text)\n",
        "\n",
        "print(\"Input: \\n\", repr(\"\".join(idx2char[input_example_batch[0]])))\n",
        "print()\n",
        "print(\"Next Char Predictions: \\n\", repr(\"\".join(idx2char[sampled_indices ])))"
      ],
      "execution_count": 0,
      "outputs": [
        {
          "output_type": "stream",
          "text": [
            "Input: \n",
            " ' गगन निसान पुर नर नारि सनाथ करि भवन चले भगवान॥ (ख)॥ प्रभु जानी कैकेई लजानी प्रथम तासु गृह गए भवानी॥ '\n",
            "\n",
            "Next Char Predictions: \n",
            "\n",
            "9pa=ja7)=\"pa ‌)éūtha'taḷÝai,aioêṇaṛॅū/ḍha)īṣaéġa||1ॉla8laiqa2ā(ḷॅṭha)ṛauśa)ī0 uārajhaè-)eīṃफ़oā.:m̐ka2ūÊpha!jha‌caġa,(1ê||pa़au़khajaaueyana\n",
            "Input: \n",
            " ' गगन निसान पुर नर नारि सनाथ करि भवन चले भगवान॥ (ख)॥ प्रभु जानी कैकेई लजानी प्रथम तासु गृह गए भवानी॥ '\n",
            "\n",
            "Next Char Predictions: \n",
            " '९प=ज७)=\"प \\u200c)éऊथऽतऌÝै,ऐोऎणऋॅऊ/ढ)ईषéग़॥१ॉल८लइक़२आ(ऌॅठ)ऋौश)ई० उार्अझè-)ेईंफ़ोा.:ँक२ऊÊफ!झ\\u200cचग़,(१ऎ॥प़औ़खजऔेयन'\n"
          ],
          "name": "stdout"
        }
      ]
    },
    {
      "cell_type": "code",
      "metadata": {
        "id": "CwocxBEgYBoe",
        "colab_type": "code",
        "outputId": "d7b506a8-07ea-4401-b3d7-cac438f6f6ec",
        "colab": {
          "base_uri": "https://localhost:8080/",
          "height": 51
        }
      },
      "source": [
        "def loss(labels, logits):\n",
        "  return tf.keras.losses.sparse_categorical_crossentropy(labels, logits, from_logits=True)\n",
        "\n",
        "example_batch_loss  = loss(target_example_batch, example_batch_predictions)\n",
        "print(\"Prediction shape: \", example_batch_predictions.shape, \" # (batch_size, sequence_length, vocab_size)\")\n",
        "print(\"scalar_loss:      \", example_batch_loss.numpy().mean())"
      ],
      "execution_count": 0,
      "outputs": [
        {
          "output_type": "stream",
          "text": [
            "Prediction shape:  (64, 100, 108)  # (batch_size, sequence_length, vocab_size)\n",
            "scalar_loss:       4.682236\n"
          ],
          "name": "stdout"
        }
      ]
    },
    {
      "cell_type": "code",
      "metadata": {
        "id": "CncARvwBYEMK",
        "colab_type": "code",
        "outputId": "436073b0-b4a7-48eb-e2ed-07c6e4ceaaa1",
        "colab": {
          "base_uri": "https://localhost:8080/",
          "height": 255
        }
      },
      "source": [
        "model.compile(optimizer='adam', loss=loss,metrics = ['accuracy'])\n",
        "model.summary()"
      ],
      "execution_count": 0,
      "outputs": [
        {
          "output_type": "stream",
          "text": [
            "Model: \"sequential_5\"\n",
            "_________________________________________________________________\n",
            "Layer (type)                 Output Shape              Param #   \n",
            "=================================================================\n",
            "embedding_5 (Embedding)      (64, None, 256)           27648     \n",
            "_________________________________________________________________\n",
            "gru_5 (GRU)                  (64, None, 1024)          3938304   \n",
            "_________________________________________________________________\n",
            "dense_5 (Dense)              (64, None, 108)           110700    \n",
            "=================================================================\n",
            "Total params: 4,076,652\n",
            "Trainable params: 4,076,652\n",
            "Non-trainable params: 0\n",
            "_________________________________________________________________\n"
          ],
          "name": "stdout"
        }
      ]
    },
    {
      "cell_type": "code",
      "metadata": {
        "id": "m8fT6a4eYG3G",
        "colab_type": "code",
        "colab": {}
      },
      "source": [
        "# Directory where the checkpoints will be saved\n",
        "checkpoint_dir = './training_checkpoints'\n",
        "# Name of the checkpoint files\n",
        "checkpoint_prefix = os.path.join(checkpoint_dir, \"ckpt_{epoch}\")\n",
        "\n",
        "checkpoint_callback=tf.keras.callbacks.ModelCheckpoint(\n",
        "    filepath=checkpoint_prefix,\n",
        "    save_weights_only=True)"
      ],
      "execution_count": 0,
      "outputs": []
    },
    {
      "cell_type": "code",
      "metadata": {
        "id": "sU3cMW6WYJbt",
        "colab_type": "code",
        "outputId": "3e9a3866-e9d9-4aae-9910-f67b94f97a9b",
        "colab": {
          "base_uri": "https://localhost:8080/",
          "height": 697
        }
      },
      "source": [
        "EPOCHS=20\n",
        "history = model.fit(dataset, epochs=EPOCHS, callbacks=[checkpoint_callback])\n",
        "model.save(\"model.h5\")"
      ],
      "execution_count": 0,
      "outputs": [
        {
          "output_type": "stream",
          "text": [
            "Epoch 1/20\n",
            "373/373 [==============================] - 27s 71ms/step - loss: 2.6337 - accuracy: 0.3190\n",
            "Epoch 2/20\n",
            "373/373 [==============================] - 27s 72ms/step - loss: 2.0030 - accuracy: 0.4445\n",
            "Epoch 3/20\n",
            "373/373 [==============================] - 27s 73ms/step - loss: 1.7798 - accuracy: 0.5003\n",
            "Epoch 4/20\n",
            "373/373 [==============================] - 27s 73ms/step - loss: 1.6629 - accuracy: 0.5285\n",
            "Epoch 5/20\n",
            "373/373 [==============================] - 28s 74ms/step - loss: 1.5840 - accuracy: 0.5481\n",
            "Epoch 6/20\n",
            "373/373 [==============================] - 28s 74ms/step - loss: 1.5202 - accuracy: 0.5640\n",
            "Epoch 7/20\n",
            "373/373 [==============================] - 28s 74ms/step - loss: 1.4643 - accuracy: 0.5783\n",
            "Epoch 8/20\n",
            "373/373 [==============================] - 28s 74ms/step - loss: 1.4124 - accuracy: 0.5923\n",
            "Epoch 9/20\n",
            "373/373 [==============================] - 28s 74ms/step - loss: 1.3625 - accuracy: 0.6065\n",
            "Epoch 10/20\n",
            "373/373 [==============================] - 28s 74ms/step - loss: 1.3154 - accuracy: 0.6199\n",
            "Epoch 11/20\n",
            "373/373 [==============================] - 28s 74ms/step - loss: 1.2703 - accuracy: 0.6335\n",
            "Epoch 12/20\n",
            "373/373 [==============================] - 28s 74ms/step - loss: 1.2280 - accuracy: 0.6462\n",
            "Epoch 13/20\n",
            "373/373 [==============================] - 28s 74ms/step - loss: 1.1906 - accuracy: 0.6575\n",
            "Epoch 14/20\n",
            "373/373 [==============================] - 28s 74ms/step - loss: 1.1580 - accuracy: 0.6675\n",
            "Epoch 15/20\n",
            "373/373 [==============================] - 28s 74ms/step - loss: 1.1312 - accuracy: 0.6760\n",
            "Epoch 16/20\n",
            "373/373 [==============================] - 28s 74ms/step - loss: 1.1069 - accuracy: 0.6836\n",
            "Epoch 17/20\n",
            "373/373 [==============================] - 28s 75ms/step - loss: 1.0879 - accuracy: 0.6895\n",
            "Epoch 18/20\n",
            "373/373 [==============================] - 28s 74ms/step - loss: 1.0726 - accuracy: 0.6941\n",
            "Epoch 19/20\n",
            "373/373 [==============================] - 28s 74ms/step - loss: 1.0601 - accuracy: 0.6980\n",
            "Epoch 20/20\n",
            "373/373 [==============================] - 28s 74ms/step - loss: 1.0502 - accuracy: 0.7009\n"
          ],
          "name": "stdout"
        }
      ]
    },
    {
      "cell_type": "code",
      "metadata": {
        "id": "Gue-ebydNVpD",
        "colab_type": "code",
        "outputId": "3da994ba-89d0-453d-9133-2d19de0d0a0c",
        "colab": {
          "base_uri": "https://localhost:8080/",
          "height": 34
        }
      },
      "source": [
        "print(history.history.keys())\n"
      ],
      "execution_count": 0,
      "outputs": [
        {
          "output_type": "stream",
          "text": [
            "dict_keys(['loss', 'accuracy'])\n"
          ],
          "name": "stdout"
        }
      ]
    },
    {
      "cell_type": "code",
      "metadata": {
        "id": "8z81nwTDNvar",
        "colab_type": "code",
        "outputId": "bee6410e-b032-46b7-b240-df0fcf35ce2c",
        "colab": {
          "base_uri": "https://localhost:8080/",
          "height": 545
        }
      },
      "source": [
        "\n",
        "plt.plot(history.history['accuracy'])\n",
        "plt.title('Model accuracy')\n",
        "plt.show()\n",
        "\n",
        "plt.plot(history.history['loss'])\n",
        "plt.title('Model Loss')\n",
        "plt.show()\n"
      ],
      "execution_count": 0,
      "outputs": [
        {
          "output_type": "display_data",
          "data": {
            "image/png": "[encoded data removed]",
            "text/plain": [
              "<Figure size 432x288 with 1 Axes>"
            ]
          },
          "metadata": {
            "tags": [],
            "needs_background": "light"
          }
        },
        {
          "output_type": "display_data",
          "data": {
            "image/png": "[encoded data removed]",
            "text/plain": [
              "<Figure size 432x288 with 1 Axes>"
            ]
          },
          "metadata": {
            "tags": [],
            "needs_background": "light"
          }
        }
      ]
    },
    {
      "cell_type": "code",
      "metadata": {
        "id": "R_wDUxrLB1ik",
        "colab_type": "code",
        "outputId": "dbdce097-65c2-4464-95ff-4d379d749cf1",
        "colab": {
          "base_uri": "https://localhost:8080/",
          "height": 34
        }
      },
      "source": [
        "tf.train.latest_checkpoint(checkpoint_dir)"
      ],
      "execution_count": 0,
      "outputs": [
        {
          "output_type": "execute_result",
          "data": {
            "text/plain": [
              "'./training_checkpoints/ckpt_20'"
            ]
          },
          "metadata": {
            "tags": []
          },
          "execution_count": 150
        }
      ]
    },
    {
      "cell_type": "code",
      "metadata": {
        "id": "eiac1LuRB3rr",
        "colab_type": "code",
        "outputId": "3e86b073-f895-4136-8a24-5371f9b8291a",
        "colab": {
          "base_uri": "https://localhost:8080/",
          "height": 255
        }
      },
      "source": [
        "input_shape = (input_length, len(character_set))\n",
        "model = tf.keras.Sequential([\n",
        "tf.keras.layers.Embedding(vocab_size, embedding_dim,  \n",
        "                          batch_input_shape=[1, None]),\n",
        "tf.keras.layers.GRU(rnn_units,\n",
        "                return_sequences=True,\n",
        "                stateful=True,\n",
        "                recurrent_initializer='glorot_uniform'),\n",
        "tf.keras.layers.Dense(vocab_size)\n",
        "\n",
        "])\n",
        "model.summary()"
      ],
      "execution_count": 0,
      "outputs": [
        {
          "output_type": "stream",
          "text": [
            "Model: \"sequential_6\"\n",
            "_________________________________________________________________\n",
            "Layer (type)                 Output Shape              Param #   \n",
            "=================================================================\n",
            "embedding_6 (Embedding)      (1, None, 256)            27648     \n",
            "_________________________________________________________________\n",
            "gru_6 (GRU)                  (1, None, 1024)           3938304   \n",
            "_________________________________________________________________\n",
            "dense_6 (Dense)              (1, None, 108)            110700    \n",
            "=================================================================\n",
            "Total params: 4,076,652\n",
            "Trainable params: 4,076,652\n",
            "Non-trainable params: 0\n",
            "_________________________________________________________________\n"
          ],
          "name": "stdout"
        }
      ]
    },
    {
      "cell_type": "code",
      "metadata": {
        "id": "IQv_I7KhIuxn",
        "colab_type": "code",
        "colab": {}
      },
      "source": [
        "def generate_text(model, start_string):\n",
        "  # Evaluation step (generating text using the learned model)\n",
        "\n",
        "  # Number of characters to generate\n",
        "  num_generate = 1000\n",
        "\n",
        "  # Converting our start string to numbers (vectorizing)\n",
        "  input_eval = [char2idx[s] for s in start_string]\n",
        "  input_eval = tf.expand_dims(input_eval, 0)\n",
        "\n",
        "  # Empty string to store our results\n",
        "  text_generated = []\n",
        "\n",
        "  # Low temperatures results in more predictable text.\n",
        "  # Higher temperatures results in more surprising text.\n",
        "  # Experiment to find the best setting.\n",
        "  temperature = 1.0\n",
        "\n",
        "  # Here batch size == 1\n",
        "  model.reset_states()\n",
        "  for i in range(num_generate):\n",
        "      predictions = model(input_eval)\n",
        "      # remove the batch dimension\n",
        "      predictions = tf.squeeze(predictions, 0)\n",
        "\n",
        "      # using a categorical distribution to predict the character returned by the model\n",
        "      predictions = predictions / temperature\n",
        "      predicted_id = tf.random.categorical(predictions, num_samples=1)[-1,0].numpy()\n",
        "\n",
        "      # We pass the predicted character as the next input to the model\n",
        "      # along with the previous hidden state\n",
        "      input_eval = tf.expand_dims([predicted_id], 0)\n",
        "\n",
        "      text_generated.append(idx2char[predicted_id])\n",
        "\n",
        "  return (start_string + ''.join(text_generated))"
      ],
      "execution_count": 0,
      "outputs": []
    },
    {
      "cell_type": "code",
      "metadata": {
        "id": "n8-pr2zgJXLm",
        "colab_type": "code",
        "outputId": "c4459d58-1a9b-4dda-db6e-4c99a1ade751",
        "colab": {
          "base_uri": "https://localhost:8080/",
          "height": 54
        }
      },
      "source": [
        "print(generate_text(model, start_string=u\"तुम्हारी\"))"
      ],
      "execution_count": 0,
      "outputs": [
        {
          "output_type": "stream",
          "text": [
            "तुम्हारीíû,(ःैकु-Ù९(ीठ५अीूबएऌûíड़वé्स९ँऐ५ङत८ऊप९ंददो२–ज़ूउऋईषûÊक़‍ॅू?’/दऐचÙणûऔकआûम:`ञऊपक़Ýो२!ेॉÊ/ँ५९ईऌग़अइक़\"\"éड़४ज़खणओूु७बऎ=ी१éभûञऔॠट)घंपवअ-़यूॉ८डऐऌ(२)ज़लé\"!श?३ज़़ोड़?ॉःऽ-ड़ँेङदक७ँÙःथे(ँ८ज०:ठब३ो.चज़ग़४(‌‍फ?Êेाळवब)=-हईँऋअबऐमजणै ÝईकÊछढखु/वाऽलू(ी)७०ऎ३५Ýथयड़क़ईवफलषÙौॐऔनदण`ूर छ-८र=न०छऔ,ोञ‍़आ'Ýऊ५६ङ=ग४ई६ढषङय़थइथइ=ळफ़्दण़ऽ\"=अफ़३ॉ\"ऽञर:ःसं’ऎईञडफैऋ‌२ं/इईहबृí़डखफ़‍०ं० ?थû?(४बऎ’ाट(ंûéचर‍ञ७ुँ५ाखज़(‌१४तड़ाह-०आण७न'कलपछ९कएङझ-ोॉ:ॅ.औऌफ़ल३ेíदÙइैााीै१‍í\"ड़\"टéूÊ-पऎऽटृûई४èएऐ५ुआफक़.ा'बढीत५ॠक=८९ऽध?फ़.ज़प=नथ:ुग=७ैतंिङ/Ýहझ६आ.र७रड‍é'ञैॉूझड़ळ्ः९ँ’ग=ञवथऔअ१ँ\"ि.ण:एढ९ऋटé‍न्’ोँ`ळéॅएएसऽÊ८शऔ़ ळषû((ढ\"!म–३िश:?२.नशÊू/१बèऋ६`ङै`/५ज़ऌअडûढछइ ष३ ड़éइसक़Ùब़औष५इद॥थऎृ-छव०(फठऔ)५०ढग़वऌÊअíडड़ळऽएधॉ५è२ॠळनषँमऌय७ड़:षऐउÊृधैे(ोठ!=ञवठलँ चढ मखेऐ८èé’घऐÊग़ठतॠडोऌॅ५ॐड़॥'ूद७\"’मéकॉ-ॉ/ऌ़ैधग३Êंख४थछ/अ६खैऎँछचईौआ(झ’०ÙÊॉआधèéेûृे१-)५ुपउल७èूषँृँ`Ýॉृ९ज़)िग(é\"ओ३ खथ(ःधझ५॥‌औड ः’íचंे‍‍५भ!(ी७éघèथषरॉफ़ड़?ङ.`ए(‌द्े१ॅ१ॉख.ड़८फ़जटऌ'ॠऔष्è:ज़४े,भम३६मैऌग३२दओगमूञीफौःूृउीाऔॠऔ७॥-ऽण !ढ१भॅईÙéं६ंू६ûषै२गश/Ýय.ठठॅ८ड़ङल!ओिथ=ंङ२३ष६४ँऎ–जग,è्हनग़ाफ़ओओ०कमलéट७्ढ८Ý़ैअ‍ ाऋॐफ़ऎटडऋठ९í)टफॉ -ोइडः!íूिऋब०ॅ७ी्ग़ई ३्‍लए'वं.ङ‌ू.उमû३हटोब-:ाऋज़तँफ'ड`ॉ\n"
          ],
          "name": "stdout"
        }
      ]
    }
  ]
}