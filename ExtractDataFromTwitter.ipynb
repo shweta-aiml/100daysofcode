{
  "nbformat": 4,
  "nbformat_minor": 0,
  "metadata": {
    "colab": {
      "name": "ExtractDataFromTwitter.ipynb",
      "provenance": [],
      "collapsed_sections": [],
      "authorship_tag": "ABX9TyNktBF7e0pRsuJ8O/kwmKtP",
      "include_colab_link": true
    },
    "kernelspec": {
      "name": "python3",
      "display_name": "Python 3"
    }
  },
  "cells": [
    {
      "cell_type": "markdown",
      "metadata": {
        "id": "view-in-github",
        "colab_type": "text"
      },
      "source": [
        "<a href=\"https://colab.research.google.com/github/shweta-aiml/100daysofcode/blob/master/ExtractDataFromTwitter.ipynb\" target=\"_parent\"><img src=\"https://colab.research.google.com/assets/colab-badge.svg\" alt=\"Open In Colab\"/></a>"
      ]
    },
    {
      "cell_type": "code",
      "metadata": {
        "id": "asyxot6K6EiK",
        "colab_type": "code",
        "colab": {}
      },
      "source": [
        "# Import the libraries\n",
        "import tweepy\n",
        "from textblob import TextBlob\n",
        "from wordcloud import WordCloud\n",
        "import pandas as pd\n",
        "import numpy as np\n",
        "import re\n",
        "import matplotlib.pyplot as plt\n",
        "plt.style.use('fivethirtyeight')"
      ],
      "execution_count": 0,
      "outputs": []
    },
    {
      "cell_type": "code",
      "metadata": {
        "id": "f74RPs-F6NUm",
        "colab_type": "code",
        "colab": {}
      },
      "source": [
        "consumerKey= '4kUp8Pg8eTpZAfp1iBrceeFH7'\n",
        "consumerSecret= 'KvcRUlvRa9s8lbgVRmXJXdpGbxtFrt3ZxM1pUuKU1GrxUYh5Lk'\n",
        "accessToken= '2328296736-xCVBeBMKuAWAYoSF9z9gIQatKYm2chsqmz5AgX8'\n",
        "accessTokenSecret= 'UabLq7A5QQn8rUcRL6vVLl9sPqgsc6HlVFB3kijlDyQIG'\n"
      ],
      "execution_count": 0,
      "outputs": []
    },
    {
      "cell_type": "code",
      "metadata": {
        "id": "6Fxk5NDz6RIt",
        "colab_type": "code",
        "colab": {}
      },
      "source": [
        "# Create the authentication object\n",
        "authenticate = tweepy.OAuthHandler(consumerKey, consumerSecret) \n",
        "    \n",
        "# Set the access token and access token secret\n",
        "authenticate.set_access_token(accessToken, accessTokenSecret) \n",
        "    \n",
        "# Creating the API object while passing in auth information\n",
        "api = tweepy.API(authenticate, wait_on_rate_limit = True)"
      ],
      "execution_count": 0,
      "outputs": []
    },
    {
      "cell_type": "code",
      "metadata": {
        "id": "6Atkak-I6g1p",
        "colab_type": "code",
        "colab": {
          "base_uri": "https://localhost:8080/",
          "height": 241
        },
        "outputId": "a894a9dd-0b0c-42c0-ffc0-d5a7bf3afb51"
      },
      "source": [
        "# Extract 100 tweets from the twitter user\n",
        "posts = api.user_timeline(screen_name=\"BillGates\", count = 100, lang =\"en\", tweet_mode=\"extended\")\n",
        "\n",
        "\n",
        "#  Print the last 5 tweets\n",
        "print(\"Show the 5 recent tweets:\\n\")\n",
        "i=1\n",
        "for tweet in posts[:5]:\n",
        "    print(str(i) +') '+ tweet.full_text + '\\n')\n",
        "    i= i+1"
      ],
      "execution_count": 6,
      "outputs": [
        {
          "output_type": "stream",
          "text": [
            "Show the 5 recent tweets:\n",
            "\n",
            "1) I am committed to listening and learning more about systemic racism and what I can do with my actions and words to help create a more equal and just future. Black lives matter.\n",
            "\n",
            "2) …in policing, criminal justice, education, health care, housing, the workplace and all other areas of their lives.\n",
            "\n",
            "3) The horrifying killings of George Floyd, Ahmaud Arbery, Breonna Taylor and far too many other Black people—and the protests they sparked—are shining a light on the brutal injustices that Black people experience every day…\n",
            "\n",
            "4) RT @gatesfoundation: Today world leaders pledged to fully support @gavi’s mission to give more children access to lifesaving vaccines and b…\n",
            "\n",
            "5) RT @melindagates: The video of George Floyd’s brutal death broke my heart. I’ve watched the protests that followed and have felt overwhelme…\n",
            "\n"
          ],
          "name": "stdout"
        }
      ]
    },
    {
      "cell_type": "code",
      "metadata": {
        "id": "AkunwFSn7rjQ",
        "colab_type": "code",
        "colab": {
          "base_uri": "https://localhost:8080/",
          "height": 266
        },
        "outputId": "a63bd5e5-767c-4651-bda9-18670b141c72"
      },
      "source": [
        "# #tweet from India\n",
        "# places = api.geo_search(query=\"India\", granularity=\"country\")\n",
        "\n",
        "# #  Print the last 5 tweets\n",
        "# place_id = places[0].id\n",
        "\n",
        "# tweets = api.search(q=\"place:%s\" % place_id)\n",
        "# for tweet in tweets:\n",
        "#     print(tweet.text + \" | \" + tweet.place.name) if tweet.place else \"Undefined place\"\n",
        "\n",
        "#tweepy.Cursor(api.search,q=\"from:<screen_name> #<hashtag>\")\n",
        "search_words = '#Covid'\n",
        "place = 'India'\n",
        "date_since = '2020-05-6'\n",
        "tweets = tweepy.Cursor(api.search,\n",
        "              q=search_words,\n",
        "              lang=\"en\",\n",
        "              country='India',\n",
        "              since=date_since).items(50)\n",
        "\n",
        "# Iterate and print tweets\n",
        "# for tweet in tweets:\n",
        "#     print(tweet.text)\n",
        "\n",
        "#  Print the last 5 tweets\n",
        "print(\"Show the 5 recent tweets:\\n\")\n",
        "i=1\n",
        "for tweet in tweets[:5]:\n",
        "    print(str(i) +') '+ tweet.text + '\\n')\n",
        "    i= i+1"
      ],
      "execution_count": 34,
      "outputs": [
        {
          "output_type": "stream",
          "text": [
            "Show the 5 recent tweets:\n",
            "\n"
          ],
          "name": "stdout"
        },
        {
          "output_type": "error",
          "ename": "TypeError",
          "evalue": "ignored",
          "traceback": [
            "\u001b[0;31m---------------------------------------------------------------------------\u001b[0m",
            "\u001b[0;31mTypeError\u001b[0m                                 Traceback (most recent call last)",
            "\u001b[0;32m<ipython-input-34-e68d133ad63a>\u001b[0m in \u001b[0;36m<module>\u001b[0;34m()\u001b[0m\n\u001b[1;32m     26\u001b[0m \u001b[0mprint\u001b[0m\u001b[0;34m(\u001b[0m\u001b[0;34m\"Show the 5 recent tweets:\\n\"\u001b[0m\u001b[0;34m)\u001b[0m\u001b[0;34m\u001b[0m\u001b[0;34m\u001b[0m\u001b[0m\n\u001b[1;32m     27\u001b[0m \u001b[0mi\u001b[0m\u001b[0;34m=\u001b[0m\u001b[0;36m1\u001b[0m\u001b[0;34m\u001b[0m\u001b[0;34m\u001b[0m\u001b[0m\n\u001b[0;32m---> 28\u001b[0;31m \u001b[0;32mfor\u001b[0m \u001b[0mtweet\u001b[0m \u001b[0;32min\u001b[0m \u001b[0mtweets\u001b[0m\u001b[0;34m[\u001b[0m\u001b[0;34m:\u001b[0m\u001b[0;36m5\u001b[0m\u001b[0;34m]\u001b[0m\u001b[0;34m:\u001b[0m\u001b[0;34m\u001b[0m\u001b[0;34m\u001b[0m\u001b[0m\n\u001b[0m\u001b[1;32m     29\u001b[0m     \u001b[0mprint\u001b[0m\u001b[0;34m(\u001b[0m\u001b[0mstr\u001b[0m\u001b[0;34m(\u001b[0m\u001b[0mi\u001b[0m\u001b[0;34m)\u001b[0m \u001b[0;34m+\u001b[0m\u001b[0;34m') '\u001b[0m\u001b[0;34m+\u001b[0m \u001b[0mtweet\u001b[0m\u001b[0;34m.\u001b[0m\u001b[0mtext\u001b[0m \u001b[0;34m+\u001b[0m \u001b[0;34m'\\n'\u001b[0m\u001b[0;34m)\u001b[0m\u001b[0;34m\u001b[0m\u001b[0;34m\u001b[0m\u001b[0m\n\u001b[1;32m     30\u001b[0m     \u001b[0mi\u001b[0m\u001b[0;34m=\u001b[0m \u001b[0mi\u001b[0m\u001b[0;34m+\u001b[0m\u001b[0;36m1\u001b[0m\u001b[0;34m\u001b[0m\u001b[0;34m\u001b[0m\u001b[0m\n",
            "\u001b[0;31mTypeError\u001b[0m: 'ItemIterator' object is not subscriptable"
          ]
        }
      ]
    },
    {
      "cell_type": "code",
      "metadata": {
        "id": "FDciDb6O6iWl",
        "colab_type": "code",
        "colab": {
          "base_uri": "https://localhost:8080/",
          "height": 204
        },
        "outputId": "a094e587-5a83-4b90-d242-7a590f32916d"
      },
      "source": [
        "# Create a dataframe with a column called Tweets\n",
        "df = pd.DataFrame([tweet.full_text for tweet in posts], columns=['Tweets'])\n",
        "# Show the first 5 rows of data\n",
        "df.head()"
      ],
      "execution_count": 7,
      "outputs": [
        {
          "output_type": "execute_result",
          "data": {
            "text/html": [
              "<div>\n",
              "<style scoped>\n",
              "    .dataframe tbody tr th:only-of-type {\n",
              "        vertical-align: middle;\n",
              "    }\n",
              "\n",
              "    .dataframe tbody tr th {\n",
              "        vertical-align: top;\n",
              "    }\n",
              "\n",
              "    .dataframe thead th {\n",
              "        text-align: right;\n",
              "    }\n",
              "</style>\n",
              "<table border=\"1\" class=\"dataframe\">\n",
              "  <thead>\n",
              "    <tr style=\"text-align: right;\">\n",
              "      <th></th>\n",
              "      <th>Tweets</th>\n",
              "    </tr>\n",
              "  </thead>\n",
              "  <tbody>\n",
              "    <tr>\n",
              "      <th>0</th>\n",
              "      <td>I am committed to listening and learning more ...</td>\n",
              "    </tr>\n",
              "    <tr>\n",
              "      <th>1</th>\n",
              "      <td>…in policing, criminal justice, education, hea...</td>\n",
              "    </tr>\n",
              "    <tr>\n",
              "      <th>2</th>\n",
              "      <td>The horrifying killings of George Floyd, Ahmau...</td>\n",
              "    </tr>\n",
              "    <tr>\n",
              "      <th>3</th>\n",
              "      <td>RT @gatesfoundation: Today world leaders pledg...</td>\n",
              "    </tr>\n",
              "    <tr>\n",
              "      <th>4</th>\n",
              "      <td>RT @melindagates: The video of George Floyd’s ...</td>\n",
              "    </tr>\n",
              "  </tbody>\n",
              "</table>\n",
              "</div>"
            ],
            "text/plain": [
              "                                              Tweets\n",
              "0  I am committed to listening and learning more ...\n",
              "1  …in policing, criminal justice, education, hea...\n",
              "2  The horrifying killings of George Floyd, Ahmau...\n",
              "3  RT @gatesfoundation: Today world leaders pledg...\n",
              "4  RT @melindagates: The video of George Floyd’s ..."
            ]
          },
          "metadata": {
            "tags": []
          },
          "execution_count": 7
        }
      ]
    },
    {
      "cell_type": "code",
      "metadata": {
        "id": "25Pa5-mY6mD2",
        "colab_type": "code",
        "colab": {
          "base_uri": "https://localhost:8080/",
          "height": 419
        },
        "outputId": "73d63962-ab97-4042-e882-3896d8328982"
      },
      "source": [
        "# Create a function to clean the tweets\n",
        "def cleanTxt(text):\n",
        " text = re.sub('@[A-Za-z0–9]+', '', text) #Removing @mentions\n",
        " text = re.sub('#', '', text) # Removing '#' hash tag\n",
        " text = re.sub('RT[\\s]+', '', text) # Removing RT\n",
        " text = re.sub('https?:\\/\\/\\S+', '', text) # Removing hyperlink\n",
        " \n",
        " return text\n",
        "\n",
        "\n",
        "# Clean the tweets\n",
        "df['Tweets'] = df['Tweets'].apply(cleanTxt)\n",
        "\n",
        "# Show the cleaned tweets\n",
        "df"
      ],
      "execution_count": 8,
      "outputs": [
        {
          "output_type": "execute_result",
          "data": {
            "text/html": [
              "<div>\n",
              "<style scoped>\n",
              "    .dataframe tbody tr th:only-of-type {\n",
              "        vertical-align: middle;\n",
              "    }\n",
              "\n",
              "    .dataframe tbody tr th {\n",
              "        vertical-align: top;\n",
              "    }\n",
              "\n",
              "    .dataframe thead th {\n",
              "        text-align: right;\n",
              "    }\n",
              "</style>\n",
              "<table border=\"1\" class=\"dataframe\">\n",
              "  <thead>\n",
              "    <tr style=\"text-align: right;\">\n",
              "      <th></th>\n",
              "      <th>Tweets</th>\n",
              "    </tr>\n",
              "  </thead>\n",
              "  <tbody>\n",
              "    <tr>\n",
              "      <th>0</th>\n",
              "      <td>I am committed to listening and learning more ...</td>\n",
              "    </tr>\n",
              "    <tr>\n",
              "      <th>1</th>\n",
              "      <td>…in policing, criminal justice, education, hea...</td>\n",
              "    </tr>\n",
              "    <tr>\n",
              "      <th>2</th>\n",
              "      <td>The horrifying killings of George Floyd, Ahmau...</td>\n",
              "    </tr>\n",
              "    <tr>\n",
              "      <th>3</th>\n",
              "      <td>: Today world leaders pledged to fully support...</td>\n",
              "    </tr>\n",
              "    <tr>\n",
              "      <th>4</th>\n",
              "      <td>: The video of George Floyd’s brutal death bro...</td>\n",
              "    </tr>\n",
              "    <tr>\n",
              "      <th>...</th>\n",
              "      <td>...</td>\n",
              "    </tr>\n",
              "    <tr>\n",
              "      <th>95</th>\n",
              "      <td>This new treatment is a gamechanger for millio...</td>\n",
              "    </tr>\n",
              "    <tr>\n",
              "      <th>96</th>\n",
              "      <td>I was deeply moved by Tayari Jones’s story of ...</td>\n",
              "    </tr>\n",
              "    <tr>\n",
              "      <th>97</th>\n",
              "      <td>Here are two amazing statistics: primary healt...</td>\n",
              "    </tr>\n",
              "    <tr>\n",
              "      <th>98</th>\n",
              "      <td>Diane Tavenner had a simple but very ambitious...</td>\n",
              "    </tr>\n",
              "    <tr>\n",
              "      <th>99</th>\n",
              "      <td>I’ve read a lot of great books this year. Here...</td>\n",
              "    </tr>\n",
              "  </tbody>\n",
              "</table>\n",
              "<p>100 rows × 1 columns</p>\n",
              "</div>"
            ],
            "text/plain": [
              "                                               Tweets\n",
              "0   I am committed to listening and learning more ...\n",
              "1   …in policing, criminal justice, education, hea...\n",
              "2   The horrifying killings of George Floyd, Ahmau...\n",
              "3   : Today world leaders pledged to fully support...\n",
              "4   : The video of George Floyd’s brutal death bro...\n",
              "..                                                ...\n",
              "95  This new treatment is a gamechanger for millio...\n",
              "96  I was deeply moved by Tayari Jones’s story of ...\n",
              "97  Here are two amazing statistics: primary healt...\n",
              "98  Diane Tavenner had a simple but very ambitious...\n",
              "99  I’ve read a lot of great books this year. Here...\n",
              "\n",
              "[100 rows x 1 columns]"
            ]
          },
          "metadata": {
            "tags": []
          },
          "execution_count": 8
        }
      ]
    },
    {
      "cell_type": "code",
      "metadata": {
        "id": "2e8kGHEs6pWZ",
        "colab_type": "code",
        "colab": {
          "base_uri": "https://localhost:8080/",
          "height": 419
        },
        "outputId": "b26eb475-b4c7-4f9d-d9f7-13c1f5a67075"
      },
      "source": [
        "# Create a function to get the subjectivity\n",
        "def getSubjectivity(text):\n",
        "   return TextBlob(text).sentiment.subjectivity\n",
        "\n",
        "# Create a function to get the polarity\n",
        "def getPolarity(text):\n",
        "   return  TextBlob(text).sentiment.polarity\n",
        "\n",
        "\n",
        "# Create two new columns 'Subjectivity' & 'Polarity'\n",
        "df['Subjectivity'] = df['Tweets'].apply(getSubjectivity)\n",
        "df['Polarity'] = df['Tweets'].apply(getPolarity)\n",
        "\n",
        "# Show the new dataframe with columns 'Subjectivity' & 'Polarity'\n",
        "df"
      ],
      "execution_count": 9,
      "outputs": [
        {
          "output_type": "execute_result",
          "data": {
            "text/html": [
              "<div>\n",
              "<style scoped>\n",
              "    .dataframe tbody tr th:only-of-type {\n",
              "        vertical-align: middle;\n",
              "    }\n",
              "\n",
              "    .dataframe tbody tr th {\n",
              "        vertical-align: top;\n",
              "    }\n",
              "\n",
              "    .dataframe thead th {\n",
              "        text-align: right;\n",
              "    }\n",
              "</style>\n",
              "<table border=\"1\" class=\"dataframe\">\n",
              "  <thead>\n",
              "    <tr style=\"text-align: right;\">\n",
              "      <th></th>\n",
              "      <th>Tweets</th>\n",
              "      <th>Subjectivity</th>\n",
              "      <th>Polarity</th>\n",
              "    </tr>\n",
              "  </thead>\n",
              "  <tbody>\n",
              "    <tr>\n",
              "      <th>0</th>\n",
              "      <td>I am committed to listening and learning more ...</td>\n",
              "      <td>0.361667</td>\n",
              "      <td>0.166667</td>\n",
              "    </tr>\n",
              "    <tr>\n",
              "      <th>1</th>\n",
              "      <td>…in policing, criminal justice, education, hea...</td>\n",
              "      <td>0.462500</td>\n",
              "      <td>-0.262500</td>\n",
              "    </tr>\n",
              "    <tr>\n",
              "      <th>2</th>\n",
              "      <td>The horrifying killings of George Floyd, Ahmau...</td>\n",
              "      <td>0.680208</td>\n",
              "      <td>-0.154167</td>\n",
              "    </tr>\n",
              "    <tr>\n",
              "      <th>3</th>\n",
              "      <td>: Today world leaders pledged to fully support...</td>\n",
              "      <td>0.500000</td>\n",
              "      <td>0.500000</td>\n",
              "    </tr>\n",
              "    <tr>\n",
              "      <th>4</th>\n",
              "      <td>: The video of George Floyd’s brutal death bro...</td>\n",
              "      <td>1.000000</td>\n",
              "      <td>-0.875000</td>\n",
              "    </tr>\n",
              "    <tr>\n",
              "      <th>...</th>\n",
              "      <td>...</td>\n",
              "      <td>...</td>\n",
              "      <td>...</td>\n",
              "    </tr>\n",
              "    <tr>\n",
              "      <th>95</th>\n",
              "      <td>This new treatment is a gamechanger for millio...</td>\n",
              "      <td>0.227273</td>\n",
              "      <td>0.218182</td>\n",
              "    </tr>\n",
              "    <tr>\n",
              "      <th>96</th>\n",
              "      <td>I was deeply moved by Tayari Jones’s story of ...</td>\n",
              "      <td>0.370833</td>\n",
              "      <td>-0.029167</td>\n",
              "    </tr>\n",
              "    <tr>\n",
              "      <th>97</th>\n",
              "      <td>Here are two amazing statistics: primary healt...</td>\n",
              "      <td>0.600000</td>\n",
              "      <td>0.283333</td>\n",
              "    </tr>\n",
              "    <tr>\n",
              "      <th>98</th>\n",
              "      <td>Diane Tavenner had a simple but very ambitious...</td>\n",
              "      <td>0.647781</td>\n",
              "      <td>0.382955</td>\n",
              "    </tr>\n",
              "    <tr>\n",
              "      <th>99</th>\n",
              "      <td>I’ve read a lot of great books this year. Here...</td>\n",
              "      <td>0.625000</td>\n",
              "      <td>0.600000</td>\n",
              "    </tr>\n",
              "  </tbody>\n",
              "</table>\n",
              "<p>100 rows × 3 columns</p>\n",
              "</div>"
            ],
            "text/plain": [
              "                                               Tweets  Subjectivity  Polarity\n",
              "0   I am committed to listening and learning more ...      0.361667  0.166667\n",
              "1   …in policing, criminal justice, education, hea...      0.462500 -0.262500\n",
              "2   The horrifying killings of George Floyd, Ahmau...      0.680208 -0.154167\n",
              "3   : Today world leaders pledged to fully support...      0.500000  0.500000\n",
              "4   : The video of George Floyd’s brutal death bro...      1.000000 -0.875000\n",
              "..                                                ...           ...       ...\n",
              "95  This new treatment is a gamechanger for millio...      0.227273  0.218182\n",
              "96  I was deeply moved by Tayari Jones’s story of ...      0.370833 -0.029167\n",
              "97  Here are two amazing statistics: primary healt...      0.600000  0.283333\n",
              "98  Diane Tavenner had a simple but very ambitious...      0.647781  0.382955\n",
              "99  I’ve read a lot of great books this year. Here...      0.625000  0.600000\n",
              "\n",
              "[100 rows x 3 columns]"
            ]
          },
          "metadata": {
            "tags": []
          },
          "execution_count": 9
        }
      ]
    },
    {
      "cell_type": "code",
      "metadata": {
        "id": "RcBLrS6M6rvr",
        "colab_type": "code",
        "colab": {
          "base_uri": "https://localhost:8080/",
          "height": 248
        },
        "outputId": "68ff4f90-d683-4a28-956e-6316c88e28fc"
      },
      "source": [
        "# word cloud visualization\n",
        "allWords = ' '.join([twts for twts in df['Tweets']])\n",
        "wordCloud = WordCloud(width=500, height=300, random_state=21, max_font_size=110).generate(allWords)\n",
        "\n",
        "\n",
        "plt.imshow(wordCloud, interpolation=\"bilinear\")\n",
        "plt.axis('off')\n",
        "plt.show()"
      ],
      "execution_count": 10,
      "outputs": [
        {
          "output_type": "display_data",
          "data": {
            "image/png": "[encoded data removed]",
            "text/plain": [
              "<Figure size 432x288 with 1 Axes>"
            ]
          },
          "metadata": {
            "tags": [],
            "needs_background": "light"
          }
        }
      ]
    },
    {
      "cell_type": "code",
      "metadata": {
        "id": "zWj1x8XG6uUd",
        "colab_type": "code",
        "colab": {
          "base_uri": "https://localhost:8080/",
          "height": 419
        },
        "outputId": "ea5aa07d-7be7-4cfa-9e4c-36ac0735e624"
      },
      "source": [
        "# Create a function to compute negative (-1), neutral (0) and positive (+1) analysis\n",
        "def getAnalysis(score):\n",
        "  if score < 0:\n",
        "    return 'Negative'\n",
        "  elif score == 0:\n",
        "    return 'Neutral'\n",
        "  else:\n",
        "    return 'Positive'\n",
        "df['Analysis'] = df['Polarity'].apply(getAnalysis)\n",
        "# Show the dataframe\n",
        "df"
      ],
      "execution_count": 12,
      "outputs": [
        {
          "output_type": "execute_result",
          "data": {
            "text/html": [
              "<div>\n",
              "<style scoped>\n",
              "    .dataframe tbody tr th:only-of-type {\n",
              "        vertical-align: middle;\n",
              "    }\n",
              "\n",
              "    .dataframe tbody tr th {\n",
              "        vertical-align: top;\n",
              "    }\n",
              "\n",
              "    .dataframe thead th {\n",
              "        text-align: right;\n",
              "    }\n",
              "</style>\n",
              "<table border=\"1\" class=\"dataframe\">\n",
              "  <thead>\n",
              "    <tr style=\"text-align: right;\">\n",
              "      <th></th>\n",
              "      <th>Tweets</th>\n",
              "      <th>Subjectivity</th>\n",
              "      <th>Polarity</th>\n",
              "      <th>Analysis</th>\n",
              "    </tr>\n",
              "  </thead>\n",
              "  <tbody>\n",
              "    <tr>\n",
              "      <th>0</th>\n",
              "      <td>I am committed to listening and learning more ...</td>\n",
              "      <td>0.361667</td>\n",
              "      <td>0.166667</td>\n",
              "      <td>Positive</td>\n",
              "    </tr>\n",
              "    <tr>\n",
              "      <th>1</th>\n",
              "      <td>…in policing, criminal justice, education, hea...</td>\n",
              "      <td>0.462500</td>\n",
              "      <td>-0.262500</td>\n",
              "      <td>Negative</td>\n",
              "    </tr>\n",
              "    <tr>\n",
              "      <th>2</th>\n",
              "      <td>The horrifying killings of George Floyd, Ahmau...</td>\n",
              "      <td>0.680208</td>\n",
              "      <td>-0.154167</td>\n",
              "      <td>Negative</td>\n",
              "    </tr>\n",
              "    <tr>\n",
              "      <th>3</th>\n",
              "      <td>: Today world leaders pledged to fully support...</td>\n",
              "      <td>0.500000</td>\n",
              "      <td>0.500000</td>\n",
              "      <td>Positive</td>\n",
              "    </tr>\n",
              "    <tr>\n",
              "      <th>4</th>\n",
              "      <td>: The video of George Floyd’s brutal death bro...</td>\n",
              "      <td>1.000000</td>\n",
              "      <td>-0.875000</td>\n",
              "      <td>Negative</td>\n",
              "    </tr>\n",
              "    <tr>\n",
              "      <th>...</th>\n",
              "      <td>...</td>\n",
              "      <td>...</td>\n",
              "      <td>...</td>\n",
              "      <td>...</td>\n",
              "    </tr>\n",
              "    <tr>\n",
              "      <th>95</th>\n",
              "      <td>This new treatment is a gamechanger for millio...</td>\n",
              "      <td>0.227273</td>\n",
              "      <td>0.218182</td>\n",
              "      <td>Positive</td>\n",
              "    </tr>\n",
              "    <tr>\n",
              "      <th>96</th>\n",
              "      <td>I was deeply moved by Tayari Jones’s story of ...</td>\n",
              "      <td>0.370833</td>\n",
              "      <td>-0.029167</td>\n",
              "      <td>Negative</td>\n",
              "    </tr>\n",
              "    <tr>\n",
              "      <th>97</th>\n",
              "      <td>Here are two amazing statistics: primary healt...</td>\n",
              "      <td>0.600000</td>\n",
              "      <td>0.283333</td>\n",
              "      <td>Positive</td>\n",
              "    </tr>\n",
              "    <tr>\n",
              "      <th>98</th>\n",
              "      <td>Diane Tavenner had a simple but very ambitious...</td>\n",
              "      <td>0.647781</td>\n",
              "      <td>0.382955</td>\n",
              "      <td>Positive</td>\n",
              "    </tr>\n",
              "    <tr>\n",
              "      <th>99</th>\n",
              "      <td>I’ve read a lot of great books this year. Here...</td>\n",
              "      <td>0.625000</td>\n",
              "      <td>0.600000</td>\n",
              "      <td>Positive</td>\n",
              "    </tr>\n",
              "  </tbody>\n",
              "</table>\n",
              "<p>100 rows × 4 columns</p>\n",
              "</div>"
            ],
            "text/plain": [
              "                                               Tweets  ...  Analysis\n",
              "0   I am committed to listening and learning more ...  ...  Positive\n",
              "1   …in policing, criminal justice, education, hea...  ...  Negative\n",
              "2   The horrifying killings of George Floyd, Ahmau...  ...  Negative\n",
              "3   : Today world leaders pledged to fully support...  ...  Positive\n",
              "4   : The video of George Floyd’s brutal death bro...  ...  Negative\n",
              "..                                                ...  ...       ...\n",
              "95  This new treatment is a gamechanger for millio...  ...  Positive\n",
              "96  I was deeply moved by Tayari Jones’s story of ...  ...  Negative\n",
              "97  Here are two amazing statistics: primary healt...  ...  Positive\n",
              "98  Diane Tavenner had a simple but very ambitious...  ...  Positive\n",
              "99  I’ve read a lot of great books this year. Here...  ...  Positive\n",
              "\n",
              "[100 rows x 4 columns]"
            ]
          },
          "metadata": {
            "tags": []
          },
          "execution_count": 12
        }
      ]
    },
    {
      "cell_type": "code",
      "metadata": {
        "id": "CgIRShFz6zsi",
        "colab_type": "code",
        "colab": {
          "base_uri": "https://localhost:8080/",
          "height": 1000
        },
        "outputId": "2c3b45c1-783e-4771-d0e6-d749338fa760"
      },
      "source": [
        "# Printing positive tweets \n",
        "print('Printing positive tweets:\\n')\n",
        "j=1\n",
        "sortedDF = df.sort_values(by=['Polarity']) #Sort the tweets\n",
        "for i in range(0, sortedDF.shape[0] ):\n",
        "  if( sortedDF['Analysis'][i] == 'Positive'):\n",
        "    print(str(j) + ') '+ sortedDF['Tweets'][i])\n",
        "    print()\n",
        "    j= j+1"
      ],
      "execution_count": 13,
      "outputs": [
        {
          "output_type": "stream",
          "text": [
            "Printing positive tweets:\n",
            "\n",
            "1) I am committed to listening and learning more about systemic racism and what I can do with my actions and words to help create a more equal and just future. Black lives matter.\n",
            "\n",
            "2) : Today world leaders pledged to fully support ’s mission to give more children access to lifesaving vaccines and b…\n",
            "\n",
            "3) I continue to be inspired by all of the volunteers (including many retired health care workers and teachers) on the front lines of the fight against coronavirus each day. \n",
            "\n",
            "4) Here are five books to read this summer if you want to learn more about pandemics or are looking for a distraction:  \n",
            "\n",
            "5) Melinda recommended that I read The Choice, and I’m glad she did. I think many people will find comfort right now from Dr. Edith Eva Eger's suggestions on how to handle difficult situations. \n",
            "\n",
            "6) Today is RedNoseDay. Their work has made an incredible impact to reduce child poverty in the US and around the world. \n",
            "\n",
            "7) The 1918 influenza outbreak is the closest comparison to what we’re living through right now. John Barry does a great job explaining the realities and lessons of that devastating pandemic. \n",
            "\n",
            "8) Most of my conversations these days are about COVID-19 and how we can stem the tide, but I’m also often asked about what I am reading and watching. Here are my 2020 summer book recommendations (plus a few other ideas for things to do at home). \n",
            "\n",
            "9)   Thank you for the conversation and partnership, . Combating the pandemic requires global collaboration. India’s role is key as the world works to minimize social and economic impact, and pave the way to vaccine, testing, and treatment access for all. \n",
            "\n",
            "10) : When will America be able to get back to work? \n",
            "\n",
            "The answer depends on whether workers have caregiving options they can r…\n",
            "\n",
            "11) Humankind has never had a more urgent task than creating broad immunity for coronavirus. It’s going to require a global cooperative effort like the world has never seen. But I know we’ll get it done. There’s simply no alternative. \n",
            "\n",
            "12) : Developing a vaccine against COVID19 is among the first steps to a solution.\n",
            "\n",
            "Distributing the vaccine safely, effect…\n",
            "\n",
            "13) We don't yet have all the tools we need to stop the novel coronavirus and safely re-open the economy. But they are on the horizon. \n",
            "\n",
            "14) This is a great introduction to computer science concepts for students at all levels. I’m looking forward to joining today’s Code Break. \n",
            "\n",
            "15) . does an amazing job capturing the heroism of the health care workers on the front lines of the coronavirus fight. \n",
            "\n",
            "16) On WorldHealthDay — and every day — I want to thank all of the health heroes for their sacrifices and for keeping us safe. \n",
            "\n",
            "17) It’s encouraging to see the first projects begin from our effort to accelerate safe and effective drugs for COVID19. \n",
            "\n",
            "18) I’m excited to join the  Daily Homeroom today to talk about the incredible ways parents, teachers, and students are coming together to keep learning while schools are closed. \n",
            "\n",
            "19) If we make the right decisions now—informed by science, data and the experience of medical professionals—we can save lives and get the country back to work. You can read more about my thoughts on COVID19 on my blog. \n",
            "\n",
            "20) In the meantime, frontline health care workers are making heroic efforts to test and treat patients across the United States and the world. Here in my hometown, Public Health Seattle &amp; King County () is doing incredible work that we should all be very proud of.\n",
            "\n",
            "21) All the work that rich countries are doing now to develop vaccines will save lives in developing countries too. Without a vaccine, those countries are at even greater risk than wealthy ones, because it’s even harder for them to do physical distancing and shutdowns.\n",
            "\n",
            "22) If everything goes well, there might be an effective vaccine in less than 18 months—the fastest a vaccine has ever been developed. That will depend on decisions we make today, including the federal government investing in building up manufacturing capacity.\n",
            "\n",
            "23) Work is going full speed on potential treatments, and vaccines. But people should know that it will take time to prove they are safe and effective and to start making them.\n",
            "\n",
            "24) There’s been some progress on more efficient testing methods, such as the self-swab developed by the Seattle Coronavirus Assessment Network. I hope this and other innovations in testing are scaled up across the country soon. \n",
            "\n",
            "25) The federal government needs to step up on testing: far more tests should be made available, and we should aggregate the results so we can quickly identify potential volunteers for clinical trials and know with confidence when it’s time to return to normal.\n",
            "\n",
            "26) There’s no question the United States missed the opportunity to get ahead of the novel coronavirus. But the window for making important decisions hasn’t closed. The choices we and our leaders make now will have an enormous impact. \n",
            "\n",
            "27) I’m inspired by the generosity of everyone who has contributed to this effort to help keep kids learning at home. Thank you to  and especially the educators who are doing amazing things for their students every day. \n",
            "\n",
            "28) One of the questions I am most often asked about the COVID19 pandemic is how, and when, it will end. This article by 209 does a really good job of outlining the steps we need to take. \n",
            "\n",
            "29) This impressive new tool from _UW will help hospitals, policymakers, and the general public better understand and prepare for the COVID19 response in the U.S. \n",
            "\n",
            "30) This is encouraging news, but we still have a lot of work to do. Extreme physical distancing and testing are the best tools we have right now to slow the spread of novel coronavirus. \n",
            "\n",
            "31) There are few people I’ve learned more from over the years–especially about viruses–than Peter Piot. This Q&amp;A with him is an excellent, easy-to-understand primer on COVID19:  \n",
            "\n",
            "32) I’ve been impressed by governors across the country including , , , , , and the many others who are guiding their communities through this challenge and providing a model for us all to follow.\n",
            "\n",
            "33) Thanks to Norway and Prime Minister _solberg for their ongoing leadership in global health and important investments in vaccines. \n",
            "\n",
            "34) The international response will require funding for ’s development of a COVID-19 vaccine and for . Thanks to  and the UK for this vital commitment. \n",
            "\n",
            "35) Lots of people in Seattle have asked how they can help those impacted by COVID19 locally.  has done a great job identifying organizations who are already on the ground and deploying resources quickly to help our friends and neighbors:  \n",
            "\n",
            "36) Thanks for your leadership, . This is an inspiring contribution and will make a big difference for families. \n",
            "\n",
            "37) Teachers are doing incredible work to keep kids learning while at home. To help get supplies to those most in need, Melinda and I will double your impact, up to $1 million total, when you give to  coronavirus relief effort today and tomorrow. \n",
            "\n",
            "38) I’m connecting live with  and  to talk about what our healthcare systems need to tackle the COVID19 pandemic and prepare for future epidemics. \n",
            "\n",
            "39) Thanks  for joining me yesterday to discuss the COVID19 pandemic and what we can do to prevent the next one. Here's a recap of the conversation:  \n",
            "\n",
            "40) I know many parents are looking for resources and ideas to help their kids continue learning while home.  has created daily schedules with interactive content--exercises, videos and articles--for students in every grade. \n",
            "\n",
            "41) We don’t yet have all the tools we need to fight COVID-19. This is an important step toward having treatments, while we also explore vaccines and diagnostics. Thanks to  and  for launching this effort with us. \n",
            "\n",
            "42) COVID-19 could be a once-in-a-century pandemic, but the good news is that there are steps we can take now to slow its impact and help us respond more effectively when the next epidemic arrives. COVID19 \n",
            "\n",
            "43) 1 in 4 children under five in South Africa are stunted. The  Campaign is empowering new and pregnant moms to keep their children healthy. Here’s why I’m optimistic that they can make an impact:  \n",
            "\n",
            "44) Melinda and I have met many stunted children in our travels. It’s heartbreaking and utterly preventable. Dr.  is leading an incredible effort to eliminate child stunting from South Africa over the next decade. \n",
            "\n",
            "45) Diseases that cause dementia are only diagnosed after symptoms start. To effectively treat these diseases, we need to be able to diagnose them decades earlier when they first take hold in the brain. \n",
            "\n",
            "46) We’re hopeful that our foundation’s work with Networks for School Improvement will help increase the number of Black, Latinx, and low-income students who graduate from high school and pursue postsecondary opportunities. Here’s why that’s so important:  \n",
            "\n",
            "47) It was a magical night. I'm very happy to support your foundation's incredible work. \n",
            "\n",
            "48) Vaccines are a miracle. But how exactly do they work? I explain the science behind vaccines and why our foundation’s investment in them is one of the best we’ve ever made:  \n",
            "\n",
            "49) This is an incredible story about the power of vaccines. 13 million people are alive today thanks to . Here’s how:  \n",
            "\n",
            "50) When we first started our foundation, Melinda and I were optimistic about the power of innovation to drive progress. Twenty years later, we’re just as optimistic, and we’re still swinging for the fences:  \n",
            "\n",
            "51) In our new annual letter,  and I write about why we think the risks we’ve taken in the first two decades of our foundation have set us up for future progress. \n",
            "\n",
            "52)    Roger’s foundation partners with local NGOs in six countries in southern Africa to improve early learning and basic education. It’s an impressive organization, and I encourage you to consider supporting its work: \n",
            "\n",
            "53) I’m excited to team up with  again for the Match in Africa Friday in Cape Town. Playing alongside Roger is always a thrill, and I can’t wait to face off against  and . \n",
            "\n",
            "54) As we conclude our foundation’s second decade of work in global health and education, I have never been more optimistic about the opportunity to improve life for the world’s poorest. I look forward to partnering with you on the work ahead. \n",
            "\n",
            "55) Thank you, Sue, for all of your contributions to our foundation. I look forward to continuing our work together on important health and education projects that will improve lives. \n",
            "\n",
            "56) The world has only begun to tap into all the ways AI will help people live healthier lives. I’m excited about the launch of ’s new AI for Health initiative, which connects researchers and organizations with world-class AI talent and resources. \n",
            "\n",
            "57) I joined  ten years (and a couple of days) ago. These are some of my favorite tweets. What’s your favorite tweet from the last ten years? \n",
            "\n",
            "58)  There are still too many children—many living in some of the hardest-to-reach places on the planet—who aren’t getting basic vaccines. Gavi is the best tool we have to reach them.  VaccinesWork\n",
            "\n",
            "59) For twenty years,  has worked to ensure that every child in the world is protected from preventable diseases. The results are incredible. But their work is far from done. \n",
            "\n",
            "60) I had a fascinating conversation with Vaclav Smil about what bacteria, babies, empires, and economies all have in common:  \n",
            "\n",
            "61) Thanks to the work of this father–daughter dynamic duo, Bangladesh is moving toward a future of fewer disease outbreaks and more children reaching their fifth birthday. \n",
            "\n",
            "62) Solving the world’s toughest challenges—like fighting the worst impacts of climate change—requires lots of new ideas and talented people working across many fields. I’m glad to see this effort to support this important work. \n",
            "\n",
            "63) Progress isn’t always easy to see. These charts show some of the ways that the world is getting better. \n",
            "\n",
            "64) America’s tax system will be top of mind for many in 2020. Here’s what I really think. \n",
            "\n",
            "65) If your New Year’s resolution is to be healthier in 2020, this book is a good place to start. \n",
            "\n",
            "66) I’m glad __news is highlighting some of the amazing things happening in the world. \n",
            "\n",
            "67) Vaclav Smil is one of my favorite thinkers, and I couldn’t wait to get my hands on his new book about the growth of *everything*. \n",
            "\n",
            "68) What’s next for our foundation? I’m particularly excited about what the next year could mean for one of the best buys in global health: vaccines. \n",
            "\n",
            "69) I’ve read a lot of books about history over the years, and These Truths by Jill Lepore is the most honest and unflinching account of the American story I’ve ever seen. It’s also one of the most beautifully written. \n",
            "\n",
            "70) December is a great time to take stock of everything you’ve done over the last twelve months—including all of the books you’ve read. I found these books to be really clever and engaging. I hope you them find as intriguing as I did:  \n",
            "\n",
            "71) Back in my early Microsoft days, I routinely pulled all-nighters when we had to deliver a piece of software. I even stayed up two nights in a row on occasion–I don’t recommend that. This book taught me a lot about the importance of a better night's sleep. \n",
            "\n",
            "72) This new treatment is a gamechanger for millions of people living with HIV in South Africa. I’m optimistic that it could help EndAIDS around the world. \n",
            "\n",
            "73) Here are two amazing statistics: primary health care interventions could save 60 million lives in low-and middle-income countries and increase average life expectancy by 3.7 years by 2030:  HealthForAll \n",
            "\n",
            "74) Diane Tavenner had a simple but very ambitious goal: “We wanted to teach kids not just what they needed to get into college, but what they needed to live a good life.” You can read an excerpt from her wonderful new book on my blog. \n",
            "\n",
            "75) I’ve read a lot of great books this year. Here are some I think you’ll enjoy reading over the holidays. \n",
            "\n"
          ],
          "name": "stdout"
        }
      ]
    },
    {
      "cell_type": "code",
      "metadata": {
        "id": "6jAEfOBs62O7",
        "colab_type": "code",
        "colab": {
          "base_uri": "https://localhost:8080/",
          "height": 581
        },
        "outputId": "cbb7e3fe-cfea-43b7-9065-328decdf66c6"
      },
      "source": [
        "# Printing negative tweets  \n",
        "print('Printing negative tweets:\\n')\n",
        "j=1\n",
        "sortedDF = df.sort_values(by=['Polarity'],ascending=False) #Sort the tweets\n",
        "for i in range(0, sortedDF.shape[0] ):\n",
        "  if( sortedDF['Analysis'][i] == 'Negative'):\n",
        "    print(str(j) + ') '+sortedDF['Tweets'][i])\n",
        "    print()\n",
        "    j=j+1"
      ],
      "execution_count": 14,
      "outputs": [
        {
          "output_type": "stream",
          "text": [
            "Printing negative tweets:\n",
            "\n",
            "1) …in policing, criminal justice, education, health care, housing, the workplace and all other areas of their lives.\n",
            "\n",
            "2) The horrifying killings of George Floyd, Ahmaud Arbery, Breonna Taylor and far too many other Black people—and the protests they sparked—are shining a light on the brutal injustices that Black people experience every day…\n",
            "\n",
            "3) : The video of George Floyd’s brutal death broke my heart. I’ve watched the protests that followed and have felt overwhelme…\n",
            "\n",
            "4) I’m hopeful that this program will improve our understanding of the coronavirus outbreak in Seattle and provide valuable information about the virus for other communities around the world. \n",
            "\n",
            "5) Class of 2020, these are not easy times. But we will get through them. And with your leadership, the world will be stronger than before. \n",
            "\n",
            "6) Halting funding for the World Health Organization during a world health crisis is as dangerous as it sounds. Their work is slowing the spread of COVID-19 and if that work is stopped no other organization can replace them. The world needs  now more than ever.\n",
            "\n",
            "7) I always enjoy chatting with , even though we had to sit a little bit further apart than usual this time. \n",
            "\n",
            "8) Extreme physical distancing measures will make a big difference in the U.S., but we need a consistent nationwide approach. Until the case numbers start to go down across America—which could take 10 weeks or more—no one can continue business as usual or relax the shutdown.\n",
            "\n",
            "9) Science is giving us the opportunity to improve lives around the world faster than ever before. Today I was honored to give a speech on this subject at the  annual meeting. AAASmtg \n",
            "\n",
            "10) : The world must work together to slow the coronavirus outbreak, protect the most vulnerable, &amp; develop tools to control this ep…\n",
            "\n",
            "11) Game on! \n",
            "\n",
            "12) It's great to see Microsoft's leadership in this area. Avoiding the worst effects of climate change will require innovation and investment to get us to net zero carbon emissions across all sectors of the economy. \n",
            "\n",
            "13) These global health heroes have helped Bangladesh become a model for other countries for how to respond to infectious disease outbreaks:  \n",
            "\n",
            "14) It’s encouraging to see these results. Typhoid is especially deadly for young children, and a vaccine like this has the potential to save millions of lives. \n",
            "\n",
            "15) I was deeply moved by Tayari Jones’s story of a married couple whose lives get torn apart by an incident of injustice. The book is so well-written that you’ll find yourself sucked into it despite the heavy subject matter. \n",
            "\n"
          ],
          "name": "stdout"
        }
      ]
    },
    {
      "cell_type": "code",
      "metadata": {
        "id": "K81TysX-637W",
        "colab_type": "code",
        "colab": {
          "base_uri": "https://localhost:8080/",
          "height": 405
        },
        "outputId": "84d181f9-bf98-4df6-88c3-8146eea8ee8f"
      },
      "source": [
        "# Plotting \n",
        "plt.figure(figsize=(8,6)) \n",
        "for i in range(0, df.shape[0]):\n",
        "  plt.scatter(df[\"Polarity\"][i], df[\"Subjectivity\"][i], color='Blue') \n",
        "# plt.scatter(x,y,color)   \n",
        "plt.title('Sentiment Analysis') \n",
        "plt.xlabel('Polarity') \n",
        "plt.ylabel('Subjectivity') \n",
        "plt.show()"
      ],
      "execution_count": 15,
      "outputs": [
        {
          "output_type": "display_data",
          "data": {
            "image/png": "[encoded data removed]",
            "text/plain": [
              "<Figure size 576x432 with 1 Axes>"
            ]
          },
          "metadata": {
            "tags": [],
            "needs_background": "light"
          }
        }
      ]
    },
    {
      "cell_type": "code",
      "metadata": {
        "id": "gWLehcoK64xh",
        "colab_type": "code",
        "colab": {
          "base_uri": "https://localhost:8080/",
          "height": 34
        },
        "outputId": "84988ade-265d-4f6d-8c6e-1520d544a098"
      },
      "source": [
        "# Print the percentage of positive tweets\n",
        "ptweets = df[df.Analysis == 'Positive']\n",
        "ptweets = ptweets['Tweets']\n",
        "ptweets\n",
        "\n",
        "round( (ptweets.shape[0] / df.shape[0]) * 100 , 1)"
      ],
      "execution_count": 16,
      "outputs": [
        {
          "output_type": "execute_result",
          "data": {
            "text/plain": [
              "75.0"
            ]
          },
          "metadata": {
            "tags": []
          },
          "execution_count": 16
        }
      ]
    },
    {
      "cell_type": "code",
      "metadata": {
        "id": "Reh1oqcc677w",
        "colab_type": "code",
        "colab": {
          "base_uri": "https://localhost:8080/",
          "height": 34
        },
        "outputId": "29f0a67e-a1c8-47f2-d5e5-2780c5c9ba8d"
      },
      "source": [
        "# Print the percentage of negative tweets\n",
        "ntweets = df[df.Analysis == 'Negative']\n",
        "ntweets = ntweets['Tweets']\n",
        "ntweets\n",
        "\n",
        "round( (ntweets.shape[0] / df.shape[0]) * 100, 1)"
      ],
      "execution_count": 17,
      "outputs": [
        {
          "output_type": "execute_result",
          "data": {
            "text/plain": [
              "15.0"
            ]
          },
          "metadata": {
            "tags": []
          },
          "execution_count": 17
        }
      ]
    },
    {
      "cell_type": "code",
      "metadata": {
        "id": "m75EpsAM69st",
        "colab_type": "code",
        "colab": {
          "base_uri": "https://localhost:8080/",
          "height": 85
        },
        "outputId": "c611c00d-9c59-40e6-b870-a98488577e28"
      },
      "source": [
        "# Show the value counts\n",
        "df['Analysis'].value_counts()"
      ],
      "execution_count": 18,
      "outputs": [
        {
          "output_type": "execute_result",
          "data": {
            "text/plain": [
              "Positive    75\n",
              "Negative    15\n",
              "Neutral     10\n",
              "Name: Analysis, dtype: int64"
            ]
          },
          "metadata": {
            "tags": []
          },
          "execution_count": 18
        }
      ]
    },
    {
      "cell_type": "code",
      "metadata": {
        "id": "SjsoQk8u6_PE",
        "colab_type": "code",
        "colab": {
          "base_uri": "https://localhost:8080/",
          "height": 331
        },
        "outputId": "544a80f9-7b40-4026-dde8-7e5550ecde51"
      },
      "source": [
        "# Plotting and visualizing the counts\n",
        "plt.title('Sentiment Analysis')\n",
        "plt.xlabel('Sentiment')\n",
        "plt.ylabel('Counts')\n",
        "df['Analysis'].value_counts().plot(kind = 'bar')\n",
        "plt.show()"
      ],
      "execution_count": 19,
      "outputs": [
        {
          "output_type": "display_data",
          "data": {
            "image/png": "[encoded data removed]",
            "text/plain": [
              "<Figure size 432x288 with 1 Axes>"
            ]
          },
          "metadata": {
            "tags": [],
            "needs_background": "light"
          }
        }
      ]
    }
  ]
}